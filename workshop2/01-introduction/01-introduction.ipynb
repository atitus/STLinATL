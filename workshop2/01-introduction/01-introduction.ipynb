{
 "cells": [
  {
   "cell_type": "markdown",
   "metadata": {},
   "source": [
    "# Workshop: Data-driven modeling in applied math and science"
   ]
  },
  {
   "cell_type": "markdown",
   "metadata": {},
   "source": [
    "### Aaron Titus"
   ]
  },
  {
   "cell_type": "markdown",
   "metadata": {},
   "source": [
    "### STLinATL at Woodward Academy, August 1-2, 2020."
   ]
  },
  {
   "cell_type": "markdown",
   "metadata": {},
   "source": [
    "# Introduction to the Workshop"
   ]
  },
  {
   "cell_type": "markdown",
   "metadata": {},
   "source": [
    "## Description"
   ]
  },
  {
   "cell_type": "markdown",
   "metadata": {},
   "source": [
    "We have moved from the information age into the data analytics age. Data-driven modeling (or empirical modeling) is describing a system through curve fitting and general data  analysis. There may or may not be a theoretical description of the system, and the model is based solely on measurement and observation. Curve-fitting gives a mathematical description (i.e. \"the model\") and can be used to make predictions. In this hands-on workshop, you will use Python to fit curves to experimental or observational data in a breadth of applications including allometry (e.g. growth of organisms) and model rockets, for example. With no previous coding required, this can be a gentle introduction to coding and its application in data science. Although a spreadsheet is useful for quite linear trendlines and a few other functions, it does not scale to general data-driven modeling."
   ]
  },
  {
   "cell_type": "markdown",
   "metadata": {},
   "source": [
    "# Two Tasks To Do"
   ]
  },
  {
   "cell_type": "markdown",
   "metadata": {},
   "source": [
    "<img src=\"https://github.com/atitus/STLinATL/raw/master/workshop1/01-introduction/work.png\">\n",
    "\n",
    "<br>\n",
    "\n",
    "<img src=\"https://github.com/atitus/STLinATL/raw/master/workshop1/01-introduction/shop.png\">\n"
   ]
  },
  {
   "cell_type": "markdown",
   "metadata": {},
   "source": [
    "# Motivation"
   ]
  },
  {
   "cell_type": "code",
   "execution_count": null,
   "metadata": {},
   "outputs": [],
   "source": [
    "from IPython.display import YouTubeVideo\n",
    "YouTubeVideo('nKIu9yen5nc')"
   ]
  },
  {
   "cell_type": "markdown",
   "metadata": {},
   "source": [
    "# \"Education is not the filling of a pail, but the lighting of a fire.\""
   ]
  },
  {
   "cell_type": "markdown",
   "metadata": {},
   "source": [
    "<img src=\"https://github.com/atitus/STLinATL/raw/master/workshop1/01-introduction/chile.jpg\" align=\"right\" width=\"800\">\n",
    "\n",
    "**paraphrase of Plutarch, *On Listening* in the first century**\n",
    "\n",
    "(photo credit: Brad Barlow)"
   ]
  },
  {
   "cell_type": "markdown",
   "metadata": {},
   "source": [
    "# Background"
   ]
  },
  {
   "cell_type": "markdown",
   "metadata": {},
   "source": [
    "## 1996-1997 WebAssign"
   ]
  },
  {
   "cell_type": "markdown",
   "metadata": {},
   "source": [
    "<img src=\"https://github.com/atitus/STLinATL/raw/master/workshop1/01-introduction/WebAssignLogo.jpg\" width=800><br>"
   ]
  },
  {
   "cell_type": "markdown",
   "metadata": {},
   "source": [
    "## Matter & Interactions; VPython and GlowScript"
   ]
  },
  {
   "cell_type": "markdown",
   "metadata": {},
   "source": [
    "I work with Ruth Chabay and Bruce Sherwood, authors *Matter & Interactions*, a calculus-based introductory physics textbook. Chabay and Sherwood also co-developed VPython and GlowScript. Chabay and Sherwood are leaders for integrating computing into introductory physics. <img src=\"https://github.com/atitus/STLinATL/raw/master/workshop1/01-introduction/mandi-4e.jpg\" width=400 align=\"right\" valign=\"middle\">"
   ]
  },
  {
   "cell_type": "markdown",
   "metadata": {},
   "source": [
    "## VPython and GlowScript"
   ]
  },
  {
   "cell_type": "markdown",
   "metadata": {},
   "source": [
    "I introduce coding in introductory physics using VPython and Glowscript. Here is a [binary star system](https://www.glowscript.org/#/user/GlowScriptDemos/folder/Examples/program/BinaryStar-VPython).\n",
    "\n",
    "This is the program.\n",
    "\n",
    "```python\n",
    "GlowScript 3.0 VPython\n",
    "scene.caption = \"\"\"In GlowScript programs:\n",
    "To rotate \"camera\", drag with right button or Ctrl-drag.\n",
    "To zoom, drag with middle button or Alt/Option depressed, or use scroll wheel.\n",
    "  On a two-button mouse, middle is left + right.\n",
    "To pan left/right and up/down, Shift-drag.\n",
    "Touch screen: pinch/extend to zoom, swipe or two-finger rotate.\"\"\"\n",
    "scene.forward = vector(0,-.3,-1)\n",
    "\n",
    "G = 6.7e-11 # Newton gravitational constant\n",
    "\n",
    "giant = sphere(pos=vector(-1e11,0,0), radius=2e10, color=color.red, \n",
    "                make_trail=True, trail_type='points', interval=10, retain=50)\n",
    "giant.mass = 2e30\n",
    "giant.p = vector(0, 0, -1e4) * giant.mass\n",
    "\n",
    "dwarf = sphere(pos=vector(1.5e11,0,0), radius=1e10, color=color.yellow,\n",
    "                make_trail=True, interval=10, retain=50)\n",
    "dwarf.mass = 1e30\n",
    "dwarf.p = -giant.p\n",
    "\n",
    "dt = 1e5\n",
    "while True:\n",
    "    rate(200)\n",
    "    r = dwarf.pos - giant.pos\n",
    "    F = G * giant.mass * dwarf.mass * r.hat / mag(r)**2\n",
    "    giant.p = giant.p + F*dt\n",
    "    dwarf.p = dwarf.p - F*dt\n",
    "    giant.pos = giant.pos + (giant.p/giant.mass) * dt\n",
    "    dwarf.pos = dwarf.pos + (dwarf.p/dwarf.mass) * dt\n",
    "```"
   ]
  },
  {
   "cell_type": "markdown",
   "metadata": {},
   "source": [
    "# Takeaways"
   ]
  },
  {
   "cell_type": "markdown",
   "metadata": {},
   "source": [
    "1. Teaching computation changes what we can/should teach in math and science classes, at all levels.\n",
    "2. By teaching computation in physics, \"one can begin training the student in professional research-related skills at an earlier stage than is traditional.\" (J. Redish)\n",
    "3. Computation can impact your entire curriculum."
   ]
  },
  {
   "cell_type": "markdown",
   "metadata": {
    "nbgrader": {
     "grade": false,
     "grade_id": "ex_3_q",
     "locked": true,
     "schema_version": 3,
     "solution": false,
     "task": false
    }
   },
   "source": [
    "# Computational Modeling"
   ]
  },
  {
   "cell_type": "markdown",
   "metadata": {},
   "source": [
    "Hurricane models have different assumptions and make different predictions. While you can't predict precisely the path of a hurricane, you can predict where it won't go. You can also do [introductory calculations to estimate storm surge and wind speed](https://theoreticallyphysics.wordpress.com/2018/09/13/storms-and-scalings/) based on the low pressure at the eye of the hurricane.\n",
    "\n",
    "<img src=\"https://github.com/atitus/STLinATL/raw/master/workshop1/01-introduction/sphagetti-models.png\">"
   ]
  },
  {
   "cell_type": "markdown",
   "metadata": {},
   "source": [
    "## Assumptions, Predictions, Error, and Refining (or Improvements)"
   ]
  },
  {
   "cell_type": "markdown",
   "metadata": {},
   "source": [
    "A model depends on assumptions, including both data and the mathematical model used. As a result, a model is always an approximation, and ethical considerations are imperative. In this article on [The State of Hurricane Forecasting](https://noaanhc.wordpress.com/2018/03/09/the-state-of-hurricane-forecasting/), the author, John Cangialosi, describes how hurricane forecasting has improved.\n",
    "\n",
    "In this image from the article, the hurricane track error is plotted as a function of forecast time. (For greater time into the future, the error in the track predication is greater.)\n",
    "\n",
    "![](https://github.com/atitus/STLinATL/raw/master/workshop1/01-introduction/track_decades_wlegend.jpg)\n",
    "\n",
    "If you look at the 48 h mark and compare the error in the last decade (approx. 65 nautical miles) to the error in 1990s (160 nautical miles) and plot the error as a circle centered at Pensacola, you can see how error might affect the ability of a community to prepare.\n",
    "\n",
    "![](https://github.com/atitus/STLinATL/raw/master/workshop1/01-introduction/1990-to-today.gif)"
   ]
  },
  {
   "cell_type": "markdown",
   "metadata": {
    "nbgrader": {
     "grade": true,
     "grade_id": "ex_3",
     "locked": false,
     "points": 2,
     "schema_version": 3,
     "solution": true,
     "task": false
    }
   },
   "source": [
    "# Exercises"
   ]
  },
  {
   "cell_type": "markdown",
   "metadata": {},
   "source": [
    "For each of these exercises, double-click the cell (in Jupyter or Google Colab) to edit the text and type `shift-enter` on your keyboard to render the cell. [Here is a more extensive reference](https://colab.research.google.com/github/atitus/Jupyter-Tutorials/blob/master/01%20Markdown.ipynb) on formatting text with Markdown."
   ]
  },
  {
   "cell_type": "markdown",
   "metadata": {},
   "source": [
    "## Exercise 1"
   ]
  },
  {
   "cell_type": "markdown",
   "metadata": {},
   "source": [
    "1. Describe an experiment where your students have to graph data. Do they have to do a curve fit? What is the algebraic function of the curve fit?"
   ]
  },
  {
   "cell_type": "markdown",
   "metadata": {
    "nbgrader": {
     "grade": false,
     "grade_id": "ex_5_q",
     "locked": true,
     "schema_version": 3,
     "solution": false,
     "task": false
    }
   },
   "source": [
    "## Mathematical Typesetting"
   ]
  },
  {
   "cell_type": "markdown",
   "metadata": {},
   "source": [
    "LaTeX is a language for typesetting mathematics. Most web applications, like Jupyter and Google Colab, use a library called MathJax that allows you to write a subset of LaTeX that can be displayed in a browser. \n",
    "\n",
    "For an extensive list of commands to produce math symbols, see the [Wikipedia List of mathematical symbols by subject.](https://en.wikipedia.org/wiki/List_of_mathematical_symbols_by_subject)\n",
    "\n",
    "In Jupyter, use a single `$` enclosing the expression to display the math expression within text. Use a double `$$` enclosing the expression to display the equation centered on its own line."
   ]
  },
  {
   "cell_type": "markdown",
   "metadata": {},
   "source": [
    "### Common Examples"
   ]
  },
  {
   "cell_type": "markdown",
   "metadata": {},
   "source": [
    "Input             | Rendered        |\n",
    "-----------------|----------------|\n",
    "`$\\sqrt{2}$` | $\\sqrt{2}$ |\n",
    "`$\\frac{\\pi}{2}$` | $\\frac{\\pi}{2}$ |\n",
    "`$y = a x_1^2 + b x_2 + c$` | $y = a x_1^2 + b x_2 + c$ |\n",
    "`$\\int x^2 dx$` | $\\int x^2 dx$ |\n",
    "`$\\cos(\\theta) $` | $\\cos(\\theta)$ |\n",
    "`$ (1-e^x) $` | $(1-e^x)$ | \n",
    "\n",
    "\n",
    "Here is math within a sentence, $x_1^3$.\n",
    "\n",
    "To center an equation like this:\n",
    "\n",
    "$$e^{i\\pi} + 1 = 0$$\n",
    "\n",
    "use two dollar signs before and after the expression. (This identity comes from the [Euler Formula](http://mathworld.wolfram.com/EulerFormula.html).)"
   ]
  },
  {
   "cell_type": "markdown",
   "metadata": {},
   "source": [
    "## Exercise 2"
   ]
  },
  {
   "cell_type": "markdown",
   "metadata": {},
   "source": [
    "In markdown, using LaTeX for formatting the equations, write a mathematical function for the following relationships.\n",
    "\n",
    "- linear\n",
    "- quadratic\n",
    "- exponential"
   ]
  },
  {
   "cell_type": "code",
   "execution_count": null,
   "metadata": {},
   "outputs": [],
   "source": []
  }
 ],
 "metadata": {
  "celltoolbar": "Create Assignment",
  "kernelspec": {
   "display_name": "Python 3",
   "language": "python",
   "name": "python3"
  },
  "language_info": {
   "codemirror_mode": {
    "name": "ipython",
    "version": 3
   },
   "file_extension": ".py",
   "mimetype": "text/x-python",
   "name": "python",
   "nbconvert_exporter": "python",
   "pygments_lexer": "ipython3",
   "version": "3.7.3"
  }
 },
 "nbformat": 4,
 "nbformat_minor": 2
}
