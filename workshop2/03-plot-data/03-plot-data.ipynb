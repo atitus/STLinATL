{
 "cells": [
  {
   "cell_type": "markdown",
   "metadata": {},
   "source": [
    "# Plotting Data"
   ]
  },
  {
   "cell_type": "markdown",
   "metadata": {},
   "source": [
    "In this notebook, you will learn how to read and graph data that is stored in a tab-delimited format in a text file.\n",
    "\n",
    "In this first example, we'll plot a data set for absorption of light for bacteria growing in a liquid medium. Various samples might look like this:\n",
    "\n",
    "<img src=\"https://github.com/atitus/STLinATL/raw/master/workshop2/03-plot-data/bacteria.png\" width=\"500\" align=\"center\">\n",
    "\n",
    "<font size=-1>Image credit: <a href=\"https://www.jove.com/video/56197/precise-high-throughput-analysis-of-bacterial-growth\" target=\"_new\">Precise, High-throughput Analysis of Bacterial Growth</a> by Masaomi Kurokawal and Bei-Wen Ying.</font>\n",
    "\n",
    "But there are many libraries of free data sets, like [this compilation at NCSU](https://www.lib.ncsu.edu/teaching-and-learning-datasets), to choose from."
   ]
  },
  {
   "cell_type": "markdown",
   "metadata": {},
   "source": [
    "# Import packages"
   ]
  },
  {
   "cell_type": "code",
   "execution_count": 1,
   "metadata": {},
   "outputs": [],
   "source": [
    "import pandas as pd #used for reading a data file\n",
    "import matplotlib.pyplot as plt #used for graphing"
   ]
  },
  {
   "cell_type": "markdown",
   "metadata": {},
   "source": [
    "# Read the data file"
   ]
  },
  {
   "cell_type": "markdown",
   "metadata": {},
   "source": [
    "Read a text file that has data in tab-delimited columns. The first row should be the names of the columns. The data is stored in an object called a **dataframe**. If the file is in a subfolder, then you have to include the name of the subfolder in the path to the file."
   ]
  },
  {
   "cell_type": "code",
   "execution_count": 2,
   "metadata": {},
   "outputs": [
    {
     "data": {
      "text/html": [
       "<div>\n",
       "<style scoped>\n",
       "    .dataframe tbody tr th:only-of-type {\n",
       "        vertical-align: middle;\n",
       "    }\n",
       "\n",
       "    .dataframe tbody tr th {\n",
       "        vertical-align: top;\n",
       "    }\n",
       "\n",
       "    .dataframe thead th {\n",
       "        text-align: right;\n",
       "    }\n",
       "</style>\n",
       "<table border=\"1\" class=\"dataframe\">\n",
       "  <thead>\n",
       "    <tr style=\"text-align: right;\">\n",
       "      <th></th>\n",
       "      <th>time (min)</th>\n",
       "      <th>absorbance (arb)</th>\n",
       "    </tr>\n",
       "  </thead>\n",
       "  <tbody>\n",
       "    <tr>\n",
       "      <th>0</th>\n",
       "      <td>0</td>\n",
       "      <td>0.022</td>\n",
       "    </tr>\n",
       "    <tr>\n",
       "      <th>1</th>\n",
       "      <td>16</td>\n",
       "      <td>0.036</td>\n",
       "    </tr>\n",
       "    <tr>\n",
       "      <th>2</th>\n",
       "      <td>32</td>\n",
       "      <td>0.060</td>\n",
       "    </tr>\n",
       "    <tr>\n",
       "      <th>3</th>\n",
       "      <td>48</td>\n",
       "      <td>0.101</td>\n",
       "    </tr>\n",
       "    <tr>\n",
       "      <th>4</th>\n",
       "      <td>64</td>\n",
       "      <td>0.169</td>\n",
       "    </tr>\n",
       "  </tbody>\n",
       "</table>\n",
       "</div>"
      ],
      "text/plain": [
       "   time (min)  absorbance (arb)\n",
       "0           0             0.022\n",
       "1          16             0.036\n",
       "2          32             0.060\n",
       "3          48             0.101\n",
       "4          64             0.169"
      ]
     },
     "execution_count": 2,
     "metadata": {},
     "output_type": "execute_result"
    }
   ],
   "source": [
    "# Read the data file. The result is a dataframe object, which is named df in this case.\n",
    "df = pd.read_csv('https://github.com/atitus/STLinATL/raw/master/workshop2/03-plot-data/bacterial-population-data.txt', sep='\\t')\n",
    "\n",
    "#print first five rows of data with the header\n",
    "df.head()"
   ]
  },
  {
   "cell_type": "markdown",
   "metadata": {},
   "source": [
    "# Use matplotlib to graph data"
   ]
  },
  {
   "cell_type": "markdown",
   "metadata": {},
   "source": [
    "We will use the `matplotlib` package to graph the data. First, import the package."
   ]
  },
  {
   "cell_type": "markdown",
   "metadata": {},
   "source": [
    "To plot the data, let's assign a variable name to each column of data we want to plot."
   ]
  },
  {
   "cell_type": "code",
   "execution_count": 3,
   "metadata": {},
   "outputs": [
    {
     "data": {
      "image/png": "[encoded data removed]",
      "text/plain": [
       "<Figure size 432x288 with 1 Axes>"
      ]
     },
     "metadata": {
      "needs_background": "light"
     },
     "output_type": "display_data"
    }
   ],
   "source": [
    "# give variable names to the columns of data\n",
    "time_data = df['time (min)']\n",
    "abs_data = df['absorbance (arb)']\n",
    "\n",
    "# plot data\n",
    "plt.title('Absorbance (arb) vs. time (min)')\n",
    "plt.xlabel('time (min)')\n",
    "plt.ylabel('absorbance (arb)')\n",
    "plt.grid(which='both', axis='both')\n",
    "plt.plot(time_data,abs_data,'bo') # syntax is (horizontal data , vertical data)\n",
    "plt.show()"
   ]
  },
  {
   "cell_type": "markdown",
   "metadata": {},
   "source": [
    "In the line:\n",
    "\n",
    "```python\n",
    "plt.plot(time_data,abs_data,'bo')\n",
    "```"
   ]
  },
  {
   "cell_type": "markdown",
   "metadata": {},
   "source": [
    "The `bo` means \"blue solid circles\". Change the `bo` to `r+-` and see what happens."
   ]
  },
  {
   "cell_type": "markdown",
   "metadata": {},
   "source": [
    "# Example"
   ]
  },
  {
   "cell_type": "markdown",
   "metadata": {},
   "source": [
    "In this example, we will read the data file `us-population-by-decade.txt` and graph the population vs. year. Our graph should have an appropriate title and axis labels. We will plot data as red diamonds with solid connecting lines. ([data source](https://data.worldbank.org/indicator/SP.POP.TOTL))"
   ]
  },
  {
   "cell_type": "code",
   "execution_count": 4,
   "metadata": {},
   "outputs": [
    {
     "data": {
      "text/html": [
       "<div>\n",
       "<style scoped>\n",
       "    .dataframe tbody tr th:only-of-type {\n",
       "        vertical-align: middle;\n",
       "    }\n",
       "\n",
       "    .dataframe tbody tr th {\n",
       "        vertical-align: top;\n",
       "    }\n",
       "\n",
       "    .dataframe thead th {\n",
       "        text-align: right;\n",
       "    }\n",
       "</style>\n",
       "<table border=\"1\" class=\"dataframe\">\n",
       "  <thead>\n",
       "    <tr style=\"text-align: right;\">\n",
       "      <th></th>\n",
       "      <th>Year</th>\n",
       "      <th>Population (x 10^6)</th>\n",
       "    </tr>\n",
       "  </thead>\n",
       "  <tbody>\n",
       "    <tr>\n",
       "      <th>0</th>\n",
       "      <td>1900</td>\n",
       "      <td>76</td>\n",
       "    </tr>\n",
       "    <tr>\n",
       "      <th>1</th>\n",
       "      <td>1910</td>\n",
       "      <td>92</td>\n",
       "    </tr>\n",
       "    <tr>\n",
       "      <th>2</th>\n",
       "      <td>1920</td>\n",
       "      <td>106</td>\n",
       "    </tr>\n",
       "    <tr>\n",
       "      <th>3</th>\n",
       "      <td>1930</td>\n",
       "      <td>123</td>\n",
       "    </tr>\n",
       "    <tr>\n",
       "      <th>4</th>\n",
       "      <td>1940</td>\n",
       "      <td>131</td>\n",
       "    </tr>\n",
       "  </tbody>\n",
       "</table>\n",
       "</div>"
      ],
      "text/plain": [
       "   Year  Population (x 10^6)\n",
       "0  1900                   76\n",
       "1  1910                   92\n",
       "2  1920                  106\n",
       "3  1930                  123\n",
       "4  1940                  131"
      ]
     },
     "execution_count": 4,
     "metadata": {},
     "output_type": "execute_result"
    }
   ],
   "source": [
    "# Read the data file. The result is a dataframe object, which is named df in this case.\n",
    "df = pd.read_csv('https://github.com/atitus/STLinATL/raw/master/workshop2/03-plot-data/us-population-by-decade.txt', sep='\\t')\n",
    "df.head()"
   ]
  },
  {
   "cell_type": "code",
   "execution_count": 5,
   "metadata": {},
   "outputs": [
    {
     "data": {
      "image/png": "[encoded data removed]",
      "text/plain": [
       "<Figure size 432x288 with 1 Axes>"
      ]
     },
     "metadata": {
      "needs_background": "light"
     },
     "output_type": "display_data"
    }
   ],
   "source": [
    "#assign variable names to columns\n",
    "xdata = df['Year']\n",
    "ydata = df['Population (x 10^6)']\n",
    "\n",
    "#plot graph\n",
    "plt.title('Population (in millions of people) vs. Year')\n",
    "plt.xlabel('Year')\n",
    "plt.ylabel('Population (x 10^6)')\n",
    "plt.grid(which='both', axis='both')\n",
    "plt.plot(xdata,ydata,'rD-')\n",
    "plt.show()"
   ]
  },
  {
   "cell_type": "markdown",
   "metadata": {},
   "source": [
    "## Exercise"
   ]
  },
  {
   "cell_type": "markdown",
   "metadata": {},
   "source": [
    "Read the file `tree-height-diameter.txt` and graph the height of the tree as a function of its diameter. Properly title the graph and label the axes, with units. Use a green, small circle marker for each point and do *not* connect the points with a line. ([data source](http://www.ben.edu/faculty/tcomar/BioCalcLabs.htm))"
   ]
  },
  {
   "cell_type": "code",
   "execution_count": 6,
   "metadata": {
    "nbgrader": {
     "grade": true,
     "grade_id": "Ex_2_ans",
     "locked": false,
     "points": 1,
     "schema_version": 3,
     "solution": true,
     "task": false
    }
   },
   "outputs": [
    {
     "data": {
      "text/html": [
       "<div>\n",
       "<style scoped>\n",
       "    .dataframe tbody tr th:only-of-type {\n",
       "        vertical-align: middle;\n",
       "    }\n",
       "\n",
       "    .dataframe tbody tr th {\n",
       "        vertical-align: top;\n",
       "    }\n",
       "\n",
       "    .dataframe thead th {\n",
       "        text-align: right;\n",
       "    }\n",
       "</style>\n",
       "<table border=\"1\" class=\"dataframe\">\n",
       "  <thead>\n",
       "    <tr style=\"text-align: right;\">\n",
       "      <th></th>\n",
       "      <th>Diameter (in)</th>\n",
       "      <th>Height (ft)</th>\n",
       "    </tr>\n",
       "  </thead>\n",
       "  <tbody>\n",
       "    <tr>\n",
       "      <th>0</th>\n",
       "      <td>3.18310</td>\n",
       "      <td>19.08</td>\n",
       "    </tr>\n",
       "    <tr>\n",
       "      <th>1</th>\n",
       "      <td>35.01409</td>\n",
       "      <td>77.58</td>\n",
       "    </tr>\n",
       "    <tr>\n",
       "      <th>2</th>\n",
       "      <td>14.32395</td>\n",
       "      <td>40.55</td>\n",
       "    </tr>\n",
       "    <tr>\n",
       "      <th>3</th>\n",
       "      <td>20.05352</td>\n",
       "      <td>49.30</td>\n",
       "    </tr>\n",
       "    <tr>\n",
       "      <th>4</th>\n",
       "      <td>9.84771</td>\n",
       "      <td>26.90</td>\n",
       "    </tr>\n",
       "  </tbody>\n",
       "</table>\n",
       "</div>"
      ],
      "text/plain": [
       "   Diameter (in)  Height (ft)\n",
       "0        3.18310        19.08\n",
       "1       35.01409        77.58\n",
       "2       14.32395        40.55\n",
       "3       20.05352        49.30\n",
       "4        9.84771        26.90"
      ]
     },
     "execution_count": 6,
     "metadata": {},
     "output_type": "execute_result"
    }
   ],
   "source": [
    "df = pd.read_csv('https://github.com/atitus/STLinATL/raw/master/workshop2/03-plot-data/tree-height-diameter.txt', sep='\\t')\n",
    "df.head()\n",
    "\n",
    "## Add code for plotting data here"
   ]
  },
  {
   "cell_type": "markdown",
   "metadata": {},
   "source": [
    "## Exercise"
   ]
  },
  {
   "cell_type": "markdown",
   "metadata": {},
   "source": [
    "Read the file `pole-vaulter.txt` that contains data for HPU alumnus and pole vaulter, Keith Gates, and graph his y-position as a function of x-position. Properly title the graph and label the axes, with units. Use a blue, small circle marker for each point and connect the points with a solid line."
   ]
  },
  {
   "cell_type": "code",
   "execution_count": 7,
   "metadata": {
    "nbgrader": {
     "grade": true,
     "grade_id": "Ex_3_ans",
     "locked": false,
     "points": 1,
     "schema_version": 3,
     "solution": true,
     "task": false
    }
   },
   "outputs": [
    {
     "data": {
      "text/html": [
       "<div>\n",
       "<style scoped>\n",
       "    .dataframe tbody tr th:only-of-type {\n",
       "        vertical-align: middle;\n",
       "    }\n",
       "\n",
       "    .dataframe tbody tr th {\n",
       "        vertical-align: top;\n",
       "    }\n",
       "\n",
       "    .dataframe thead th {\n",
       "        text-align: right;\n",
       "    }\n",
       "</style>\n",
       "<table border=\"1\" class=\"dataframe\">\n",
       "  <thead>\n",
       "    <tr style=\"text-align: right;\">\n",
       "      <th></th>\n",
       "      <th>t (s)</th>\n",
       "      <th>x (m)</th>\n",
       "      <th>y (m)</th>\n",
       "    </tr>\n",
       "  </thead>\n",
       "  <tbody>\n",
       "    <tr>\n",
       "      <th>0</th>\n",
       "      <td>0.000</td>\n",
       "      <td>-0.008</td>\n",
       "      <td>0.004</td>\n",
       "    </tr>\n",
       "    <tr>\n",
       "      <th>1</th>\n",
       "      <td>0.067</td>\n",
       "      <td>0.547</td>\n",
       "      <td>-0.027</td>\n",
       "    </tr>\n",
       "    <tr>\n",
       "      <th>2</th>\n",
       "      <td>0.133</td>\n",
       "      <td>1.070</td>\n",
       "      <td>0.004</td>\n",
       "    </tr>\n",
       "    <tr>\n",
       "      <th>3</th>\n",
       "      <td>0.200</td>\n",
       "      <td>1.594</td>\n",
       "      <td>-0.058</td>\n",
       "    </tr>\n",
       "    <tr>\n",
       "      <th>4</th>\n",
       "      <td>0.267</td>\n",
       "      <td>2.118</td>\n",
       "      <td>-0.027</td>\n",
       "    </tr>\n",
       "  </tbody>\n",
       "</table>\n",
       "</div>"
      ],
      "text/plain": [
       "   t (s)  x (m)  y (m)\n",
       "0  0.000 -0.008  0.004\n",
       "1  0.067  0.547 -0.027\n",
       "2  0.133  1.070  0.004\n",
       "3  0.200  1.594 -0.058\n",
       "4  0.267  2.118 -0.027"
      ]
     },
     "execution_count": 7,
     "metadata": {},
     "output_type": "execute_result"
    }
   ],
   "source": [
    "df = pd.read_csv('https://github.com/atitus/STLinATL/raw/master/workshop2/03-plot-data/pole-vaulter.txt', sep='\\t')\n",
    "df.head()\n",
    "\n",
    "## Add code for plotting data here"
   ]
  },
  {
   "cell_type": "markdown",
   "metadata": {},
   "source": [
    "## Exercise"
   ]
  },
  {
   "cell_type": "markdown",
   "metadata": {},
   "source": [
    "For the pole vaulter data in the previous exercise, make a graph with both x-position and y-position plotted on the same graph as a function of time. Properly title the graph and label the axes, with units. Use different colors for the two plots, use different marker styles for each plot, and for each plot, connect the points with a solid line. Include a label for each plotted dataset and display a legend."
   ]
  },
  {
   "cell_type": "code",
   "execution_count": null,
   "metadata": {
    "nbgrader": {
     "grade": true,
     "grade_id": "Ex_4_ans",
     "locked": false,
     "points": 1,
     "schema_version": 3,
     "solution": true,
     "task": false
    }
   },
   "outputs": [],
   "source": [
    "## Add code for plotting data here"
   ]
  },
  {
   "cell_type": "markdown",
   "metadata": {},
   "source": [
    "# More Details About Plotting"
   ]
  },
  {
   "cell_type": "markdown",
   "metadata": {},
   "source": [
    "## The `plot` command"
   ]
  },
  {
   "cell_type": "markdown",
   "metadata": {},
   "source": [
    "The plot command:\n",
    "\n",
    "```python\n",
    "\n",
    "plt.plot(time_data,abs_data,'bo')\n",
    "\n",
    "```"
   ]
  },
  {
   "cell_type": "markdown",
   "metadata": {},
   "source": [
    "takes as input the data list for the horizontal axis, the data list for the vertical axis, and parameters to determine the type and color of the data point. In this case ``c`` is for cyan and ``o`` is for a large filled circle.\n",
    "\n",
    "You can try:\n",
    "\n",
    "```python\n",
    "\n",
    "plt.plot(time_data,abs_data,'r-')\n",
    "\n",
    "```"
   ]
  },
  {
   "cell_type": "markdown",
   "metadata": {},
   "source": [
    "for a red solid line plot.  You can try:\n",
    "\n",
    "```python\n",
    "\n",
    "plt.plot(time_data,abs_data,'b.')\n",
    "\n",
    "```"
   ]
  },
  {
   "cell_type": "markdown",
   "metadata": {},
   "source": [
    "for a blue scatter plot with small filled circles.  The following:\n",
    "\n",
    "```python\n",
    "\n",
    "plt.plot(time_data,abs_data,'m+')\n",
    "\n",
    "```"
   ]
  },
  {
   "cell_type": "markdown",
   "metadata": {},
   "source": [
    "will produce magenta ``+`` symbols for the data points.\n",
    "\n",
    "Here are letters for various colors.\n",
    "\n",
    "| letter | color | letter | color |\n",
    "| --- | --- | --- | --- |\n",
    "|b | blue | m | magenta |\n",
    "|g  |  green  |  y  |  yellow  | \n",
    "|r  |  red | k  |  black |\n",
    "|c | cyan | w | white |\n",
    "\n",
    "Here are symbols for various types of markers.\n",
    "\n",
    "| symbol | marker| symbol | marker |\n",
    "| --- | --- | ---  | --- |\n",
    "| `s` | square marker | `p` | pentagon marker |\n",
    "|`D` | diamond marker | `d` | thin diamond marker|\n",
    "|`*` | star marker | `+` | plus marker|\n",
    "|`h` | hexagon1 marker | `H` | hexagon2 marker|\n",
    "|`x` | x marker  | |\n",
    "\n",
    "Use `-` for solid line and `--` for a dashed line.\n",
    "\n",
    "In the cell below, try plotting graphs with various colors, marker types, and lines."
   ]
  },
  {
   "cell_type": "code",
   "execution_count": 8,
   "metadata": {
    "scrolled": true
   },
   "outputs": [
    {
     "data": {
      "image/png": "[encoded data removed]",
      "text/plain": [
       "<Figure size 432x288 with 1 Axes>"
      ]
     },
     "metadata": {
      "needs_background": "light"
     },
     "output_type": "display_data"
    }
   ],
   "source": [
    "plt.title('Absorbance (arb) vs. time (min)')\n",
    "plt.xlabel('time (min)')\n",
    "plt.ylabel('absorbance (arb)')\n",
    "plt.grid(which='both', axis='both')\n",
    "plt.plot(time_data,abs_data,'mo--')\n",
    "plt.show()"
   ]
  },
  {
   "cell_type": "markdown",
   "metadata": {},
   "source": [
    "## Setting the limits of the axes"
   ]
  },
  {
   "cell_type": "markdown",
   "metadata": {},
   "source": [
    "You can set the limits of the axes. For example, suppose you want the vertical axis of the previous US population graph to start at zero. \n",
    "\n",
    "Use the `xlim(left, right)` function to set the limits of the horizontal axis and `ylim(bottom, top)` to set the limits of the vertical axis. The program below sets the y-axis bottom to 0 and top to 400."
   ]
  },
  {
   "cell_type": "code",
   "execution_count": 9,
   "metadata": {},
   "outputs": [
    {
     "data": {
      "image/png": "[encoded data removed]",
      "text/plain": [
       "<Figure size 432x288 with 1 Axes>"
      ]
     },
     "metadata": {
      "needs_background": "light"
     },
     "output_type": "display_data"
    }
   ],
   "source": [
    "plt.title('Population (in millions of people) vs. Year')\n",
    "plt.xlabel('Year')\n",
    "plt.ylabel('Population (x 10^6)')\n",
    "plt.plot(xdata,ydata,'rD-')\n",
    "plt.grid(which='both', axis='both')\n",
    "plt.ylim(0, 400)\n",
    "plt.show()"
   ]
  },
  {
   "cell_type": "markdown",
   "metadata": {},
   "source": [
    "To set just the bottom to zero and autoscale the top, use:\n",
    "\n",
    "```\n",
    "plt.ylim(bottom=0)\n",
    "```"
   ]
  },
  {
   "cell_type": "markdown",
   "metadata": {},
   "source": [
    "Similarly you can set `top` for `ylim` and `left` and `right` for `xlim`. \n",
    "\n",
    "The [pyplot documentation](https://matplotlib.org/api/pyplot_summary.html) has links to the functions like `xlim` and `ylim` that help you know how to use these functions."
   ]
  },
  {
   "cell_type": "code",
   "execution_count": 10,
   "metadata": {},
   "outputs": [
    {
     "data": {
      "image/png": "[encoded data removed]",
      "text/plain": [
       "<Figure size 432x288 with 1 Axes>"
      ]
     },
     "metadata": {
      "needs_background": "light"
     },
     "output_type": "display_data"
    }
   ],
   "source": [
    "plt.title('Population (in millions of people) vs. Year')\n",
    "plt.xlabel('Year')\n",
    "plt.ylabel('Population (x 10^6)')\n",
    "plt.plot(xdata,ydata,'rD-')\n",
    "plt.grid(which='both', axis='both')\n",
    "plt.ylim(bottom=0)\n",
    "plt.show()"
   ]
  },
  {
   "cell_type": "markdown",
   "metadata": {},
   "source": [
    "## Plotting more than one data set on the same axes"
   ]
  },
  {
   "cell_type": "markdown",
   "metadata": {},
   "source": [
    "You can plot multiple columns of data on the same graph by calling the `plot()` function for each column of data. For example, suppose you read a file with columns of data for the year and population of different countries, and you store them as lists named `year`, `pop1`, `pop2`, and `pop3`. You can then graph a curve for each population using the example shown below. In this case, there will be three curves that are blue, red, and green, respectively.\n",
    "\n",
    "```python\n",
    "plt.plot(year,pop1,'b-', label='Population 1')\n",
    "plt.plot(year,pop2,'r-', label='Population 2')\n",
    "plt.plot(year,pop3,'g-', label='Population 3')\n",
    "plt.legend(loc='upper left')\n",
    "```"
   ]
  },
  {
   "cell_type": "markdown",
   "metadata": {},
   "source": [
    "In the example below, we read the file `african-nations-population.txt` and graph the populaton of each country vs. year on the same axes.  ([data source](https://data.worldbank.org/indicator/SP.POP.TOTL))"
   ]
  },
  {
   "cell_type": "code",
   "execution_count": 13,
   "metadata": {},
   "outputs": [
    {
     "data": {
      "text/html": [
       "<div>\n",
       "<style scoped>\n",
       "    .dataframe tbody tr th:only-of-type {\n",
       "        vertical-align: middle;\n",
       "    }\n",
       "\n",
       "    .dataframe tbody tr th {\n",
       "        vertical-align: top;\n",
       "    }\n",
       "\n",
       "    .dataframe thead th {\n",
       "        text-align: right;\n",
       "    }\n",
       "</style>\n",
       "<table border=\"1\" class=\"dataframe\">\n",
       "  <thead>\n",
       "    <tr style=\"text-align: right;\">\n",
       "      <th></th>\n",
       "      <th>Year</th>\n",
       "      <th>Angola Population</th>\n",
       "      <th>Benin Population</th>\n",
       "      <th>Burkina Faso Population</th>\n",
       "      <th>Burundi Population</th>\n",
       "      <th>Cameroon Population</th>\n",
       "    </tr>\n",
       "  </thead>\n",
       "  <tbody>\n",
       "    <tr>\n",
       "      <th>0</th>\n",
       "      <td>1960</td>\n",
       "      <td>5643182</td>\n",
       "      <td>2431622</td>\n",
       "      <td>4829288</td>\n",
       "      <td>2786106</td>\n",
       "      <td>5176268</td>\n",
       "    </tr>\n",
       "    <tr>\n",
       "      <th>1</th>\n",
       "      <td>1961</td>\n",
       "      <td>5753024</td>\n",
       "      <td>2465867</td>\n",
       "      <td>4894580</td>\n",
       "      <td>2839666</td>\n",
       "      <td>5285231</td>\n",
       "    </tr>\n",
       "    <tr>\n",
       "      <th>2</th>\n",
       "      <td>1962</td>\n",
       "      <td>5866061</td>\n",
       "      <td>2502896</td>\n",
       "      <td>4960326</td>\n",
       "      <td>2893669</td>\n",
       "      <td>5399922</td>\n",
       "    </tr>\n",
       "    <tr>\n",
       "      <th>3</th>\n",
       "      <td>1963</td>\n",
       "      <td>5980417</td>\n",
       "      <td>2542859</td>\n",
       "      <td>5027821</td>\n",
       "      <td>2949926</td>\n",
       "      <td>5520332</td>\n",
       "    </tr>\n",
       "    <tr>\n",
       "      <th>4</th>\n",
       "      <td>1964</td>\n",
       "      <td>6093321</td>\n",
       "      <td>2585965</td>\n",
       "      <td>5098890</td>\n",
       "      <td>3010859</td>\n",
       "      <td>5646316</td>\n",
       "    </tr>\n",
       "  </tbody>\n",
       "</table>\n",
       "</div>"
      ],
      "text/plain": [
       "   Year  Angola Population  Benin Population  Burkina Faso Population  \\\n",
       "0  1960            5643182           2431622                  4829288   \n",
       "1  1961            5753024           2465867                  4894580   \n",
       "2  1962            5866061           2502896                  4960326   \n",
       "3  1963            5980417           2542859                  5027821   \n",
       "4  1964            6093321           2585965                  5098890   \n",
       "\n",
       "   Burundi Population  Cameroon Population  \n",
       "0             2786106              5176268  \n",
       "1             2839666              5285231  \n",
       "2             2893669              5399922  \n",
       "3             2949926              5520332  \n",
       "4             3010859              5646316  "
      ]
     },
     "execution_count": 13,
     "metadata": {},
     "output_type": "execute_result"
    }
   ],
   "source": [
    "# Read the data file. The result is a dataframe object, which is named df in this case.\n",
    "df = pd.read_csv('https://github.com/atitus/STLinATL/raw/master/workshop2/03-plot-data/african-nations-population.txt', sep='\\t')\n",
    "df.head()"
   ]
  },
  {
   "cell_type": "markdown",
   "metadata": {},
   "source": [
    "It's not necessary to assign the columns to variables. You can directly reference the dataframe's columns in the `plot()` function."
   ]
  },
  {
   "cell_type": "code",
   "execution_count": 12,
   "metadata": {},
   "outputs": [
    {
     "data": {
      "image/png": "[encoded data removed]",
      "text/plain": [
       "<Figure size 432x288 with 1 Axes>"
      ]
     },
     "metadata": {
      "needs_background": "light"
     },
     "output_type": "display_data"
    }
   ],
   "source": [
    "#assign variable names to columns\n",
    "plt.title('Population vs. Year')\n",
    "plt.xlabel('Year')\n",
    "plt.ylabel('Population')\n",
    "plt.plot(df['Year'],df['Angola Population'],label='Angola')\n",
    "plt.plot(df['Year'],df['Benin Population'],label='Benin')\n",
    "plt.plot(df['Year'],df['Burkina Faso Population'],label='Burkina Faso')\n",
    "plt.plot(df['Year'],df['Burundi Population'],label='Burundi')\n",
    "plt.plot(df['Year'],df['Cameroon Population'],label='Cameroon')\n",
    "plt.grid(which='both', axis='both')\n",
    "plt.legend()\n",
    "plt.show()"
   ]
  },
  {
   "cell_type": "markdown",
   "metadata": {},
   "source": [
    "In the code above, the function `legend()` is used to display the legend. If you don't specify a location, then `upper left` is the default.\n",
    "\n",
    "If you don't specify a color for each plot, then matplotlib will choose a default color.\n",
    "\n",
    "Examine the power of ten used on the vertical axis for the population. Matplotlib takes the large numbers, in this case tens of millions, and plots them as a power of 10, in this case 1e7, or $1\\times10^7$ people."
   ]
  }
 ],
 "metadata": {
  "celltoolbar": "Create Assignment",
  "kernelspec": {
   "display_name": "Python 3",
   "language": "python",
   "name": "python3"
  },
  "language_info": {
   "codemirror_mode": {
    "name": "ipython",
    "version": 3
   },
   "file_extension": ".py",
   "mimetype": "text/x-python",
   "name": "python",
   "nbconvert_exporter": "python",
   "pygments_lexer": "ipython3",
   "version": "3.7.3"
  }
 },
 "nbformat": 4,
 "nbformat_minor": 4
}
