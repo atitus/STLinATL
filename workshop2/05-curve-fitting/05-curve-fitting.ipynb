{
 "cells": [
  {
   "cell_type": "markdown",
   "metadata": {},
   "source": [
    "# Table of Contents\n",
    "* [1. Curve Fitting - Part 1](#1.-Curve-Fitting---Part-1)\n",
    "\t* [1.1 Cental Question](#1.1-Cental-Question)\n",
    "\t* [1.2 Background](#1.2-Background)\n",
    "\t\t* [1.2.1 Emperical Modeling](#1.2.1-Emperical-Modeling)\n",
    "\t* [1.3 Review](#1.3-Review)\n",
    "\t* [1.4 Using a Python function to compute a mathematical function](#1.4-Using-a-Python-function-to-compute-a-mathematical-function)\n",
    "\t* [1.5 Fitting data manually](#1.5-Fitting-data-manually)\n",
    "\t\t* [1.5.1 Exercise 1](#1.5.1-Exercise-1)\n",
    "\t* [1.6 Fitting data numerically](#1.6-Fitting-data-numerically)\n",
    "\t\t* [1.6.1 Exercise 2](#1.6.1-Exercise-2)\n",
    "\t\t* [1.6.2 Exercise 3](#1.6.2-Exercise-3)\n",
    "\t\t* [1.6.3 Exercise 4](#1.6.3-Exercise-4)\n",
    "\t* [1.7 Fitting an exponential decay](#1.7-Fitting-an-exponential-decay)\n",
    "\t\t* [1.7.1 Discharging Capacitor](#1.7.1-Discharging-Capacitor)\n",
    "\t* [1.8 Fitting any function](#1.8-Fitting-any-function)\n",
    "\t\t* [1.8.1 What to do when `curve_fit()` fails](#1.8.1-What-to-do-when-curve_fit%28%29-fails)\n",
    "\t\t* [1.8.2 Exercise 5](#1.8.2-Exercise-5)\n",
    "\t\t* [1.8.3 Exercise 6](#1.8.3-Exercise-6)\n"
   ]
  },
  {
   "cell_type": "markdown",
   "metadata": {},
   "source": [
    "# 1. Curve Fitting - Part 1"
   ]
  },
  {
   "cell_type": "markdown",
   "metadata": {},
   "source": [
    "## 1.1 Cental Question"
   ]
  },
  {
   "cell_type": "markdown",
   "metadata": {},
   "source": [
    "How do I find the best-fit curve for a set of data and how do I describe the relationship with a mathematical function?"
   ]
  },
  {
   "cell_type": "markdown",
   "metadata": {},
   "source": [
    "## 1.2 Background"
   ]
  },
  {
   "cell_type": "markdown",
   "metadata": {},
   "source": [
    "You should read Module 8.3 Emperical Models in the second edition of *Introduction to Computational Science* by A. Shiflet and G. Shiflet."
   ]
  },
  {
   "cell_type": "markdown",
   "metadata": {},
   "source": [
    "### 1.2.1 Emperical Modeling"
   ]
  },
  {
   "cell_type": "markdown",
   "metadata": {},
   "source": [
    "Data may be described by a *mathematical function*. Finding the best-fit function and *parameters* for a set of data is called *curve fitting*. In general, using a function generated from curve fitting in order to describe some process, whether it is physical, biological, social, economical, etc., is called *emperical modeling.*\n",
    "\n",
    "Shiflet and Shiflet, in *Introduction to Computational Science*, say, \"An **emperical model** is based only on data and is used to predict, not explain a system. An emperical model consists of a function that captures the trend of the data.\" (Boldfaced font is included in the quote.)"
   ]
  },
  {
   "cell_type": "markdown",
   "metadata": {},
   "source": [
    "## 1.3 Review"
   ]
  },
  {
   "cell_type": "markdown",
   "metadata": {},
   "source": [
    "In the last lesson, you learned how to plot a mathematical function by creating an array of points for the independent variable and using the mathematical function to calculate the corresponding points for the dependent variable.\n",
    "\n",
    "Here is an example of creating points and plotting a function for the voltage as a function of time from $t=0$ to $t=4$ s in a particular experiment. The mathematical function is:\n",
    "\n",
    "$$V = -10 + 5t$$\n",
    "\n",
    "When fitting a curve to data, the constants, $-10$ and $5$ in this case, are called the *fit parameters*."
   ]
  },
  {
   "cell_type": "code",
   "execution_count": 1,
   "metadata": {},
   "outputs": [],
   "source": [
    "#import packages used in the lesson\n",
    "import numpy as np\n",
    "import matplotlib.pyplot as plt\n",
    "import pandas as pd"
   ]
  },
  {
   "cell_type": "code",
   "execution_count": 2,
   "metadata": {},
   "outputs": [
    {
     "data": {
      "image/png": "[encoded data removed]",
      "text/plain": [
       "<Figure size 432x288 with 1 Axes>"
      ]
     },
     "metadata": {
      "needs_background": "light"
     },
     "output_type": "display_data"
    }
   ],
   "source": [
    "#create an array of values for time\n",
    "tarray = np.linspace(0,4,)\n",
    "\n",
    "#create an array of values for x\n",
    "Varray = -10 + 5*tarray\n",
    "\n",
    "fig=plt.figure()\n",
    "plt.title(\"Voltage as a function of time\")\n",
    "plt.plot(tarray, Varray, 'b-')\n",
    "plt.xlabel(\"time (s)\")\n",
    "plt.ylabel(\"voltage (V)\")\n",
    "plt.show()"
   ]
  },
  {
   "cell_type": "markdown",
   "metadata": {},
   "source": [
    "## 1.4 Using a Python function to compute a mathematical function"
   ]
  },
  {
   "cell_type": "markdown",
   "metadata": {},
   "source": [
    "For curve fitting, we will need to define a Python function that takes an array for the independent variable and the constants and returns an array for the dependent variable. It is helpful to think of every mathematical function in *generic* terms. For instance, we can write a linear function for $y(x)$ as\n",
    "\n",
    "$$y = a_0 + a_1x$$\n",
    "\n",
    "where $a_0$ and $a_1$ are constants (i.e. *fit parameters*).\n",
    "\n",
    "Here is a function called `linear` that takes the variables `xarray`, `a_0`, `a_1` and returns `yarray`."
   ]
  },
  {
   "cell_type": "code",
   "execution_count": 3,
   "metadata": {},
   "outputs": [],
   "source": [
    "def linear(xarray, a_0, a_1):\n",
    "    yarray = a_0 + a_1*xarray\n",
    "    return yarray"
   ]
  },
  {
   "cell_type": "markdown",
   "metadata": {},
   "source": [
    "We'll use the same data we used before for plotting voltage as a function of time from $t=0$ to $t=4$ s in a particular experiment with the constants $a_0=5$ and $a_1=-10$. However, we'll use our function to calculate the voltage array."
   ]
  },
  {
   "cell_type": "code",
   "execution_count": 4,
   "metadata": {},
   "outputs": [
    {
     "data": {
      "image/png": "[encoded data removed]",
      "text/plain": [
       "<Figure size 432x288 with 1 Axes>"
      ]
     },
     "metadata": {
      "needs_background": "light"
     },
     "output_type": "display_data"
    }
   ],
   "source": [
    "#create an array of values for time\n",
    "tarray = np.linspace(0,4,)\n",
    "\n",
    "#call the linear() function to compute the voltage\n",
    "Varray = linear(tarray, -10, 5)\n",
    "\n",
    "fig=plt.figure()\n",
    "plt.title(\"Voltage as a function of time\")\n",
    "plt.plot(tarray, Varray, 'm-')\n",
    "plt.xlabel(\"time (s)\")\n",
    "plt.ylabel(\"voltage (V)\")\n",
    "plt.show()"
   ]
  },
  {
   "cell_type": "markdown",
   "metadata": {},
   "source": [
    "## 1.5 Fitting data manually"
   ]
  },
  {
   "cell_type": "markdown",
   "metadata": {},
   "source": [
    "In this experiment, a ball rolls on a track with constant velocity.\n",
    "\n",
    "![](uniform-motion-ball-fast-main.gif)\n",
    "\n",
    "The x-position of the ball is measured at the times indicated by red markers in the animated gif. The data for x-position and time are in the file `x-t-ball.txt`.\n",
    "\n",
    "Read in the data using pandas."
   ]
  },
  {
   "cell_type": "code",
   "execution_count": 5,
   "metadata": {},
   "outputs": [
    {
     "data": {
      "text/html": [
       "<div>\n",
       "<style scoped>\n",
       "    .dataframe tbody tr th:only-of-type {\n",
       "        vertical-align: middle;\n",
       "    }\n",
       "\n",
       "    .dataframe tbody tr th {\n",
       "        vertical-align: top;\n",
       "    }\n",
       "\n",
       "    .dataframe thead th {\n",
       "        text-align: right;\n",
       "    }\n",
       "</style>\n",
       "<table border=\"1\" class=\"dataframe\">\n",
       "  <thead>\n",
       "    <tr style=\"text-align: right;\">\n",
       "      <th></th>\n",
       "      <th>time (s)</th>\n",
       "      <th>x-position (m)</th>\n",
       "    </tr>\n",
       "  </thead>\n",
       "  <tbody>\n",
       "    <tr>\n",
       "      <th>0</th>\n",
       "      <td>0.000</td>\n",
       "      <td>-0.803</td>\n",
       "    </tr>\n",
       "    <tr>\n",
       "      <th>1</th>\n",
       "      <td>0.334</td>\n",
       "      <td>-0.629</td>\n",
       "    </tr>\n",
       "    <tr>\n",
       "      <th>2</th>\n",
       "      <td>0.667</td>\n",
       "      <td>-0.454</td>\n",
       "    </tr>\n",
       "    <tr>\n",
       "      <th>3</th>\n",
       "      <td>1.001</td>\n",
       "      <td>-0.273</td>\n",
       "    </tr>\n",
       "    <tr>\n",
       "      <th>4</th>\n",
       "      <td>1.335</td>\n",
       "      <td>-0.102</td>\n",
       "    </tr>\n",
       "  </tbody>\n",
       "</table>\n",
       "</div>"
      ],
      "text/plain": [
       "   time (s)  x-position (m)\n",
       "0     0.000          -0.803\n",
       "1     0.334          -0.629\n",
       "2     0.667          -0.454\n",
       "3     1.001          -0.273\n",
       "4     1.335          -0.102"
      ]
     },
     "execution_count": 5,
     "metadata": {},
     "output_type": "execute_result"
    }
   ],
   "source": [
    "df = pd.read_csv('x-t-ball.txt', sep='\\t')\n",
    "df.head()"
   ]
  },
  {
   "cell_type": "markdown",
   "metadata": {},
   "source": [
    "Plot the data."
   ]
  },
  {
   "cell_type": "code",
   "execution_count": 6,
   "metadata": {},
   "outputs": [
    {
     "data": {
      "image/png": "[encoded data removed]",
      "text/plain": [
       "<Figure size 432x288 with 1 Axes>"
      ]
     },
     "metadata": {
      "needs_background": "light"
     },
     "output_type": "display_data"
    }
   ],
   "source": [
    "tdata = df['time (s)']\n",
    "xdata = df['x-position (m)']\n",
    "\n",
    "fig = plt.figure()\n",
    "plt.title(\"x(t) for a ball rolling on a track\")\n",
    "plt.plot(tdata, xdata, 'bo')\n",
    "plt.xlabel('time (s)')\n",
    "plt.ylabel('x-position (m)')\n",
    "plt.show()"
   ]
  },
  {
   "cell_type": "markdown",
   "metadata": {},
   "source": [
    "Note that this data looks linear. But we don't know the values of the constants (fit parameters). Let's create the constants and adjust them until our line fits the data."
   ]
  },
  {
   "cell_type": "code",
   "execution_count": 7,
   "metadata": {},
   "outputs": [
    {
     "data": {
      "image/png": "[encoded data removed]",
      "text/plain": [
       "<Figure size 432x288 with 1 Axes>"
      ]
     },
     "metadata": {
      "needs_background": "light"
     },
     "output_type": "display_data"
    }
   ],
   "source": [
    "# define constants and create points for a linear function\n",
    "a_0 = 1\n",
    "a_1 = 1\n",
    "tarray = np.linspace(0,3.5,100)\n",
    "xarray = linear(tarray, a_0, a_1)\n",
    "\n",
    "# get data from dataframe\n",
    "tdata = df['time (s)']\n",
    "xdata = df['x-position (m)']\n",
    "\n",
    "# plot data and our linear function on the same axes\n",
    "fig = plt.figure()\n",
    "plt.title(\"x(t) for a ball rolling on a track\")\n",
    "plt.plot(tdata, xdata, 'bo')\n",
    "plt.plot(tarray, xarray, 'r-', label='linear fit')\n",
    "plt.xlabel('time (s)')\n",
    "plt.ylabel('x-position (m)')\n",
    "plt.legend()\n",
    "plt.show()"
   ]
  },
  {
   "cell_type": "markdown",
   "metadata": {},
   "source": [
    "Note that the the linear function does not go through the data. Adjust the fit parameters `a_0` and `a_1` and re-run the cell until the linear function goes through the data as closely as possible. It should look like this.\n",
    "\n",
    "<img src=\"x-t-ball-best-fit.png\" width=400>"
   ]
  },
  {
   "cell_type": "markdown",
   "metadata": {},
   "source": [
    "### 1.5.1 Exercise 1"
   ]
  },
  {
   "cell_type": "markdown",
   "metadata": {},
   "source": [
    "Chemists use Beer's Law to measure concentration of a solution based on its absorbance of light. (Read [this brief tutorial](http://www.chem.ucla.edu/~harding/IGOC/B/beers_law.html) that includes photos as a demonstration of the principle.) \n",
    "\n",
    "Read the file `absorbance-grape.txt` and plot the absorbance (in arbitrary units) vs. concentration in grams per liter. Manually find the parameters for a linear curve fit. (Data is from Dr. Pam Knippenburg, HPU Department of Chemistry.)"
   ]
  },
  {
   "cell_type": "code",
   "execution_count": 8,
   "metadata": {
    "nbgrader": {
     "grade": true,
     "grade_id": "Ex_1_ans",
     "locked": false,
     "points": 1,
     "schema_version": 3,
     "solution": true,
     "task": false
    }
   },
   "outputs": [
    {
     "data": {
      "image/png": "[encoded data removed]",
      "text/plain": [
       "<Figure size 432x288 with 1 Axes>"
      ]
     },
     "metadata": {
      "needs_background": "light"
     },
     "output_type": "display_data"
    }
   ],
   "source": [
    "### BEGIN SOLUTION\n",
    "# read the data file\n",
    "df = pd.read_csv('absorbance-grape.txt', sep='\\t')\n",
    "df.head()\n",
    "\n",
    "# assign variable names to the columns of data; these variables are lists\n",
    "c_data = df['concentration (g/L)']\n",
    "abs_data = df['absorbance (arb)']\n",
    "\n",
    "# define variables for the best-fit parameters\n",
    "a0 = 0.02\n",
    "a1 = 0.35\n",
    "\n",
    "# create arrays of values using the linear() function and the best-fit parameters\n",
    "c_array = np.linspace(0,4,100)\n",
    "abs_array = linear(c_array, a0, a1)\n",
    "\n",
    "# plot data and the best-fit function on the same graph\n",
    "fig = plt.figure()\n",
    "plt.title(\"absorbance vs concentration\")\n",
    "plt.plot(c_data, abs_data, 'bo')\n",
    "plt.plot(c_array, abs_array, 'r-')\n",
    "plt.xlabel('concentration (g/L)')\n",
    "plt.ylabel('absorbance (arb)')\n",
    "plt.show()\n",
    "\n",
    "### END SOLUTION"
   ]
  },
  {
   "cell_type": "markdown",
   "metadata": {},
   "source": [
    "## 1.6 Fitting data numerically"
   ]
  },
  {
   "cell_type": "markdown",
   "metadata": {},
   "source": [
    "Python can use an algorithm to compute the best-fit parameters for a given mathematical function. As you can imagine, this is better than \"eyeballing\" it.\n",
    "\n",
    "First, we need to import a package with functions that do the curve fit."
   ]
  },
  {
   "cell_type": "code",
   "execution_count": 9,
   "metadata": {},
   "outputs": [],
   "source": [
    "from scipy.optimize import curve_fit #used for curve fitting"
   ]
  },
  {
   "cell_type": "markdown",
   "metadata": {},
   "source": [
    "Next, let's plot our position-time data for the rolling ball. It's best to first view the data to see what kind of function might fit the data. This data looks linear."
   ]
  },
  {
   "cell_type": "code",
   "execution_count": 11,
   "metadata": {},
   "outputs": [
    {
     "data": {
      "image/png": "[encoded data removed]",
      "text/plain": [
       "<Figure size 432x288 with 1 Axes>"
      ]
     },
     "metadata": {
      "needs_background": "light"
     },
     "output_type": "display_data"
    }
   ],
   "source": [
    "# read data again, just in case\n",
    "df = pd.read_csv('x-t-ball.txt', sep='\\t')\n",
    "df.head()\n",
    "\n",
    "# get data from dataframe\n",
    "tdata = df['time (s)']\n",
    "xdata = df['x-position (m)']\n",
    "\n",
    "# plot data and our linear function on the same axes\n",
    "fig = plt.figure()\n",
    "plt.title(\"x(t) for a ball rolling on a track\")\n",
    "plt.plot(tdata, xdata, 'bo')\n",
    "plt.xlabel('time (s)')\n",
    "plt.ylabel('x-position (m)')\n",
    "plt.show()"
   ]
  },
  {
   "cell_type": "markdown",
   "metadata": {},
   "source": [
    "The goal is to find the constants $a_0$ and $a_1$ for the linear function that best describes our data. Then,\n",
    "\n",
    "$$x = a_0 + a_1t$$\n",
    "\n",
    "where $t$ is in seconds and $x$ is in meters.\n",
    "\n",
    "Remember that we already defined a Python function `linear(xdata, a_0, a_1)` that takes an array for the independent variable along with the constants `a_0` and `a_1` and returns an array for the dependent variable. Since it was defined above, you don't have to define it again. But for the same of clarity, let's define it again."
   ]
  },
  {
   "cell_type": "code",
   "execution_count": 12,
   "metadata": {},
   "outputs": [],
   "source": [
    "def linear(xarray, a_0, a_1):\n",
    "    yarray = a_0 + a_1*xarray\n",
    "    return yarray"
   ]
  },
  {
   "cell_type": "markdown",
   "metadata": {},
   "source": [
    "Now we will call the `curve_fit` function in the scipy package to do our curve fit for us and return the parameters of the best-fit curve. The `curve_fit` function takes as its arguments:\n",
    "\n",
    "- the name of our Python function that takes an array of independent variable data and returns the dependent variable values from our mathematical model\n",
    "- the array of measured independent variable data\n",
    "- the array of measured dependent variable data\n",
    "\n",
    "The `curve_fit` function uses an algorithm to compute the parameters of the best-fit function. Although we can look up the details of the algorithm, we can benefit from using the function without knowing the details of the algorithm. (When we don't know the details of how it works, we sometimes call it at **black box**.)\n"
   ]
  },
  {
   "cell_type": "code",
   "execution_count": 13,
   "metadata": {},
   "outputs": [
    {
     "name": "stdout",
     "output_type": "stream",
     "text": [
      "The best fit parameters are: a_0= -0.8015907480356694  and a_1= 0.5244386567345447\n"
     ]
    }
   ],
   "source": [
    "# the curve_fit() function will return the fit parameters along with statistics\n",
    "parameters, stats = curve_fit(linear, tdata, xdata)\n",
    "\n",
    "# parameters is a list of best-fit values for the parameters of the mathematical model we are using\n",
    "# the first item [0] is the first constant\n",
    "# the second item [1] is the second constant, etc.\n",
    "a0_best=parameters[0] #a_0\n",
    "a1_best=parameters[1] #a_1\n",
    "\n",
    "print(\"The best fit parameters are: a_0=\",a0_best,\" and a_1=\",a1_best)"
   ]
  },
  {
   "cell_type": "markdown",
   "metadata": {},
   "source": [
    "You should compare these values to what you found manually. How close was your \"eyeball\" measurement?\n",
    "\n",
    "Now, we want to plot the best-fit linear function using the best-fit linear parameters. So call our function `linear()` using the best-fit parameters and an array of values for the independent variable."
   ]
  },
  {
   "cell_type": "code",
   "execution_count": 14,
   "metadata": {},
   "outputs": [
    {
     "data": {
      "image/png": "[encoded data removed]",
      "text/plain": [
       "<Figure size 432x288 with 1 Axes>"
      ]
     },
     "metadata": {
      "needs_background": "light"
     },
     "output_type": "display_data"
    }
   ],
   "source": [
    "# create points for the best-fit function using the best-fit parameters\n",
    "tarray = np.linspace(0,3.5,100)\n",
    "xarray = linear(tarray, a0_best, a1_best)\n",
    "\n",
    "# get data from dataframe\n",
    "tdata = df['time (s)']\n",
    "xdata = df['x-position (m)']\n",
    "\n",
    "# plot data and our linear function on the same axes\n",
    "fig = plt.figure()\n",
    "plt.title(\"x(t) for a ball rolling on a track\")\n",
    "plt.plot(tdata, xdata, 'bo')\n",
    "plt.plot(tarray, xarray, 'm-', label='linear fit:\\n a_0={:.3f}\\n a_1={:.3f}'.format(a0_best, a1_best))\n",
    "plt.xlabel('time (s)')\n",
    "plt.ylabel('x-position (m)')\n",
    "plt.legend()\n",
    "plt.show()"
   ]
  },
  {
   "cell_type": "markdown",
   "metadata": {},
   "source": [
    "### 1.6.1 Exercise 2"
   ]
  },
  {
   "cell_type": "markdown",
   "metadata": {},
   "source": [
    "In Exercise 1, you manually fit a linear function to absorbance data for a Beer's Law experiment. In this exercise, use Python to find and plot the best-fit curve. \n",
    "\n",
    "Read the file `absorbance-grape.txt` and plot the absorbance (in arbitrary units) vs. concentration in grams per liter. Use the `curve_fit` function to find the parameters for a linear curve fit. Plot the best-fit function and the data on the same graph."
   ]
  },
  {
   "cell_type": "code",
   "execution_count": 15,
   "metadata": {
    "nbgrader": {
     "grade": true,
     "grade_id": "Ex_2_ans",
     "locked": false,
     "points": 1,
     "schema_version": 3,
     "solution": true,
     "task": false
    }
   },
   "outputs": [
    {
     "name": "stdout",
     "output_type": "stream",
     "text": [
      "The best fit parameters are: a_0= 0.04710116268470077  and a_1= 0.3364536642894845\n"
     ]
    },
    {
     "data": {
      "image/png": "[encoded data removed]",
      "text/plain": [
       "<Figure size 432x288 with 1 Axes>"
      ]
     },
     "metadata": {
      "needs_background": "light"
     },
     "output_type": "display_data"
    }
   ],
   "source": [
    "### BEGIN SOLUTION\n",
    "# read the data file\n",
    "df = pd.read_csv('absorbance-grape.txt', sep='\\t')\n",
    "df.head()\n",
    "\n",
    "# assign variable names to the columns of data; these variables are lists\n",
    "c_data = df['concentration (g/L)']\n",
    "abs_data = df['absorbance (arb)']\n",
    "\n",
    "# the curve_fit() function will return the fit parameters along with statistics\n",
    "parameters, stats = curve_fit(linear, c_data, abs_data)\n",
    "\n",
    "# best fit parameters\n",
    "a0_best=parameters[0] #a_0\n",
    "a1_best=parameters[1] #a_1\n",
    "\n",
    "print(\"The best fit parameters are: a_0=\",a0_best,\" and a_1=\",a1_best)\n",
    "\n",
    "# create arrays of values using the linear() function and the best-fit parameters\n",
    "c_array = np.linspace(0,4,100)\n",
    "abs_array = linear(c_array, a0_best, a1_best)\n",
    "\n",
    "# plot data and the best-fit function on the same graph\n",
    "fig = plt.figure()\n",
    "plt.title(\"absorbance vs concentration\")\n",
    "plt.plot(c_data, abs_data, 'bo')\n",
    "plt.plot(c_array, abs_array, 'r-')\n",
    "plt.xlabel('concentration (g/L)')\n",
    "plt.ylabel('absorbance (arb)')\n",
    "plt.show()\n",
    "\n",
    "### END SOLUTION"
   ]
  },
  {
   "cell_type": "markdown",
   "metadata": {},
   "source": [
    "### 1.6.2 Exercise 3"
   ]
  },
  {
   "cell_type": "markdown",
   "metadata": {},
   "source": [
    "Find and plot the best-fit function for brain weight vs. body weight of various mammals. Data is in the file `brain-weight-body-height.txt`. ([data source](https://people.sc.fsu.edu/~jburkardt/datasets/regression/x01.txt))"
   ]
  },
  {
   "cell_type": "code",
   "execution_count": 26,
   "metadata": {
    "nbgrader": {
     "grade": true,
     "grade_id": "Ex_3_ans",
     "locked": false,
     "points": 1,
     "schema_version": 3,
     "solution": true,
     "task": false
    }
   },
   "outputs": [
    {
     "name": "stdout",
     "output_type": "stream",
     "text": [
      "The best fit parameters are: a_0= -12.560537026957919  and a_1= 0.6424810086880239\n"
     ]
    },
    {
     "data": {
      "image/png": "[encoded data removed]",
      "text/plain": [
       "<Figure size 432x288 with 1 Axes>"
      ]
     },
     "metadata": {
      "needs_background": "light"
     },
     "output_type": "display_data"
    }
   ],
   "source": [
    "### BEGIN SOLUTION\n",
    "# read the data file\n",
    "df = pd.read_csv('brain-weight-body-height.txt', sep='\\t')\n",
    "df.head()\n",
    "\n",
    "# assign variable names to the columns of data; these variables are lists\n",
    "bodyweight_data = df['Body Weight (lbs)']\n",
    "brainweight_data = df['Brain Weight (lbs)']\n",
    "\n",
    "# the curve_fit() function will return the fit parameters along with statistics\n",
    "parameters, stats = curve_fit(linear, bodyweight_data, brainweight_data)\n",
    "\n",
    "# best fit parameters\n",
    "a0_best=parameters[0] #a_0\n",
    "a1_best=parameters[1] #a_1\n",
    "\n",
    "print(\"The best fit parameters are: a_0=\",a0_best,\" and a_1=\",a1_best)\n",
    "\n",
    "# create arrays of values using the linear() function and the best-fit parameters\n",
    "body_array = np.linspace(0,700,1000)\n",
    "brain_array = linear(body_array, a0_best, a1_best)\n",
    "\n",
    "# plot data and the best-fit function on the same graph\n",
    "fig = plt.figure()\n",
    "plt.title(\"brain weight as a function of body weight for various mammals\")\n",
    "plt.plot(bodyweight_data, brainweight_data, 'b.')\n",
    "plt.plot(body_array, brain_array, 'r-')\n",
    "plt.xlabel('Body Weight (lb)')\n",
    "plt.ylabel('Brain Weight (lb)')\n",
    "plt.show()\n",
    "\n",
    "### END SOLUTION"
   ]
  },
  {
   "cell_type": "markdown",
   "metadata": {},
   "source": [
    "### 1.6.3 Exercise 4"
   ]
  },
  {
   "cell_type": "markdown",
   "metadata": {},
   "source": [
    "Bryce Smith computed data on points scored and average starting field position for all NFL teams for all games in the 2019 season. Starting field position is measured from the opponent's goalline in yards. So 1 yd means the team obtained the ball and started on the opponent's 1 yard line and only has to gain one yard to score a touchdown. A starting field position of 99 yards means the team started on their own 1 yard line.\n",
    "\n",
    "The idea is that the smaller your average starting field position (i.e. closer to the opponent's goalline), the more points you will score. Let's see.\n",
    "\n",
    "Find the best-fit linear function for the data in the file `football-field-pos.txt`.\n",
    "\n",
    "How many points would a team score if their average starting field position was nearly zero?"
   ]
  },
  {
   "cell_type": "code",
   "execution_count": null,
   "metadata": {
    "nbgrader": {
     "grade": true,
     "grade_id": "Ex_4_ans",
     "locked": false,
     "points": 1,
     "schema_version": 3,
     "solution": true,
     "task": false
    }
   },
   "outputs": [],
   "source": []
  },
  {
   "cell_type": "markdown",
   "metadata": {},
   "source": [
    "## 1.7 Fitting an exponential decay"
   ]
  },
  {
   "cell_type": "markdown",
   "metadata": {
    "collapsed": true
   },
   "source": [
    "### 1.7.1 Discharging Capacitor"
   ]
  },
  {
   "cell_type": "markdown",
   "metadata": {},
   "source": [
    "A capacitor stores electrical potential energy by having oppositely charged parallel plates. Like a battery, there is a voltage across the capacitor. When the capacitor is connected to a resistor, the voltage decreases as a function of time. (In contrast, a battery maintains a constant voltage for a fairly long time when it is connected to a resistor.)\n",
    "\n",
    "In this experiment, an initially charged capacitor is connected to a resistor, like a light bulb. At $t=0$, the circuit is connected, and a voltmeter is used to measure the voltage across the capacitor at 10 s intervals.\n",
    "\n",
    "![](discharging-capacitor.png)\n",
    "\n",
    "Data for the voltage as a function of time is in the file `discharging-capacitor.txt`. Let's read and plot the data."
   ]
  },
  {
   "cell_type": "code",
   "execution_count": null,
   "metadata": {},
   "outputs": [],
   "source": [
    "df = pd.read_table('discharging-capacitor.txt')\n",
    "df.head()"
   ]
  },
  {
   "cell_type": "code",
   "execution_count": null,
   "metadata": {},
   "outputs": [],
   "source": [
    "t_data = df['t (min)']\n",
    "V_data = df['V (volt)']\n",
    "\n",
    "plt.title('Voltage across a discharging capacitor')\n",
    "plt.xlabel('t (min)')\n",
    "plt.ylabel('V (volt)')\n",
    "plt.plot(t_data,V_data,'bo')\n",
    "plt.show()"
   ]
  },
  {
   "cell_type": "markdown",
   "metadata": {},
   "source": [
    "When we look at this data, we might think \"Aha! This looks like exponential decay.\" But we don't know it's exponential decay unless we do a curve fit. Also, a curve fit can give us the parameters for the best-fit function if indeed it is exponential decay as we expect.\n",
    "\n",
    "A general exponential function $y(x)$ has the form\n",
    "\n",
    "$$y=y_0e^{-rx}$$\n",
    "\n",
    "where $y$ is the dependent variable, x is the independent variable, $r$ is the decay constant, and $y_0$ is the value of $y$ at $x=0$--this is called the initial value of y.\n",
    "\n",
    "We will begin by creating a Python function that takes an array of independent values called `xarray` and constants `y_0` and `r` and calculates the corresponding dependent values $y$ using a mathematical function or *model*, $y(x)$ which is in this case an exponential."
   ]
  },
  {
   "cell_type": "code",
   "execution_count": null,
   "metadata": {},
   "outputs": [],
   "source": [
    "#this function takes an array of x values and returns an array of y values\n",
    "#  where y = y_0 * exp(-r*x)\n",
    "def exp_decay(xarray, y_0, r):\n",
    "    yarray = y_0*np.exp(-r*xarray)\n",
    "    return yarray"
   ]
  },
  {
   "cell_type": "markdown",
   "metadata": {},
   "source": [
    "Now call the `curve_fit()` function and pass it our Python function for the exponential decay along with our capacitor data."
   ]
  },
  {
   "cell_type": "code",
   "execution_count": null,
   "metadata": {},
   "outputs": [],
   "source": [
    "# the curve_fit() function will return the fit parameters along with statistics\n",
    "parameters, stats = curve_fit(exp_decay, t_data, V_data)\n",
    "\n",
    "V0_best=parameters[0] # V at t=0, the initial voltage\n",
    "r_best=parameters[1] # r, the decay constant\n",
    "\n",
    "print(\"The best fit parameters are: V_0=\",V0_best,\" and r=\",r_best)"
   ]
  },
  {
   "cell_type": "markdown",
   "metadata": {},
   "source": [
    "Plot the data and our best-fit function on the same graph."
   ]
  },
  {
   "cell_type": "code",
   "execution_count": null,
   "metadata": {},
   "outputs": [],
   "source": [
    "t_array = np.linspace(0, 2.5,100)\n",
    "V_array = exp_decay(t_array, V0_best, r_best)\n",
    "\n",
    "plt.title('Voltage across a discharging capacitor')\n",
    "plt.xlabel('t (min)')\n",
    "plt.ylabel('V (volt)')\n",
    "plt.plot(t_data,V_data,'bo')\n",
    "plt.plot(t_array,V_array,'r-', label='exponential decay:\\n V_0={:.2f} V\\n r={:.2f} 1/min'.format(V0_best, r_best))\n",
    "plt.legend(loc='upper right')\n",
    "plt.show()"
   ]
  },
  {
   "cell_type": "markdown",
   "metadata": {},
   "source": [
    "## 1.8 Fitting any function"
   ]
  },
  {
   "cell_type": "markdown",
   "metadata": {},
   "source": [
    "The data in [the Misrala dataset from NIST](https://www.itl.nist.gov/div898/strd/nls/data/LINKS/DATA/Misra1a.dat) \"are the result of a NIST study regarding dental research in monomolecular adsorption\" according to the source.  The dependent variable (or response variable) is volume, and the independent variable (or predictor variable) is pressure. However, no units are given with the dataset, unfortunately. The emperical model for the data is\n",
    "\n",
    "  $$y = b_1(1-e^{-b_2x})$$\n",
    "\n",
    "  where $b_1$ and $b_2$ are the fit parameters and $e$ is the natural number. This function is one minus an exponential decay.\n",
    "\n",
    "Let's fit the data to this function and find the fit parameters $b_1$ and $b_2$. We can compare our results to those [given by NIST](http://www.itl.nist.gov/div898/strd/nls/data/LINKS/v-misra1a.shtml).\n",
    "\n",
    "The data is in the file `Misra1a.txt`."
   ]
  },
  {
   "cell_type": "code",
   "execution_count": null,
   "metadata": {},
   "outputs": [],
   "source": [
    "df = pd.read_table('Misra1a.txt')\n",
    "df.head()"
   ]
  },
  {
   "cell_type": "code",
   "execution_count": null,
   "metadata": {},
   "outputs": [],
   "source": [
    "xdata = df['x']\n",
    "ydata = df['y']\n",
    "\n",
    "fig = plt.figure()\n",
    "plt.title('NIST Misra1a data')\n",
    "plt.xlabel('x')\n",
    "plt.ylabel('y')\n",
    "plt.plot(xdata,ydata,'bo')\n",
    "plt.show()"
   ]
  },
  {
   "cell_type": "code",
   "execution_count": null,
   "metadata": {},
   "outputs": [],
   "source": [
    "def one_minus_exp(xarray, b_1, b_2):\n",
    "    yarray = b_1*(1-np.exp(-b_2*xarray))\n",
    "    return yarray"
   ]
  },
  {
   "cell_type": "code",
   "execution_count": null,
   "metadata": {},
   "outputs": [],
   "source": [
    "# the curve_fit() function will return the fit parameters along with statistics\n",
    "parameters, stats = curve_fit(one_minus_exp, xdata, ydata)\n",
    "\n",
    "b1_best=parameters[0] # V at t=0, the initial voltage\n",
    "b2_best=parameters[1] # r, the decay constant\n",
    "\n",
    "print(\"The best fit parameters are: b_1=\",b1_best,\" and b2=\",b2_best)"
   ]
  },
  {
   "cell_type": "markdown",
   "metadata": {},
   "source": [
    "When you first ran the cell above, you should have received an ominous warning:\n",
    "\n",
    "```\n",
    "/anaconda3/envs/mathmodel/lib/python3.7/site-packages/scipy/optimize/minpack.py:795: OptimizeWarning: Covariance of the parameters could not be estimated\n",
    "  category=OptimizeWarning)\n",
    "```"
   ]
  },
  {
   "cell_type": "markdown",
   "metadata": {},
   "source": [
    "It means that the algorithm to find the best-fit parameters failed. The reason is that the algorithm basically assumes values of 1 for each parameter and then adjusts the value of each parameter until the difference in the best-fit curve and the data is a minimum.\n",
    "\n",
    "In cases like this, you have to give better starting values for the fit parameters. Use estimates to guess at numbers higher or lower than 1. Sometimes you have to try many powers 10 greater or less than 1."
   ]
  },
  {
   "cell_type": "markdown",
   "metadata": {},
   "source": [
    "### 1.8.1 What to do when `curve_fit()` fails"
   ]
  },
  {
   "cell_type": "markdown",
   "metadata": {},
   "source": [
    "Let's examine the data again."
   ]
  },
  {
   "cell_type": "code",
   "execution_count": null,
   "metadata": {},
   "outputs": [],
   "source": [
    "fig = plt.figure()\n",
    "plt.title('NIST Misra1a data')\n",
    "plt.xlabel('x')\n",
    "plt.ylabel('y')\n",
    "plt.plot(xdata,ydata,'bo')\n",
    "plt.show()"
   ]
  },
  {
   "cell_type": "markdown",
   "metadata": {},
   "source": [
    "The parameter $b_1$ is the value of $y$ in the limit as $x$ approaches infinity. The graph should flatten out. When $x=800$, it's not close to flattening out. So at what value of $y$ might it flatten to? It must be a couple hundred. So let's use $b_1=100$ as a guess, knowing that the best-fit value will be larger.\n",
    "\n",
    "The data is fairly linear for small x. It takes a fairly large value of $x$ before you notice any change in the graph. Thus, $b_2$ must be a number smaller than one. Let's guess $b_2=0.1$. Now when we call `curve_fit` we have to pass it a list of starting fit parameters larger or smaller than one, like this:\n",
    "\n",
    "```python\n",
    "parameters, stats = curve_fit(one_minus_exp, xdata, ydata, p0=[100, 0.1])\n",
    "```"
   ]
  },
  {
   "cell_type": "markdown",
   "metadata": {},
   "source": [
    "We are passing `p0=[100, 0.1]` to the `curve_fit()` function as starting values of the fit parameters. It's like we are \"nudging\" it in the right direction. Let's try this again."
   ]
  },
  {
   "cell_type": "code",
   "execution_count": null,
   "metadata": {},
   "outputs": [],
   "source": [
    "# the curve_fit() function will return the fit parameters along with statistics\n",
    "parameters, stats = curve_fit(one_minus_exp, xdata, ydata, p0=[100, 0.1])\n",
    "\n",
    "b1_best=parameters[0] # V at t=0, the initial voltage\n",
    "b2_best=parameters[1] # r, the decay constant\n",
    "\n",
    "print(\"The best fit parameters are: b_1=\",b1_best,\" and b2=\",b2_best)"
   ]
  },
  {
   "cell_type": "markdown",
   "metadata": {},
   "source": [
    "Note that $b_1$ is more than 100 times larger than 1 and $b_2$ is less than 1/1000 of 1. This is why we needed new starting values, other than 1.\n",
    "\n",
    "Now, let's plot the best-fit function with the data."
   ]
  },
  {
   "cell_type": "code",
   "execution_count": null,
   "metadata": {},
   "outputs": [],
   "source": [
    "x_array = np.linspace(0, 800,100)\n",
    "y_array = one_minus_exp(x_array, b1_best, b2_best)\n",
    "\n",
    "fig = plt.figure()\n",
    "plt.title('NIST Misra1a data')\n",
    "plt.xlabel('x')\n",
    "plt.ylabel('y')\n",
    "plt.plot(xdata,ydata,'bo')\n",
    "plt.plot(x_array,y_array,'r-', label='best fit:\\n b_1={:.2e} \\n r={:.2e}'.format(b1_best, b2_best))\n",
    "plt.legend()\n",
    "plt.show()"
   ]
  },
  {
   "cell_type": "markdown",
   "metadata": {},
   "source": [
    "You should check your work with [the fit parameters reported by NIST](https://www.itl.nist.gov/div898/strd/nls/data/LINKS/DATA/Misra1a.dat)."
   ]
  },
  {
   "cell_type": "markdown",
   "metadata": {},
   "source": [
    "### 1.8.2 Exercise 5"
   ]
  },
  {
   "cell_type": "markdown",
   "metadata": {},
   "source": [
    "Read the [NIST DanWood data set](http://www.itl.nist.gov/div898/strd/nls/data/daniel_wood.shtml) from the file `DanWood.txt`. Calculate and graph best-fit curves using each of the following mathematical models.\n",
    "\n",
    "  $$y=a_1+a_2x$$\n",
    "  $$y=a_1+a_2x^2$$\n",
    "  $$y=a_1+a_2x^3$$\n",
    "  $$y=a_1+a_2x^4$$\n",
    "  \n",
    "  Which model is closest to fitting the data?"
   ]
  },
  {
   "cell_type": "code",
   "execution_count": null,
   "metadata": {
    "nbgrader": {
     "grade": true,
     "grade_id": "Ex_5_ans",
     "locked": false,
     "points": 1,
     "schema_version": 3,
     "solution": true,
     "task": false
    }
   },
   "outputs": [],
   "source": []
  },
  {
   "cell_type": "markdown",
   "metadata": {},
   "source": [
    "### 1.8.3 Exercise 6"
   ]
  },
  {
   "cell_type": "markdown",
   "metadata": {},
   "source": [
    "For the previous exercise with the DanWood data set, do a curve fit with the model\n",
    "\n",
    "  $$y=a_1+a_2x^n$$\n",
    "  \n",
    "  where $n$ is a fit parameter, and let scipy's `curve_fit()` funtion find the value of $n$ that best fits the data. Compare your results to those reported [at NIST](http://www.itl.nist.gov/div898/strd/nls/data/LINKS/v-daniel_wood.shtml)."
   ]
  },
  {
   "cell_type": "code",
   "execution_count": null,
   "metadata": {
    "nbgrader": {
     "grade": true,
     "grade_id": "Ex_6_ans",
     "locked": false,
     "points": 1,
     "schema_version": 3,
     "solution": true,
     "task": false
    }
   },
   "outputs": [],
   "source": []
  }
 ],
 "metadata": {
  "celltoolbar": "Create Assignment",
  "kernelspec": {
   "display_name": "Python 3",
   "language": "python",
   "name": "python3"
  },
  "language_info": {
   "codemirror_mode": {
    "name": "ipython",
    "version": 3
   },
   "file_extension": ".py",
   "mimetype": "text/x-python",
   "name": "python",
   "nbconvert_exporter": "python",
   "pygments_lexer": "ipython3",
   "version": "3.7.3"
  }
 },
 "nbformat": 4,
 "nbformat_minor": 4
}
