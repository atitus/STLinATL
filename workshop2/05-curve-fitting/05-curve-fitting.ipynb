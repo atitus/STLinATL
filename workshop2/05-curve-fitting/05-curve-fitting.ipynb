{
 "cells": [
  {
   "cell_type": "markdown",
   "metadata": {},
   "source": [
    "# Table of Contents\n",
    "* [Curve Fitting](#Curve-Fitting)\n",
    "* [Fitting data manually](#Fitting-data-manually)\n",
    "\t* [Exercise - Adjusting Parameters Manually](#Exercise---Adjusting-Parameters-Manually)\n",
    "\t* [Exercise - Ball Rolling on a Track](#Exercise---Ball-Rolling-on-a-Track)\n",
    "* [Fitting data numerically](#Fitting-data-numerically)\n",
    "\t* [Exercise](#Exercise)\n",
    "\t* [Exercise](#Exercise)\n",
    "* [Fitting an exponential decay](#Fitting-an-exponential-decay)\n",
    "\t* [Discharging Capacitor](#Discharging-Capacitor)\n",
    "\t* [Exercise](#Exercise)\n",
    "\t* [Exercise](#Exercise)\n"
   ]
  },
  {
   "cell_type": "markdown",
   "metadata": {},
   "source": [
    "# Curve Fitting"
   ]
  },
  {
   "cell_type": "markdown",
   "metadata": {},
   "source": [
    "Data may be described by a *mathematical function*. Finding the best-fit function and *parameters* for a set of data is called *curve fitting*. In general, using a function generated from curve fitting in order to describe some process, whether it is physical, biological, social, economical, etc., is called *emperical modeling.* The mathematical function found for the best-fit curve is often called the **mathemtical model** or **emperical model**.\n",
    "\n",
    "Shiflet and Shiflet, in *Introduction to Computational Science*, say, \"An emperical model is based only on data and is used to predict, not explain a system. An emperical model consists of a function that captures the trend of the data.\" (Boldfaced font is included in the quote.)"
   ]
  },
  {
   "cell_type": "markdown",
   "metadata": {},
   "source": [
    "Before we start, import the necessary packages."
   ]
  },
  {
   "cell_type": "code",
   "execution_count": 1,
   "metadata": {},
   "outputs": [],
   "source": [
    "import numpy as np #used for arrays and numerical functions\n",
    "import pandas as pd #used for reading a data file\n",
    "import matplotlib.pyplot as plt #used for graphing\n",
    "from scipy.optimize import curve_fit #used for curve fitting"
   ]
  },
  {
   "cell_type": "markdown",
   "metadata": {},
   "source": [
    "# Fitting data manually"
   ]
  },
  {
   "cell_type": "markdown",
   "metadata": {},
   "source": [
    "Chemists use Beer's Law to measure concentration of a solution based on its absorbance of light. (Read [this brief tutorial](http://www.chem.ucla.edu/~harding/IGOC/B/beers_law.html) that includes photos as a demonstration of the principle.) \n",
    "\n",
    "Read the file `absorbance-grape.txt` and plot the absorbance (in arbitrary units) vs. concentration in grams per liter. Manually find the parameters for a linear curve fit. (Data is from Dr. Pam Knippenburg, HPU Department of Chemistry. Students in the introductory chemistry lab mix different concentrations of grape Kool-Aid and measure the absorbance of light by the Kool-Aid.)\n",
    "\n",
    "Fit the data with a linear model of the form:\n",
    "\n",
    "$y = mx + b$"
   ]
  },
  {
   "cell_type": "code",
   "execution_count": 29,
   "metadata": {},
   "outputs": [
    {
     "data": {
      "image/png": "[encoded data removed]",
      "text/plain": [
       "<Figure size 432x288 with 1 Axes>"
      ]
     },
     "metadata": {
      "needs_background": "light"
     },
     "output_type": "display_data"
    }
   ],
   "source": [
    "# create a Python function that contains the mathematical model for our fit\n",
    "#x can be a single value or an array for the dependent variable\n",
    "#  m, b are a comma separated list of fit parameters\n",
    "def model(x, m, b):\n",
    "    y =  m*x + b\n",
    "    return y\n",
    "\n",
    "# read the data file\n",
    "df = pd.read_csv('absorbance-grape.txt', sep='\\t')\n",
    "df.head()\n",
    "\n",
    "# define arrays for the data\n",
    "xdata = df['concentration (g/L)']\n",
    "ydata = df['absorbance (arb)']\n",
    "\n",
    "# define constants and create points for a linear function\n",
    "# m and b are initial guesses\n",
    "m = 1\n",
    "b = 1\n",
    "xfit = np.linspace(0,4,100) # dependent variable used for drawing a best-fit curve\n",
    "yfit = model(xfit, m, b) # dependent variable used for drawing a best-fit curve\n",
    "\n",
    "# plot data and the best-fit function on the same graph\n",
    "fig = plt.figure()\n",
    "plt.title(\"absorbance vs concentration\")\n",
    "plt.xlabel('concentration (g/L)')\n",
    "plt.ylabel('absorbance (arb)')\n",
    "plt.grid(which='both', axis='both')\n",
    "plt.plot(xdata, ydata, 'bo')\n",
    "plt.plot(xfit, yfit, 'r-')\n",
    "plt.show()\n"
   ]
  },
  {
   "cell_type": "markdown",
   "metadata": {},
   "source": [
    "## Exercise - Adjusting Parameters Manually"
   ]
  },
  {
   "cell_type": "markdown",
   "metadata": {},
   "source": [
    "In the program above, look for the variables `m` and `b`. Adjust the values of these variables until the line fits the data as closely as possible. What did you find for the best-fit values of the slope and intercept?"
   ]
  },
  {
   "cell_type": "code",
   "execution_count": null,
   "metadata": {},
   "outputs": [],
   "source": []
  },
  {
   "cell_type": "markdown",
   "metadata": {},
   "source": [
    "# Fitting data numerically to a polynomial"
   ]
  },
  {
   "cell_type": "markdown",
   "metadata": {},
   "source": [
    "Numpy has a function `polyfit()` that will compute the fit parameters to a [polynomial](https://numpy.org/doc/stable/reference/generated/numpy.polyfit.html) of the form\n",
    "\n",
    "$$y = a[0]x^n + a[1]x^{n-1} + \\cdots + a[n-1]x + a[n]$$\n",
    "\n",
    "where the highest exponent is $n$. Here is an example of a linear fit of the form $y=mx+b$ for the Beer's Law data. Notice that the first parameters are returned as `m` and `b` in that order."
   ]
  },
  {
   "cell_type": "code",
   "execution_count": 39,
   "metadata": {},
   "outputs": [
    {
     "data": {
      "image/png": "[encoded data removed]",
      "text/plain": [
       "<Figure size 432x288 with 1 Axes>"
      ]
     },
     "metadata": {
      "needs_background": "light"
     },
     "output_type": "display_data"
    }
   ],
   "source": [
    "# create a Python function that contains the mathematical model for our fit\n",
    "#x can be a single value or an array for the dependent variable\n",
    "#  m, b are a comma separated list of fit parameters\n",
    "def model(x, m, b):\n",
    "    y =  m*x + b\n",
    "    return y\n",
    "\n",
    "# read the data file\n",
    "df = pd.read_csv('absorbance-grape.txt', sep='\\t')\n",
    "df.head()\n",
    "\n",
    "# define arrays for the data\n",
    "xdata = df['concentration (g/L)']\n",
    "ydata = df['absorbance (arb)']\n",
    "\n",
    "#find the best-fit parameters and calculate a set of points for plotting the best-fit curve\n",
    "m,b = np.polyfit(xdata,ydata,1)\n",
    "xfit = np.linspace(0,4,100) # dependent variable used for drawing a best-fit curve\n",
    "yfit = model(xfit, m, b) # dependent variable used for drawing a best-fit curve\n",
    "\n",
    "# plot data and the best-fit function on the same graph\n",
    "fig = plt.figure()\n",
    "plt.title(\"absorbance vs concentration\")\n",
    "plt.xlabel('concentration (g/L)')\n",
    "plt.ylabel('absorbance (arb)')\n",
    "plt.grid(which='both', axis='both')\n",
    "plt.plot(xdata, ydata, 'bo')\n",
    "plt.plot(xfit, yfit, 'r-')\n",
    "plt.show()\n"
   ]
  },
  {
   "cell_type": "markdown",
   "metadata": {},
   "source": [
    "## Exercise - Using a Graph to Answer a Question"
   ]
  },
  {
   "cell_type": "markdown",
   "metadata": {},
   "source": [
    "What is the absorbance at a concentration of 5 g/L? Change the upper limit of `xfit` and use the graph to answer the question."
   ]
  },
  {
   "cell_type": "code",
   "execution_count": null,
   "metadata": {},
   "outputs": [],
   "source": []
  },
  {
   "cell_type": "markdown",
   "metadata": {},
   "source": [
    "## Exercise - Ball Rolling on a Track"
   ]
  },
  {
   "cell_type": "markdown",
   "metadata": {},
   "source": [
    "In this experiment, a ball rolls on a track with constant velocity.\n",
    "\n",
    "![](uniform-motion-ball-fast-main.gif)\n",
    "\n",
    "The x-position of the ball is measured at the times indicated by red markers in the animated gif. The data for x-position and time are in the file `x-t-ball.txt`.\n",
    "\n",
    "Fit the data manually with a linear model of the form:\n",
    "\n",
    "$x(t) = mt + b$\n",
    "\n",
    "where $m$ is the slope and represents the x-velocity of the ball and $b$ is the initial position of the ball at $t=0$. Note that $t$ is the independent variable (on the horizontal axis) and x-position is the dependent variable (on the vertical axis). This can be confusing for students.\n",
    "\n",
    "What did you find for the slope and intercept? Start with the program below that reads the file and assigns the time data to the array `xdata` and the x-position data to the array `ydata`. Then, copy and paste code from the previous program and edit lines as needed\n",
    "\n",
    "The best-fit line should look like this.\n",
    "\n",
    "<img src=\"x-t-ball-best-fit.png\" width=400>"
   ]
  },
  {
   "cell_type": "code",
   "execution_count": 40,
   "metadata": {},
   "outputs": [],
   "source": [
    "# create a Python function that contains the mathematical model for our fit\n",
    "#x can be a single value or an array for the dependent variable\n",
    "#  m, b are a comma separated list of fit parameters\n",
    "def model(x, m, b):\n",
    "    y =  m*x + b\n",
    "    return y\n",
    "\n",
    "# read the data file\n",
    "df = pd.read_csv('x-t-ball.txt', sep='\\t')\n",
    "df.head()\n",
    "\n",
    "# define arrays for the data\n",
    "xdata = df['time (s)']\n",
    "ydata = df['x-position (m)']\n",
    "\n",
    "#find the best-fit parameters and calculate a set of points for the best-fit curve\n",
    "\n",
    "# plot the data and best-fit curve on the same axes with a proper title, x-axis label, and y-axis label\n"
   ]
  },
  {
   "cell_type": "markdown",
   "metadata": {},
   "source": [
    "# Fitting data numerically"
   ]
  },
  {
   "cell_type": "markdown",
   "metadata": {},
   "source": [
    "Python can use a general algorithm to compute the best-fit parameters for a given mathematical function. It works for any mathematical model, not just polynomials."
   ]
  },
  {
   "cell_type": "code",
   "execution_count": 41,
   "metadata": {},
   "outputs": [
    {
     "name": "stdout",
     "output_type": "stream",
     "text": [
      "The best-fit function is y=mx + b where m=0.3365 and b=0.0471.\n"
     ]
    },
    {
     "data": {
      "image/png": "[encoded data removed]",
      "text/plain": [
       "<Figure size 432x288 with 1 Axes>"
      ]
     },
     "metadata": {
      "needs_background": "light"
     },
     "output_type": "display_data"
    }
   ],
   "source": [
    "# create a Python function that contains the mathematical model for our fit\n",
    "#x can be a single value or an array for the dependent variable\n",
    "#  m, b are a comma separated list of fit parameters\n",
    "def model(x, m, b):\n",
    "    y =  m*x + b\n",
    "    return y\n",
    "\n",
    "\n",
    "# read the data file\n",
    "df = pd.read_csv('absorbance-grape.txt', sep='\\t')\n",
    "df.head()\n",
    "\n",
    "# define arrays for the data\n",
    "xdata = df['concentration (g/L)']\n",
    "ydata = df['absorbance (arb)']\n",
    "\n",
    "# find best-fit parameters\n",
    "initial_guess = [1, 1] #initial guess of m, b\n",
    "parameters, stats = curve_fit(model, xdata, ydata, p0=initial_guess)\n",
    "m, b = parameters\n",
    "print(\"The best-fit function is y=mx + b where m={:.4f} and b={:.4f}.\".format(m,b))\n",
    "\n",
    "# create a set of points using the best-fit parameters so we can plot the best-fit function\n",
    "xfit = np.linspace(0,4.5,100)\n",
    "yfit = model(xfit, m, b)\n",
    "\n",
    "# plot data and the best-fit function on the same graph\n",
    "fig = plt.figure()\n",
    "plt.title(\"absorbance vs concentration\")\n",
    "plt.xlabel('concentration (g/L)')\n",
    "plt.ylabel('absorbance (arb)')\n",
    "plt.grid(which='both', axis='both')\n",
    "plt.plot(xdata, ydata, 'bo')\n",
    "plt.plot(xfit, yfit, 'r-')\n",
    "plt.show()\n"
   ]
  },
  {
   "cell_type": "markdown",
   "metadata": {},
   "source": [
    "## Exercise"
   ]
  },
  {
   "cell_type": "markdown",
   "metadata": {},
   "source": [
    "Find and plot the best-fit linear function for brain weight vs. body weight of various mammals. Data is in the file `brain-weight-body-height.txt`. ([data source](https://people.sc.fsu.edu/~jburkardt/datasets/regression/x01.txt))\n",
    "\n",
    "The program below defines the model, reads the data file, and finds the best-fit parameters. But it does not plot the data nor the best-fit function. Copy the appropriate code from a previous program and edit it to plot the data and best-fit function."
   ]
  },
  {
   "cell_type": "code",
   "execution_count": 17,
   "metadata": {
    "nbgrader": {
     "grade": true,
     "grade_id": "Ex_3_ans",
     "locked": false,
     "points": 1,
     "schema_version": 3,
     "solution": true,
     "task": false
    }
   },
   "outputs": [
    {
     "name": "stdout",
     "output_type": "stream",
     "text": [
      "The best-fit function is y = mx + b where m=0.6425 and b=-12.5605.\n"
     ]
    }
   ],
   "source": [
    "# create a Python function that contains the mathematical model for our fit\n",
    "#x can be a single value or an array for the dependent variable\n",
    "#  m, b are a comma separated list of fit parameters\n",
    "def model(x, m, b):\n",
    "    y =  m*x + b\n",
    "    return y\n",
    "\n",
    "\n",
    "# read the data file\n",
    "df = pd.read_csv('brain-weight-body-height.txt', sep='\\t')\n",
    "df.head()\n",
    "\n",
    "# define arrays for the data\n",
    "xdata = df['Body Weight (lbs)']\n",
    "ydata = df['Brain Weight (lbs)']\n",
    "\n",
    "# find best-fit parameters\n",
    "initial_guess = [1, 1] #initial guess of m, b\n",
    "parameters, stats = curve_fit(model, xdata, ydata, p0=initial_guess)\n",
    "m, b = parameters\n",
    "print(\"The best-fit function is y = mx + b where m={:.4f} and b={:.4f}.\".format(m,b))\n"
   ]
  },
  {
   "cell_type": "code",
   "execution_count": null,
   "metadata": {
    "nbgrader": {
     "grade": true,
     "grade_id": "Ex_4_ans",
     "locked": false,
     "points": 1,
     "schema_version": 3,
     "solution": true,
     "task": false
    }
   },
   "outputs": [],
   "source": []
  },
  {
   "cell_type": "markdown",
   "metadata": {},
   "source": [
    "# Fitting an exponential decay"
   ]
  },
  {
   "cell_type": "markdown",
   "metadata": {
    "collapsed": true
   },
   "source": [
    "## Discharging Capacitor"
   ]
  },
  {
   "cell_type": "markdown",
   "metadata": {},
   "source": [
    "A capacitor stores electrical potential energy by having oppositely charged parallel plates. Like a battery, there is a voltage across the capacitor. When the capacitor is connected to a resistor, the voltage decreases as a function of time. (In contrast, a battery maintains a constant voltage for a fairly long time when it is connected to a resistor.)\n",
    "\n",
    "In this experiment, an initially charged capacitor is connected to a resistor, like a light bulb. At $t=0$, the circuit is connected, and a voltmeter is used to measure the voltage across the capacitor at 10 s intervals.\n",
    "\n",
    "![](discharging-capacitor.png)\n",
    "\n",
    "Data for the voltage as a function of time is in the file `discharging-capacitor.txt`. Let's read and plot the data."
   ]
  },
  {
   "cell_type": "code",
   "execution_count": 24,
   "metadata": {},
   "outputs": [
    {
     "data": {
      "image/png": "[encoded data removed]",
      "text/plain": [
       "<Figure size 432x288 with 1 Axes>"
      ]
     },
     "metadata": {
      "needs_background": "light"
     },
     "output_type": "display_data"
    }
   ],
   "source": [
    "df = pd.read_csv('discharging-capacitor.txt', sep='\\t')\n",
    "df.head()\n",
    "\n",
    "xdata = df['t (min)']\n",
    "ydata = df['V (volt)']\n",
    "\n",
    "plt.title('Voltage across a discharging capacitor')\n",
    "plt.xlabel('t (min)')\n",
    "plt.ylabel('V (volt)')\n",
    "plt.grid(which='both', axis='both')\n",
    "plt.plot(xdata,ydata,'bo')\n",
    "plt.show()"
   ]
  },
  {
   "cell_type": "markdown",
   "metadata": {},
   "source": [
    "When we look at this data, we might think \"Aha! This looks like exponential decay.\" But we don't know it's exponential decay unless we do a curve fit. Also, a curve fit can give us the parameters for the best-fit function if indeed it is exponential decay as we expect.\n",
    "\n",
    "A general exponential function $y(x)$ has the form\n",
    "\n",
    "$$y=y_0e^{-rx}$$\n",
    "\n",
    "where $y$ is the dependent variable, x is the independent variable, $r$ is the decay constant, and $y_0$ is the value of $y$ at $x=0$--this is called the initial value of y.\n",
    "\n",
    "We will begin by creating a Python function that takes an array of independent values called `x` and constants `y_0` and `r` and calculates the corresponding dependent values `y` using a mathematical function or *model*, $y(x)$ which is in this case an exponential. The rest of the program is similar to what we wrote for a linear curve fit, except we use the fit parameters `y0` and `r`."
   ]
  },
  {
   "cell_type": "code",
   "execution_count": 27,
   "metadata": {},
   "outputs": [
    {
     "name": "stdout",
     "output_type": "stream",
     "text": [
      "The best-fit function is y = y0*exp(-rx) where y0=2.9094 and r=1.2041.\n"
     ]
    },
    {
     "data": {
      "image/png": "[encoded data removed]",
      "text/plain": [
       "<Figure size 432x288 with 1 Axes>"
      ]
     },
     "metadata": {
      "needs_background": "light"
     },
     "output_type": "display_data"
    }
   ],
   "source": [
    "# create a Python function that contains the mathematical model for our fit\n",
    "#x can be a single value or an array for the dependent variable\n",
    "#  m, b are a comma separated list of fit parameters\n",
    "def model(x, y0, r):\n",
    "    y =  y0*np.exp(-r*x)\n",
    "    return y\n",
    "\n",
    "\n",
    "# read the data file\n",
    "df = pd.read_csv('discharging-capacitor.txt', sep='\\t')\n",
    "df.head()\n",
    "\n",
    "# define arrays for the data\n",
    "xdata = df['t (min)']\n",
    "ydata = df['V (volt)']\n",
    "\n",
    "# find best-fit parameters\n",
    "initial_guess = [1, 1] #initial guess of m, b\n",
    "parameters, stats = curve_fit(model, xdata, ydata, p0=initial_guess)\n",
    "y0, r = parameters\n",
    "print(\"The best-fit function is y = y0*exp(-rx) where y0={:.4f} and r={:.4f}.\".format(y0,r))\n",
    "\n",
    "# create a set of points using the best-fit parameters so we can plot the best-fit function\n",
    "xfit = np.linspace(0,2.5,100)\n",
    "yfit = model(xfit, y0, r)\n",
    "\n",
    "# plot data and the best-fit function on the same graph\n",
    "fig = plt.figure()\n",
    "plt.title(\"Discharging Capacitor\")\n",
    "plt.xlabel('t (min)')\n",
    "plt.ylabel('V (volts)')\n",
    "plt.grid(which='both', axis='both')\n",
    "plt.plot(xdata, ydata, 'bo')\n",
    "plt.plot(xfit, yfit, 'r-')\n",
    "plt.show()\n"
   ]
  },
  {
   "cell_type": "markdown",
   "metadata": {},
   "source": [
    "## Exercise"
   ]
  },
  {
   "cell_type": "markdown",
   "metadata": {},
   "source": [
    "Read the [NIST DanWood data set](http://www.itl.nist.gov/div898/strd/nls/data/daniel_wood.shtml) from the file `DanWood.txt`. Calculate and graph best-fit curves using each of the following mathematical models.\n",
    "\n",
    "  $$y=a_1+a_2x$$\n",
    "  $$y=a_1+a_2x^2$$\n",
    "  $$y=a_1+a_2x^3$$\n",
    "  $$y=a_1+a_2x^4$$\n",
    "  \n",
    "  Which model is closest to fitting the data?"
   ]
  },
  {
   "cell_type": "code",
   "execution_count": null,
   "metadata": {
    "nbgrader": {
     "grade": true,
     "grade_id": "Ex_5_ans",
     "locked": false,
     "points": 1,
     "schema_version": 3,
     "solution": true,
     "task": false
    }
   },
   "outputs": [],
   "source": []
  },
  {
   "cell_type": "markdown",
   "metadata": {},
   "source": [
    "## Exercise"
   ]
  },
  {
   "cell_type": "markdown",
   "metadata": {},
   "source": [
    "For the previous exercise with the DanWood data set, do a curve fit with the model\n",
    "\n",
    "  $$y=a_1+a_2x^n$$\n",
    "  \n",
    "  where $n$ is a fit parameter, and let scipy's `curve_fit()` funtion find the value of $n$ that best fits the data. Compare your results to those reported [at NIST](http://www.itl.nist.gov/div898/strd/nls/data/LINKS/v-daniel_wood.shtml)."
   ]
  },
  {
   "cell_type": "code",
   "execution_count": null,
   "metadata": {
    "nbgrader": {
     "grade": true,
     "grade_id": "Ex_6_ans",
     "locked": false,
     "points": 1,
     "schema_version": 3,
     "solution": true,
     "task": false
    }
   },
   "outputs": [],
   "source": []
  }
 ],
 "metadata": {
  "celltoolbar": "Create Assignment",
  "kernelspec": {
   "display_name": "Python 3",
   "language": "python",
   "name": "python3"
  },
  "language_info": {
   "codemirror_mode": {
    "name": "ipython",
    "version": 3
   },
   "file_extension": ".py",
   "mimetype": "text/x-python",
   "name": "python",
   "nbconvert_exporter": "python",
   "pygments_lexer": "ipython3",
   "version": "3.7.3"
  }
 },
 "nbformat": 4,
 "nbformat_minor": 4
}
