{
 "cells": [
  {
   "cell_type": "markdown",
   "metadata": {},
   "source": [
    "# Curve Fitting - Part 3"
   ]
  },
  {
   "cell_type": "markdown",
   "metadata": {},
   "source": [
    "# Fitting data numerically to any general model"
   ]
  },
  {
   "cell_type": "markdown",
   "metadata": {},
   "source": [
    "First, import packages."
   ]
  },
  {
   "cell_type": "code",
   "execution_count": 2,
   "metadata": {},
   "outputs": [],
   "source": [
    "import numpy as np #used for arrays and numerical functions\n",
    "import pandas as pd #used for reading a data file\n",
    "import matplotlib.pyplot as plt #used for graphing\n",
    "from scipy.optimize import curve_fit #used for curve fitting"
   ]
  },
  {
   "cell_type": "markdown",
   "metadata": {},
   "source": [
    "Python can use a general algorithm to compute the best-fit parameters for a given mathematical function. It works for any mathematical model, not just polynomials. However, for simplicity, the program below fits data with a linear model.\n",
    "\n",
    "We defined the Python function `model()` which takes a value (or array) for the independent variable and the values of the parameters (coefficients) and returns the dependent variable.\n",
    "\n",
    "The function `curve_fit()` from the `scipy.optimize` package finds the best-fit parameters (coefficients)."
   ]
  },
  {
   "cell_type": "code",
   "execution_count": 5,
   "metadata": {},
   "outputs": [
    {
     "name": "stdout",
     "output_type": "stream",
     "text": [
      "   concentration (g/L)  absorbance (arb)\n",
      "0               0.2077             0.079\n",
      "1               0.4154             0.164\n",
      "2               1.0385             0.418\n",
      "3               2.0770             0.827\n",
      "4               4.1540             1.403\n",
      "The best-fit function is y=mx + b where m=0.3365 and b=0.0471.\n"
     ]
    },
    {
     "data": {
      "image/png": "[encoded data removed]",
      "text/plain": [
       "<Figure size 432x288 with 1 Axes>"
      ]
     },
     "metadata": {
      "needs_background": "light"
     },
     "output_type": "display_data"
    }
   ],
   "source": [
    "# create a Python function that contains the mathematical model for our fit\n",
    "# x can be a single value or an array for the independent variable\n",
    "#  m, b are a comma separated list of fit parameters\n",
    "def model(x, m, b):\n",
    "    y =  m*x + b\n",
    "    return y\n",
    "\n",
    "\n",
    "# read the data file\n",
    "df = pd.read_csv('https://github.com/atitus/STLinATL/raw/master/workshop2/05-curve-fitting/absorbance-grape.txt', sep='\\t')\n",
    "print(df.head())\n",
    "\n",
    "# define arrays for the data\n",
    "xdata = df['concentration (g/L)']\n",
    "ydata = df['absorbance (arb)']\n",
    "\n",
    "# find best-fit parameters\n",
    "initial_guess = [1, 1] #initial guess of m, b\n",
    "parameters, stats = curve_fit(model, xdata, ydata, p0=initial_guess)\n",
    "m, b = parameters\n",
    "print(\"The best-fit function is y=mx + b where m={:.4f} and b={:.4f}.\".format(m,b))\n",
    "\n",
    "# create a set of points using the best-fit parameters so we can plot the best-fit function\n",
    "xfit = np.linspace(0,4.5,100)\n",
    "yfit = model(xfit, m, b)\n",
    "\n",
    "# plot data and the best-fit function on the same graph\n",
    "fig = plt.figure()\n",
    "plt.title(\"absorbance vs concentration\")\n",
    "plt.xlabel('concentration (g/L)')\n",
    "plt.ylabel('absorbance (arb)')\n",
    "plt.grid(which='both', axis='both')\n",
    "plt.plot(xdata, ydata, 'bo')\n",
    "plt.plot(xfit, yfit, 'r-')\n",
    "plt.show()\n"
   ]
  },
  {
   "cell_type": "markdown",
   "metadata": {},
   "source": [
    "## Exercise"
   ]
  },
  {
   "cell_type": "markdown",
   "metadata": {},
   "source": [
    "Find and plot the best-fit linear function for brain weight vs. body weight of various mammals. Data is in the file `brain-weight-body-height.txt`. ([data source](https://people.sc.fsu.edu/~jburkardt/datasets/regression/x01.txt))\n",
    "\n",
    "The program below defines the model, reads the data file, and finds the best-fit parameters. But it does not plot the data nor the best-fit function. Copy the appropriate code from a previous program and edit it to plot the data and best-fit function."
   ]
  },
  {
   "cell_type": "code",
   "execution_count": 6,
   "metadata": {
    "nbgrader": {
     "grade": true,
     "grade_id": "Ex_3_ans",
     "locked": false,
     "points": 1,
     "schema_version": 3,
     "solution": true,
     "task": false
    }
   },
   "outputs": [
    {
     "name": "stdout",
     "output_type": "stream",
     "text": [
      "   Body Weight (lbs)  Brain Weight (lbs)\n",
      "0               44.5               3.385\n",
      "1               15.5               0.480\n",
      "2                8.1               1.350\n",
      "3              423.0             465.000\n",
      "4              119.5              36.330\n",
      "The best-fit function is y = mx + b where m=0.6425 and b=-12.5605.\n"
     ]
    }
   ],
   "source": [
    "# create a Python function that contains the mathematical model for our fit\n",
    "# x can be a single value or an array for the independent variable\n",
    "#  m, b are a comma separated list of fit parameters\n",
    "def model(x, m, b):\n",
    "    y =  m*x + b\n",
    "    return y\n",
    "\n",
    "\n",
    "# read the data file\n",
    "df = pd.read_csv('https://github.com/atitus/STLinATL/raw/master/workshop2/05-curve-fitting/brain-weight-body-height.txt', sep='\\t')\n",
    "print(df.head())\n",
    "\n",
    "# define arrays for the data\n",
    "xdata = df['Body Weight (lbs)']\n",
    "ydata = df['Brain Weight (lbs)']\n",
    "\n",
    "# find best-fit parameters\n",
    "initial_guess = [1, 1] #initial guess of m, b\n",
    "parameters, stats = curve_fit(model, xdata, ydata, p0=initial_guess)\n",
    "m, b = parameters\n",
    "print(\"The best-fit function is y = mx + b where m={:.4f} and b={:.4f}.\".format(m,b))\n"
   ]
  },
  {
   "cell_type": "code",
   "execution_count": null,
   "metadata": {
    "nbgrader": {
     "grade": true,
     "grade_id": "Ex_4_ans",
     "locked": false,
     "points": 1,
     "schema_version": 3,
     "solution": true,
     "task": false
    }
   },
   "outputs": [],
   "source": []
  },
  {
   "cell_type": "markdown",
   "metadata": {},
   "source": [
    "# Fitting an exponential decay"
   ]
  },
  {
   "cell_type": "markdown",
   "metadata": {
    "collapsed": true
   },
   "source": [
    "## Discharging Capacitor"
   ]
  },
  {
   "cell_type": "markdown",
   "metadata": {},
   "source": [
    "A capacitor stores electrical potential energy by having oppositely charged parallel plates. Like a battery, there is a voltage across the capacitor. When the capacitor is connected to a resistor, the voltage decreases as a function of time. (In contrast, a battery maintains a constant voltage for a fairly long time when it is connected to a resistor.)\n",
    "\n",
    "In this experiment, an initially charged capacitor is connected to a resistor, like a light bulb. At $t=0$, the circuit is connected, and a voltmeter is used to measure the voltage across the capacitor at 10 s intervals.\n",
    "\n",
    "![](discharging-capacitor.png)\n",
    "\n",
    "Data for the voltage as a function of time is in the file `discharging-capacitor.txt`. Let's read and plot the data."
   ]
  },
  {
   "cell_type": "code",
   "execution_count": 7,
   "metadata": {},
   "outputs": [
    {
     "data": {
      "image/png": "[encoded data removed]",
      "text/plain": [
       "<Figure size 432x288 with 1 Axes>"
      ]
     },
     "metadata": {
      "needs_background": "light"
     },
     "output_type": "display_data"
    }
   ],
   "source": [
    "df = pd.read_csv('https://github.com/atitus/STLinATL/raw/master/workshop2/05-curve-fitting/discharging-capacitor.txt', sep='\\t')\n",
    "\n",
    "xdata = df['t (min)']\n",
    "ydata = df['V (volt)']\n",
    "\n",
    "plt.title('Voltage across a discharging capacitor')\n",
    "plt.xlabel('t (min)')\n",
    "plt.ylabel('V (volt)')\n",
    "plt.grid(which='both', axis='both')\n",
    "plt.plot(xdata,ydata,'bo')\n",
    "plt.show()"
   ]
  },
  {
   "cell_type": "markdown",
   "metadata": {},
   "source": [
    "When we look at this data, we might think \"Aha! This looks like exponential decay.\" But we don't know it's exponential decay unless we do a curve fit. Also, a curve fit can give us the parameters for the best-fit function if indeed it is exponential decay as we expect.\n",
    "\n",
    "A general exponential function $y(x)$ has the form\n",
    "\n",
    "$$y=y_0e^{-rx}$$\n",
    "\n",
    "where $y$ is the dependent variable, x is the independent variable, $r$ is the decay constant, and $y_0$ is the value of $y$ at $x=0$--this is called the initial value of y.\n",
    "\n",
    "We will begin by creating a Python function that takes an array of independent values called `x` and constants `y_0` and `r` and calculates the corresponding dependent values `y` using a mathematical function or *model*, $y(x)$ which is in this case an exponential. The rest of the program is similar to what we wrote for a linear curve fit, except we use the fit parameters `y0` and `r`."
   ]
  },
  {
   "cell_type": "code",
   "execution_count": 8,
   "metadata": {},
   "outputs": [
    {
     "name": "stdout",
     "output_type": "stream",
     "text": [
      "   t (min)  V (volt)\n",
      "0     0.00      2.99\n",
      "1     0.17      2.32\n",
      "2     0.33      1.86\n",
      "3     0.50      1.64\n",
      "4     0.67      1.23\n",
      "The best-fit function is y = y0*exp(-rx) where y0=2.9094 and r=1.2041.\n"
     ]
    },
    {
     "data": {
      "image/png": "[encoded data removed]",
      "text/plain": [
       "<Figure size 432x288 with 1 Axes>"
      ]
     },
     "metadata": {
      "needs_background": "light"
     },
     "output_type": "display_data"
    }
   ],
   "source": [
    "# create a Python function that contains the mathematical model for our fit\n",
    "# x can be a single value or an array for the independent variable\n",
    "def model(x, y0, r):\n",
    "    y =  y0*np.exp(-r*x)\n",
    "    return y\n",
    "\n",
    "# read the data file\n",
    "df = pd.read_csv('https://github.com/atitus/STLinATL/raw/master/workshop2/05-curve-fitting/discharging-capacitor.txt', sep='\\t')\n",
    "print(df.head())\n",
    "\n",
    "# define arrays for the data\n",
    "xdata = df['t (min)']\n",
    "ydata = df['V (volt)']\n",
    "\n",
    "# find best-fit parameters\n",
    "initial_guess = [1, 1] #initial guess of m, b\n",
    "parameters, stats = curve_fit(model, xdata, ydata, p0=initial_guess)\n",
    "y0, r = parameters\n",
    "print(\"The best-fit function is y = y0*exp(-rx) where y0={:.4f} and r={:.4f}.\".format(y0,r))\n",
    "\n",
    "# create a set of points using the best-fit parameters so we can plot the best-fit function\n",
    "xfit = np.linspace(0,2.5,100)\n",
    "yfit = model(xfit, y0, r)\n",
    "\n",
    "# plot data and the best-fit function on the same graph\n",
    "fig = plt.figure()\n",
    "plt.title(\"Discharging Capacitor\")\n",
    "plt.xlabel('t (min)')\n",
    "plt.ylabel('V (volts)')\n",
    "plt.grid(which='both', axis='both')\n",
    "plt.plot(xdata, ydata, 'bo')\n",
    "plt.plot(xfit, yfit, 'r-')\n",
    "plt.show()\n"
   ]
  },
  {
   "cell_type": "markdown",
   "metadata": {},
   "source": [
    "## Exercise"
   ]
  },
  {
   "cell_type": "markdown",
   "metadata": {},
   "source": [
    "Read the [NIST DanWood data set](http://www.itl.nist.gov/div898/strd/nls/data/daniel_wood.shtml) from the file `DanWood.txt`. Calculate and graph best-fit curves using each of the following mathematical models.\n",
    "\n",
    "  $$y=a_1+a_2x$$\n",
    "  $$y=a_1+a_2x^2$$\n",
    "  $$y=a_1+a_2x^3$$\n",
    "  $$y=a_1+a_2x^4$$\n",
    "  \n",
    "  Which model is closest to fitting the data?"
   ]
  },
  {
   "cell_type": "code",
   "execution_count": null,
   "metadata": {
    "nbgrader": {
     "grade": true,
     "grade_id": "Ex_5_ans",
     "locked": false,
     "points": 1,
     "schema_version": 3,
     "solution": true,
     "task": false
    }
   },
   "outputs": [],
   "source": []
  },
  {
   "cell_type": "markdown",
   "metadata": {},
   "source": [
    "## Exercise"
   ]
  },
  {
   "cell_type": "markdown",
   "metadata": {},
   "source": [
    "For the previous exercise with the DanWood data set, do a curve fit with the model\n",
    "\n",
    "  $$y=a_1+a_2x^n$$\n",
    "  \n",
    "  where $n$ is a fit parameter, and let scipy's `curve_fit()` funtion find the value of $n$ that best fits the data. Compare your results to those reported [at NIST](http://www.itl.nist.gov/div898/strd/nls/data/LINKS/v-daniel_wood.shtml)."
   ]
  },
  {
   "cell_type": "code",
   "execution_count": null,
   "metadata": {
    "nbgrader": {
     "grade": true,
     "grade_id": "Ex_6_ans",
     "locked": false,
     "points": 1,
     "schema_version": 3,
     "solution": true,
     "task": false
    }
   },
   "outputs": [],
   "source": []
  }
 ],
 "metadata": {
  "celltoolbar": "Create Assignment",
  "kernelspec": {
   "display_name": "Python 3",
   "language": "python",
   "name": "python3"
  },
  "language_info": {
   "codemirror_mode": {
    "name": "ipython",
    "version": 3
   },
   "file_extension": ".py",
   "mimetype": "text/x-python",
   "name": "python",
   "nbconvert_exporter": "python",
   "pygments_lexer": "ipython3",
   "version": "3.7.3"
  }
 },
 "nbformat": 4,
 "nbformat_minor": 4
}
