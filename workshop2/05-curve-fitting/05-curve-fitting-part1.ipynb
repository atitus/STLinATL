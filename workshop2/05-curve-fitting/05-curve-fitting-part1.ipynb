{
 "cells": [
  {
   "cell_type": "markdown",
   "metadata": {},
   "source": [
    "# Curve Fitting - Part 1"
   ]
  },
  {
   "cell_type": "markdown",
   "metadata": {},
   "source": [
    "Data may be described by a *mathematical function*. Finding the best-fit function and *parameters* for a set of data is called *curve fitting*. In general, using a function generated from curve fitting in order to describe some process, whether it is physical, biological, social, economical, etc., is called *emperical modeling.* The mathematical function found for the best-fit curve is often called the **mathemtical model** or **emperical model**.\n",
    "\n",
    "Shiflet and Shiflet, in *Introduction to Computational Science*, say, \"An emperical model is based only on data and is used to predict, not explain a system. An emperical model consists of a function that captures the trend of the data.\" (Boldfaced font is included in the quote.)"
   ]
  },
  {
   "cell_type": "markdown",
   "metadata": {},
   "source": [
    "Before we start, import the necessary packages."
   ]
  },
  {
   "cell_type": "code",
   "execution_count": 2,
   "metadata": {},
   "outputs": [],
   "source": [
    "import numpy as np #used for arrays and numerical functions\n",
    "import pandas as pd #used for reading a data file\n",
    "import matplotlib.pyplot as plt #used for graphing"
   ]
  },
  {
   "cell_type": "markdown",
   "metadata": {},
   "source": [
    "# Fitting data manually"
   ]
  },
  {
   "cell_type": "markdown",
   "metadata": {},
   "source": [
    "Chemists use Beer's Law to measure concentration of a solution based on its absorbance of light. (Read [this brief tutorial](http://www.chem.ucla.edu/~harding/IGOC/B/beers_law.html) that includes photos as a demonstration of the principle.) \n",
    "\n",
    "Read the file `absorbance-grape.txt` and plot the absorbance (in arbitrary units) vs. concentration in grams per liter. Manually find the parameters for a linear curve fit. (Data is from Dr. Pam Knippenburg, HPU Department of Chemistry. Students in the introductory chemistry lab mix different concentrations of grape Kool-Aid and measure the absorbance of light by the Kool-Aid.)\n",
    "\n",
    "Fit the data with a linear model of the form:\n",
    "\n",
    "$y = mx + b$"
   ]
  },
  {
   "cell_type": "code",
   "execution_count": 3,
   "metadata": {},
   "outputs": [
    {
     "name": "stdout",
     "output_type": "stream",
     "text": [
      "   concentration (g/L)  absorbance (arb)\n",
      "0               0.2077             0.079\n",
      "1               0.4154             0.164\n",
      "2               1.0385             0.418\n",
      "3               2.0770             0.827\n",
      "4               4.1540             1.403\n"
     ]
    },
    {
     "data": {
      "image/png": "[encoded data removed]",
      "text/plain": [
       "<Figure size 432x288 with 1 Axes>"
      ]
     },
     "metadata": {
      "needs_background": "light"
     },
     "output_type": "display_data"
    }
   ],
   "source": [
    "# read the data file\n",
    "df = pd.read_csv('https://github.com/atitus/STLinATL/raw/master/workshop2/05-curve-fitting/absorbance-grape.txt', sep='\\t')\n",
    "print(df.head())\n",
    "\n",
    "# define arrays for the data\n",
    "xdata = df['concentration (g/L)']\n",
    "ydata = df['absorbance (arb)']\n",
    "\n",
    "# define constants and create points for a linear function\n",
    "# m and b are initial guesses\n",
    "m = 1\n",
    "b = 1\n",
    "xfit = np.linspace(0,4,100) # dependent variable used for drawing a best-fit curve\n",
    "yfit = m*xfit + b # independent variable used for drawing a best-fit curve\n",
    "\n",
    "# plot data and the best-fit function on the same graph\n",
    "fig = plt.figure()\n",
    "plt.title(\"absorbance vs concentration\")\n",
    "plt.xlabel('concentration (g/L)')\n",
    "plt.ylabel('absorbance (arb)')\n",
    "plt.grid(which='both', axis='both')\n",
    "plt.plot(xdata, ydata, 'bo')\n",
    "plt.plot(xfit, yfit, 'r-')\n",
    "plt.show()\n"
   ]
  },
  {
   "cell_type": "markdown",
   "metadata": {},
   "source": [
    "## Exercise - Adjusting Parameters Manually"
   ]
  },
  {
   "cell_type": "markdown",
   "metadata": {},
   "source": [
    "In the program above, look for the variables `m` and `b`. Adjust the values of these variables until the line fits the data as closely as possible. What did you find for the best-fit values of the slope and intercept?"
   ]
  },
  {
   "cell_type": "code",
   "execution_count": null,
   "metadata": {},
   "outputs": [],
   "source": []
  },
  {
   "cell_type": "markdown",
   "metadata": {},
   "source": [
    "# Fitting data numerically to a polynomial"
   ]
  },
  {
   "cell_type": "markdown",
   "metadata": {},
   "source": [
    "Numpy has a function `polyfit()` that will compute the fit parameters to a [polynomial](https://numpy.org/doc/stable/reference/generated/numpy.polyfit.html) of the form\n",
    "\n",
    "$$y = p[0]x^n + p[1]x^{n-1} + \\cdots + p[n-1]x + p[n]$$\n",
    "\n",
    "where the highest exponent is $n$ and `p` is an array of fit parameters. Here is an example of a linear fit of the form $y=mx+b$ for the Beer's Law data. Notice that the fit parameters are returned as `m` and `b` in that order."
   ]
  },
  {
   "cell_type": "code",
   "execution_count": 4,
   "metadata": {},
   "outputs": [
    {
     "name": "stdout",
     "output_type": "stream",
     "text": [
      "   concentration (g/L)  absorbance (arb)\n",
      "0               0.2077             0.079\n",
      "1               0.4154             0.164\n",
      "2               1.0385             0.418\n",
      "3               2.0770             0.827\n",
      "4               4.1540             1.403\n"
     ]
    },
    {
     "data": {
      "image/png": "[encoded data removed]",
      "text/plain": [
       "<Figure size 432x288 with 1 Axes>"
      ]
     },
     "metadata": {
      "needs_background": "light"
     },
     "output_type": "display_data"
    }
   ],
   "source": [
    "# read the data file\n",
    "df = pd.read_csv('https://github.com/atitus/STLinATL/raw/master/workshop2/05-curve-fitting/absorbance-grape.txt', sep='\\t')\n",
    "print(df.head())\n",
    "\n",
    "# define arrays for the data\n",
    "xdata = df['concentration (g/L)']\n",
    "ydata = df['absorbance (arb)']\n",
    "\n",
    "#find the best-fit parameters and calculate a set of points for plotting the best-fit curve\n",
    "m,b = np.polyfit(xdata,ydata,1) #1st degree polynomial\n",
    "xfit = np.linspace(0,4,100) # dependent variable used for drawing a best-fit curve\n",
    "yfit = m*xfit + b # independent variable used for drawing a best-fit curve\n",
    "\n",
    "# plot data and the best-fit function on the same graph\n",
    "fig = plt.figure()\n",
    "plt.title(\"absorbance vs concentration\")\n",
    "plt.xlabel('concentration (g/L)')\n",
    "plt.ylabel('absorbance (arb)')\n",
    "plt.grid(which='both', axis='both')\n",
    "plt.plot(xdata, ydata, 'bo')\n",
    "plt.plot(xfit, yfit, 'r-')\n",
    "plt.show()\n"
   ]
  },
  {
   "cell_type": "markdown",
   "metadata": {},
   "source": [
    "## Exercise - Using a Graph to Answer a Question"
   ]
  },
  {
   "cell_type": "markdown",
   "metadata": {},
   "source": [
    "What is the absorbance at a concentration of 5 g/L? Change the upper limit of `xfit` and use the graph to answer the question."
   ]
  },
  {
   "cell_type": "code",
   "execution_count": null,
   "metadata": {},
   "outputs": [],
   "source": []
  },
  {
   "cell_type": "markdown",
   "metadata": {},
   "source": [
    "## Exercise - Ball Rolling on a Track"
   ]
  },
  {
   "cell_type": "markdown",
   "metadata": {},
   "source": [
    "In this experiment, a ball rolls on a track with constant velocity.\n",
    "\n",
    "![](uniform-motion-ball-fast-main.gif)\n",
    "\n",
    "The x-position of the ball is measured at the times indicated by red markers in the animated gif. The data for x-position and time are in the file `x-t-ball.txt`.\n",
    "\n",
    "In the cell below, you will write a program to fit the data with a linear model of the form:\n",
    "\n",
    "$x(t) = mt + b$\n",
    "\n",
    "where $m$ is the slope and represents the x-velocity of the ball and $b$ is the initial position of the ball at $t=0$. Note that $t$ is the independent variable (on the horizontal axis) and x-position is the dependent variable (on the vertical axis).\n",
    "\n",
    "What did you find for the slope and intercept? \n",
    "\n",
    "Start with the program below that reads the file and assigns the time data to the array `xdata` and the x-position data to the array `ydata`. Then, copy and paste code from the previous program and edit lines as needed\n",
    "\n",
    "The best-fit line should look like this.\n",
    "\n",
    "<img src=\"x-t-ball-best-fit.png\" width=400>"
   ]
  },
  {
   "cell_type": "code",
   "execution_count": 4,
   "metadata": {},
   "outputs": [
    {
     "name": "stdout",
     "output_type": "stream",
     "text": [
      "   time (s)  x-position (m)\n",
      "0     0.000          -0.803\n",
      "1     0.334          -0.629\n",
      "2     0.667          -0.454\n",
      "3     1.001          -0.273\n",
      "4     1.335          -0.102\n"
     ]
    }
   ],
   "source": [
    "# read the data file\n",
    "df = pd.read_csv('https://github.com/atitus/STLinATL/raw/master/workshop2/05-curve-fitting/x-t-ball.txt', sep='\\t')\n",
    "print(df.head())\n",
    "\n",
    "# define arrays for the data\n",
    "xdata = df['time (s)']\n",
    "ydata = df['x-position (m)']\n",
    "\n",
    "#find the best-fit parameters and calculate a set of points for the best-fit curve\n",
    "\n",
    "# plot the data and best-fit curve on the same axes with a proper title, x-axis label, and y-axis label\n"
   ]
  },
  {
   "cell_type": "markdown",
   "metadata": {},
   "source": [
    "# Exercise - Global Temperature Anomaly"
   ]
  },
  {
   "cell_type": "markdown",
   "metadata": {},
   "source": [
    "This exercise will lead you through comparing a linear and quadratic model."
   ]
  },
  {
   "cell_type": "markdown",
   "metadata": {},
   "source": [
    "## Problem"
   ]
  },
  {
   "cell_type": "markdown",
   "metadata": {},
   "source": [
    "To acertain long-scale changes in Earth's average temperature over time, scientists plot the **global surface temperature anomaly**. In this joint press release by NASA and NOAA on Jan. 18, 2018, [Long-Term Warming Trend Continued in 2017](https://www.giss.nasa.gov/research/news/20180118/), scientists \"concluded that 2017 was the third-warmest year in their record.\" The [data and methodology](https://data.giss.nasa.gov/gistemp/) are provided to the public.\n",
    "\n",
    "[According to NOAA](https://www.ncdc.noaa.gov/monitoring-references/faq/anomalies.php), \"the term temperature anomaly means a departure from a reference value or long-term average. A positive anomaly indicates that the observed temperature was warmer than the reference value, while a negative anomaly indicates that the observed temperature was cooler than the reference value.\"\n",
    "\n",
    "The reference for this anomaly data is the average temperature during the period 1951 - 1980. Sometimes the 20th century average global surface temperature is used. Then in this case, a positive anomaly is warmer than the 20th century average. A negative anomaly is cooler than the 20th century average. NOAA points out that the reference period does not \"change the shape of the time series or affect the trends within it.\""
   ]
  },
  {
   "cell_type": "markdown",
   "metadata": {},
   "source": [
    "## Linear Model"
   ]
  },
  {
   "cell_type": "markdown",
   "metadata": {},
   "source": [
    "(1) Fit a linear function to the global surface temperature anomaly as a function of year from the file `global-surface-temperature.txt`. The model is:\n",
    "\n",
    "$$T = my + b$$\n",
    "\n",
    "where $T$ is the global surface temperature anomaly and $y$ is the year. Print the best-fit parameters: $m$ and $b$, and plot the best fit curve with the data. You should appropriately title the graph, label the axes, and indicate what is plotted with a legend. The program below reads the data file. Add code to find and plot the best-fit curve along with the data.\n",
    "\n",
    "(2) Based on the linear function, how much is the global surface temperature anomaly increasing per year? Why is this called an *average* increase in temperature?"
   ]
  },
  {
   "cell_type": "code",
   "execution_count": 5,
   "metadata": {},
   "outputs": [
    {
     "name": "stdout",
     "output_type": "stream",
     "text": [
      "   Year  Global Temperature Anomaly (deg C)\n",
      "0  1880                               -0.19\n",
      "1  1881                               -0.10\n",
      "2  1882                               -0.10\n",
      "3  1883                               -0.19\n",
      "4  1884                               -0.29\n"
     ]
    }
   ],
   "source": [
    "# read the data file\n",
    "df = pd.read_csv('https://github.com/atitus/STLinATL/raw/master/workshop2/05-curve-fitting/global-surface-temperature.txt', sep='\\t')\n",
    "print(df.head())\n",
    "\n",
    "# define arrays for the data\n",
    "xdata = df['Year']\n",
    "ydata = df['Global Temperature Anomaly (deg C)']\n",
    "\n",
    "#find the best-fit parameters and calculate a set of points for the best-fit curve\n",
    "\n",
    "# plot the data and best-fit curve on the same axes with a proper title, x-axis label, and y-axis label\n"
   ]
  },
  {
   "cell_type": "markdown",
   "metadata": {},
   "source": [
    "## Quadratic Model"
   ]
  },
  {
   "cell_type": "markdown",
   "metadata": {},
   "source": [
    "Using the same data set from `global-surface-temperature.txt`:\n",
    "\n",
    "(1) Fit a quadratic function of the form\n",
    "\n",
    "$$T = ay^2 + by + c$$\n",
    "\n",
    "Print the best-fit parameters and plot the data and best-fit curve on the same graph.\n",
    "\n",
    "(2) Why is the quadratic function a better fit than the linear function?\n",
    "\n",
    "(3) Why is it much more worrisome for the quadratic function to fit the data (compared to the linear function)?"
   ]
  },
  {
   "cell_type": "code",
   "execution_count": 13,
   "metadata": {},
   "outputs": [
    {
     "name": "stdout",
     "output_type": "stream",
     "text": [
      "   Year  Global Temperature Anomaly (deg C)\n",
      "0  1880                               -0.19\n",
      "1  1881                               -0.10\n",
      "2  1882                               -0.10\n",
      "3  1883                               -0.19\n",
      "4  1884                               -0.29\n",
      "The best-fit parameters are a = 8.219729857380888e-05, b = -0.3131097918483259, and c = 297.9153001444454\n"
     ]
    }
   ],
   "source": [
    "# read the data file\n",
    "df = pd.read_csv('https://github.com/atitus/STLinATL/raw/master/workshop2/05-curve-fitting/global-surface-temperature.txt', sep='\\t')\n",
    "print(df.head())\n",
    "\n",
    "# define arrays for the data\n",
    "xdata = df['Year']\n",
    "ydata = df['Global Temperature Anomaly (deg C)']\n",
    "\n",
    "#find the best-fit parameters and calculate a set of points for plotting the best-fit curve\n",
    "a, b, c = np.polyfit(xdata,ydata,2)\n",
    "xfit = np.linspace(0,4,100) # dependent variable used for drawing a best-fit curve\n",
    "yfit = a*xfit**2 + b*xfit + c # independent variable used for drawing a best-fit curve\n",
    "print(\"The best-fit parameters are a = {}, b = {}, and c = {}\".format(a,b,c))\n",
    "\n",
    "# plot the data and best-fit curve on the same axes with a proper title, x-axis label, and y-axis label\n"
   ]
  },
  {
   "cell_type": "code",
   "execution_count": null,
   "metadata": {
    "nbgrader": {
     "grade": true,
     "grade_id": "Ex_6_ans",
     "locked": false,
     "points": 1,
     "schema_version": 3,
     "solution": true,
     "task": false
    }
   },
   "outputs": [],
   "source": []
  }
 ],
 "metadata": {
  "celltoolbar": "Create Assignment",
  "kernelspec": {
   "display_name": "Python 3",
   "language": "python",
   "name": "python3"
  },
  "language_info": {
   "codemirror_mode": {
    "name": "ipython",
    "version": 3
   },
   "file_extension": ".py",
   "mimetype": "text/x-python",
   "name": "python",
   "nbconvert_exporter": "python",
   "pygments_lexer": "ipython3",
   "version": "3.7.3"
  }
 },
 "nbformat": 4,
 "nbformat_minor": 4
}
