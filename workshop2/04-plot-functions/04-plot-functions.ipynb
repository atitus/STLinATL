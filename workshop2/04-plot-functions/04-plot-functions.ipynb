{
 "cells": [
  {
   "cell_type": "markdown",
   "metadata": {},
   "source": [
    "# Plot Algebraic Functions"
   ]
  },
  {
   "cell_type": "markdown",
   "metadata": {},
   "source": [
    "Python plots points. Therefore, to plot an algebraic function, you have to calculate the points (using that function) and plot the points with a connected line.\n",
    "\n",
    "In this lesson, you will learn how to plot any function by computing the points and then plotting those points on the graph."
   ]
  },
  {
   "cell_type": "markdown",
   "metadata": {},
   "source": [
    "# Import Packages"
   ]
  },
  {
   "cell_type": "markdown",
   "metadata": {},
   "source": [
    "First, you have to import numpy. We will give it an alias `np` that will be required when we call a numpy functions. We will also import our plotting package."
   ]
  },
  {
   "cell_type": "code",
   "execution_count": 2,
   "metadata": {},
   "outputs": [],
   "source": [
    "import numpy as np\n",
    "import matplotlib.pyplot as plt"
   ]
  },
  {
   "cell_type": "markdown",
   "metadata": {},
   "source": [
    "# Plot a Linear Function"
   ]
  },
  {
   "cell_type": "markdown",
   "metadata": {},
   "source": [
    "We will plot a linear function of the form\n",
    "\n",
    "$$y = mx+b$$\n",
    "\n",
    "where $m$ is the slope and $b$ is the vertical intercept."
   ]
  },
  {
   "cell_type": "code",
   "execution_count": 3,
   "metadata": {},
   "outputs": [
    {
     "data": {
      "image/png": "[encoded data removed]",
      "text/plain": [
       "<Figure size 432x288 with 1 Axes>"
      ]
     },
     "metadata": {
      "needs_background": "light"
     },
     "output_type": "display_data"
    }
   ],
   "source": [
    "# create the data arrays\n",
    "xdata = np.linspace(0,100,100) # this creates 100 points for the independent between 0 and 100, including both 0 and 100\n",
    "m = 2 # slope\n",
    "b = 100 # y intercept\n",
    "ydata = m*xdata + b # dependent variable\n",
    "\n",
    "# plot\n",
    "fig = plt.figure()\n",
    "plt.title('Linear')\n",
    "plt.xlabel('x')\n",
    "plt.ylabel('y')\n",
    "plt.plot(xdata,ydata,'b-')\n",
    "plt.show()"
   ]
  },
  {
   "cell_type": "markdown",
   "metadata": {},
   "source": [
    "## Exercise"
   ]
  },
  {
   "cell_type": "markdown",
   "metadata": {},
   "source": [
    "Suppose that students are plotting a function\n",
    "\n",
    "$$x(t) = (-0.8\\ \\mathrm{m/s})\\ t + 5\\ \\mathrm{m}$$\n",
    "\n",
    "from $t=0$ to $t=3.0$ s where $x$ is the x-position of an object and $t$ is time. \n",
    "\n",
    "Copy the code above and paste it below. Change the slope, intercept, range (for time), title, and labels."
   ]
  },
  {
   "cell_type": "code",
   "execution_count": null,
   "metadata": {},
   "outputs": [],
   "source": []
  },
  {
   "cell_type": "markdown",
   "metadata": {},
   "source": [
    "# Plot a Function in Python"
   ]
  },
  {
   "cell_type": "markdown",
   "metadata": {},
   "source": [
    "In general, there are three parts of a program for plotting an algebraic function:\n",
    "\n",
    "1. create points for the independent variable, $x$.\n",
    "2. use the algebraic function to calculate points for the dependent variable, $y$.\n",
    "3. plot the points."
   ]
  },
  {
   "cell_type": "markdown",
   "metadata": {},
   "source": [
    "## Create an array of values for the independent variable"
   ]
  },
  {
   "cell_type": "markdown",
   "metadata": {},
   "source": [
    "To create an array of values for the independent variable use `1inspace`. The syntax is:\n",
    "\n",
    "```\n",
    "linspace(min, max, number of points)\n",
    "```"
   ]
  },
  {
   "cell_type": "markdown",
   "metadata": {},
   "source": [
    "The array will include both the min and max values."
   ]
  },
  {
   "cell_type": "code",
   "execution_count": 4,
   "metadata": {},
   "outputs": [
    {
     "name": "stdout",
     "output_type": "stream",
     "text": [
      "[  0.           2.04081633   4.08163265   6.12244898   8.16326531\n",
      "  10.20408163  12.24489796  14.28571429  16.32653061  18.36734694\n",
      "  20.40816327  22.44897959  24.48979592  26.53061224  28.57142857\n",
      "  30.6122449   32.65306122  34.69387755  36.73469388  38.7755102\n",
      "  40.81632653  42.85714286  44.89795918  46.93877551  48.97959184\n",
      "  51.02040816  53.06122449  55.10204082  57.14285714  59.18367347\n",
      "  61.2244898   63.26530612  65.30612245  67.34693878  69.3877551\n",
      "  71.42857143  73.46938776  75.51020408  77.55102041  79.59183673\n",
      "  81.63265306  83.67346939  85.71428571  87.75510204  89.79591837\n",
      "  91.83673469  93.87755102  95.91836735  97.95918367 100.        ]\n"
     ]
    }
   ],
   "source": [
    "xdata=np.linspace(0,100,50)\n",
    "print(xdata)"
   ]
  },
  {
   "cell_type": "markdown",
   "metadata": {},
   "source": [
    "## Creat an array of values for the dependent variable"
   ]
  },
  {
   "cell_type": "markdown",
   "metadata": {},
   "source": [
    "We will explore various mathematical functions. Each mathematical function has a name, a functional form (i.e. *equation*), and a set of parameters or constants. You will see that we can use a mathematical expression to generate an array of values of the dependent variable that corresponds to the array of values of the independent variable. The `numpy` package is what enables this capability."
   ]
  },
  {
   "cell_type": "markdown",
   "metadata": {},
   "source": [
    "## Quadratic"
   ]
  },
  {
   "cell_type": "markdown",
   "metadata": {},
   "source": [
    "$$y(x) = a_2x^2+a_1x+a_0$$\n",
    "\n",
    "where $a_0$ is the intercept and $a_1$ and $a_2$ are the linear and quadratic parameters, respectively. The result is a *parabola* that opens upward or downward. Notice that the highest power of $x$ is 2. Thus, a quadratic in a called a second degree polynomial. Using a similar technique, you can plot a function for any *n*th degree polynomial."
   ]
  },
  {
   "cell_type": "code",
   "execution_count": 22,
   "metadata": {},
   "outputs": [
    {
     "data": {
      "image/png": "[encoded data removed]",
      "text/plain": [
       "<Figure size 432x288 with 1 Axes>"
      ]
     },
     "metadata": {
      "needs_background": "light"
     },
     "output_type": "display_data"
    }
   ],
   "source": [
    "# create the data arrays\n",
    "xdata = np.linspace(0,100,100)\n",
    "a_0 = 5000\n",
    "a_1 = -100\n",
    "a_2 = 2\n",
    "ydata = a_2*xdata**2 + a_1*xdata + a_0\n",
    "\n",
    "# plot\n",
    "fig = plt.figure()\n",
    "plt.title('Quadratic')\n",
    "plt.xlabel('x')\n",
    "plt.ylabel('y')\n",
    "plt.plot(xdata,ydata,'b-')\n",
    "plt.show()"
   ]
  },
  {
   "cell_type": "markdown",
   "metadata": {},
   "source": [
    "## Exercise - Quadratic"
   ]
  },
  {
   "cell_type": "markdown",
   "metadata": {
    "nbgrader": {
     "grade": false,
     "grade_id": "Ex_2",
     "locked": true,
     "schema_version": 3,
     "solution": false,
     "task": false
    }
   },
   "source": [
    "Plot the following quadratic function\n",
    "\n",
    "$$x(t)=-10 + 20t -2t^2$$ \n",
    "\n",
    "from $t=0$ to $t=5$ s. The variable $x$ is position in meters, and $t$ is time in seconds. Note that the independent variable is $t$ and the dependent variable $x$. This can be confusing to students."
   ]
  },
  {
   "cell_type": "code",
   "execution_count": null,
   "metadata": {
    "nbgrader": {
     "grade": true,
     "grade_id": "Ex_2_ans",
     "locked": false,
     "points": 2,
     "schema_version": 3,
     "solution": true,
     "task": false
    }
   },
   "outputs": [],
   "source": []
  },
  {
   "cell_type": "markdown",
   "metadata": {},
   "source": [
    "Try creating fewer data points (perhaps 5 points) for the independent variable $t$ in the graph above. What do you notice about the graph?"
   ]
  },
  {
   "cell_type": "code",
   "execution_count": null,
   "metadata": {},
   "outputs": [],
   "source": []
  },
  {
   "cell_type": "markdown",
   "metadata": {},
   "source": [
    "## Square Root"
   ]
  },
  {
   "cell_type": "markdown",
   "metadata": {},
   "source": [
    "$$y(x) = a\\sqrt{x}$$\n",
    "\n",
    "In this case, we need to use numpy's `sqrt()` function. We must include the alias and write as `np.sqrt()`."
   ]
  },
  {
   "cell_type": "code",
   "execution_count": 24,
   "metadata": {},
   "outputs": [
    {
     "data": {
      "image/png": "[encoded data removed]",
      "text/plain": [
       "<Figure size 432x288 with 1 Axes>"
      ]
     },
     "metadata": {
      "needs_background": "light"
     },
     "output_type": "display_data"
    }
   ],
   "source": [
    "# Create arrays\n",
    "xdata = np.linspace(0,100,100)\n",
    "a = 2\n",
    "ydata = a*np.sqrt(xdata)\n",
    "\n",
    "# Plot\n",
    "fig = plt.figure()\n",
    "plt.title('Square Root')\n",
    "plt.xlabel('x')\n",
    "plt.ylabel('y')\n",
    "plt.plot(xdata,ydata,'b-')\n",
    "plt.show()"
   ]
  },
  {
   "cell_type": "markdown",
   "metadata": {
    "collapsed": true
   },
   "source": [
    "## Exponential"
   ]
  },
  {
   "cell_type": "markdown",
   "metadata": {},
   "source": [
    "$$P(t) = P_0e^{rt}$$\n",
    "\n",
    "The constant $P_0$ is the value of $P$ at $t=0$, so it is called the *initial value*.\n",
    "\n",
    "There are two general types of exponential functions, depending on the sign of the constant $r$. \n",
    "\n",
    "- If $r$ is positive, then the function is called *exponential growth* because the dependent variable $P$ increases. \n",
    "- If $r$ is negative, then the function is called *exponential decay* because the dependent variable $P$ decreases and approaches zero.\n",
    "\n",
    "Use the numpy function `np.exp(x)` to compute the natural number $e$ raised to a power $x$, written mathematically as $e^{x}$."
   ]
  },
  {
   "cell_type": "markdown",
   "metadata": {},
   "source": [
    "### Exponential Growth"
   ]
  },
  {
   "cell_type": "code",
   "execution_count": 26,
   "metadata": {},
   "outputs": [
    {
     "data": {
      "image/png": "[encoded data removed]",
      "text/plain": [
       "<Figure size 432x288 with 1 Axes>"
      ]
     },
     "metadata": {
      "needs_background": "light"
     },
     "output_type": "display_data"
    }
   ],
   "source": [
    "# Create an array for P \n",
    "tdata = np.linspace(0,100,100)\n",
    "P_0 = 1\n",
    "r = 0.05\n",
    "Pdata = P_0*np.exp(r*tdata)\n",
    "\n",
    "# Plot the P array vs. the t array\n",
    "fig = plt.figure()\n",
    "plt.title('exponential growth')\n",
    "plt.xlabel('time (s)')\n",
    "plt.ylabel('population (P)')\n",
    "plt.plot(tdata,Pdata,'b-')\n",
    "plt.show()"
   ]
  },
  {
   "cell_type": "markdown",
   "metadata": {},
   "source": [
    "### Exponential Decay"
   ]
  },
  {
   "cell_type": "code",
   "execution_count": 27,
   "metadata": {},
   "outputs": [
    {
     "data": {
      "image/png": "[encoded data removed]",
      "text/plain": [
       "<Figure size 432x288 with 1 Axes>"
      ]
     },
     "metadata": {
      "needs_background": "light"
     },
     "output_type": "display_data"
    }
   ],
   "source": [
    "# Create an array for P\n",
    "tdata = np.linspace(0,100,100)\n",
    "P_0 = 1\n",
    "r = -0.05\n",
    "Pdata = P_0*np.exp(r*tdata)\n",
    "\n",
    "# Plot the P array vs. the t array\n",
    "fig = plt.figure()\n",
    "plt.title('exponential decay')\n",
    "plt.xlabel('time (s)')\n",
    "plt.ylabel('population (P)')\n",
    "plt.plot(tdata,Pdata,'b-')\n",
    "plt.show()"
   ]
  },
  {
   "cell_type": "markdown",
   "metadata": {},
   "source": [
    "## Exercise - Exponential"
   ]
  },
  {
   "cell_type": "markdown",
   "metadata": {
    "nbgrader": {
     "grade": false,
     "grade_id": "Ex_3",
     "locked": true,
     "schema_version": 3,
     "solution": false,
     "task": false
    }
   },
   "source": [
    "The counting rate (in counts/min) of a certain radionuclide is given by the function \n",
    "\n",
    "$$R(t)=400e^{-0.0275t}$$ \n",
    "\n",
    "where $t$ is in min. \n",
    "\n",
    "1. Plot this function for $t=0$ to $t=240$ min. \n",
    "1. Is this exponential growth or exponential decay?\n",
    "1. What is the unit for the constant $-0.0275$? \n",
    "1. What is the unit for the constant $400$?"
   ]
  },
  {
   "cell_type": "code",
   "execution_count": null,
   "metadata": {
    "nbgrader": {
     "grade": true,
     "grade_id": "Ex_3_ans",
     "locked": false,
     "points": 2,
     "schema_version": 3,
     "solution": true,
     "task": false
    }
   },
   "outputs": [],
   "source": []
  },
  {
   "cell_type": "markdown",
   "metadata": {},
   "source": [
    "## Sinusoidal"
   ]
  },
  {
   "cell_type": "markdown",
   "metadata": {},
   "source": [
    "$$x(t) = A\\cos(\\omega t + \\phi) + x_0$$\n",
    "\n",
    "Both sine and cosine functions are generally called *sinusoidal*. In physics, if this describes a quantity that varies as a function of time, the constants are defined as:\n",
    "\n",
    "1. $A$, amplitude\n",
    "2. $\\omega$, angular frequency\n",
    "3. $\\phi$, phase\n",
    "4. $A_0$, equilibrium"
   ]
  },
  {
   "cell_type": "code",
   "execution_count": 29,
   "metadata": {},
   "outputs": [
    {
     "data": {
      "image/png": "[encoded data removed]",
      "text/plain": [
       "<Figure size 432x288 with 1 Axes>"
      ]
     },
     "metadata": {
      "needs_background": "light"
     },
     "output_type": "display_data"
    }
   ],
   "source": [
    "# Create arrays\n",
    "tdata = np.linspace(0,100,100)\n",
    "A = 1\n",
    "omega = 2*np.pi/50\n",
    "phi = 0\n",
    "x_0 = 0\n",
    "xdata = A*np.cos(omega * tdata + phi) + x_0\n",
    "\n",
    "# Plot\n",
    "fig = plt.figure()\n",
    "plt.title('sinusoidal')\n",
    "plt.xlabel('time (s)')\n",
    "plt.ylabel('x (m)')\n",
    "plt.plot(tdata,xdata,'b-')\n",
    "plt.show()"
   ]
  },
  {
   "cell_type": "markdown",
   "metadata": {},
   "source": [
    "## Setting the Axis Limits"
   ]
  },
  {
   "cell_type": "markdown",
   "metadata": {},
   "source": [
    "You can zoom into the graph by setting the limits of the horizontal and vertical axes. Use the commands:\n",
    "\n",
    "- `xlim(min,max)`\n",
    "- `ylim(min,max)`\n",
    "\n",
    "Here is the previous example of the cosine function with the x-axis limits between 40 and 60 s."
   ]
  },
  {
   "cell_type": "code",
   "execution_count": null,
   "metadata": {},
   "outputs": [],
   "source": [
    "plt.title('sinusoidal')\n",
    "plt.xlabel('time (s)')\n",
    "plt.ylabel('population (P)')\n",
    "plt.xlim(40,60)\n",
    "plt.plot(tdata,Pdata,'b.-')\n",
    "plt.show()"
   ]
  },
  {
   "cell_type": "markdown",
   "metadata": {},
   "source": [
    "You'll notice that it's not very smooth. You can use the string `'b.-'` to see the markers. The closer the markers, the smoother the function will appear."
   ]
  },
  {
   "cell_type": "markdown",
   "metadata": {
    "collapsed": true
   },
   "source": [
    "# Additional Exercises"
   ]
  },
  {
   "cell_type": "markdown",
   "metadata": {},
   "source": [
    "## Exercise - Tangent function"
   ]
  },
  {
   "cell_type": "markdown",
   "metadata": {
    "nbgrader": {
     "grade": false,
     "grade_id": "Ex_5",
     "locked": true,
     "schema_version": 3,
     "solution": false,
     "task": false
    }
   },
   "source": [
    "Graph $y=\\tan(\\theta)$ from $\\theta=-0.9\\pi/2$ to $\\theta=0.9\\pi/2$. Why is it important to not calculate $\\tan(-\\pi/2)$ and $\\tan(\\pi/2)$? Try it and see what happens."
   ]
  },
  {
   "cell_type": "code",
   "execution_count": null,
   "metadata": {
    "nbgrader": {
     "grade": true,
     "grade_id": "Ex_5_ans",
     "locked": false,
     "points": 2,
     "schema_version": 3,
     "solution": true,
     "task": false
    }
   },
   "outputs": [],
   "source": []
  },
  {
   "cell_type": "markdown",
   "metadata": {},
   "source": [
    "## Exercise - Inverse Square Law"
   ]
  },
  {
   "cell_type": "markdown",
   "metadata": {
    "nbgrader": {
     "grade": false,
     "grade_id": "Ex_6",
     "locked": true,
     "schema_version": 3,
     "solution": false,
     "task": false
    }
   },
   "source": [
    "The strength of an electric force of one charged sphere on another charged sphere is given by:\n",
    "\n",
    "$$F=\\frac{A}{r^2}$$\n",
    "\n",
    "where $A$ is a constant that depends on the charges of the particles and $r$ is the distance between the particles. Suppose the force in one particular experiment is $F=(1\\times 10^{-4}\\ \\mathrm{N\\ m^2})/r^2$. Plot this function from $r=0.01$ to $r=0.04$ m."
   ]
  },
  {
   "cell_type": "code",
   "execution_count": null,
   "metadata": {
    "nbgrader": {
     "grade": true,
     "grade_id": "Ex_6_ans",
     "locked": false,
     "points": 2,
     "schema_version": 3,
     "solution": true,
     "task": false
    }
   },
   "outputs": [],
   "source": []
  }
 ],
 "metadata": {
  "celltoolbar": "Create Assignment",
  "kernelspec": {
   "display_name": "Python 3",
   "language": "python",
   "name": "python3"
  },
  "language_info": {
   "codemirror_mode": {
    "name": "ipython",
    "version": 3
   },
   "file_extension": ".py",
   "mimetype": "text/x-python",
   "name": "python",
   "nbconvert_exporter": "python",
   "pygments_lexer": "ipython3",
   "version": "3.7.3"
  }
 },
 "nbformat": 4,
 "nbformat_minor": 4
}
