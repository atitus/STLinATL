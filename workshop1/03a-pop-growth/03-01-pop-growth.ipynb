{
 "cells": [
  {
   "cell_type": "markdown",
   "metadata": {},
   "source": [
    "# Unconstrained Growth"
   ]
  },
  {
   "cell_type": "markdown",
   "metadata": {},
   "source": [
    "In this notebook, you will develop a mathematical model for systems that exhibit unconstrained growth."
   ]
  },
  {
   "cell_type": "markdown",
   "metadata": {},
   "source": [
    "# Introduction"
   ]
  },
  {
   "cell_type": "markdown",
   "metadata": {},
   "source": [
    "This is an example of *dynamic modeling*. A **dynamic model** is a mathematical description of how a quantity changes in time based on a theory of what factors affect those changes. \n",
    "\n",
    "Often a model includes *approximations* (or constraints). And often a model is used to make predictions which are compared to experimental or observational measurements. When a model's predictions agree with measurements, it gives us confidence that we understand the theory the model is based on."
   ]
  },
  {
   "cell_type": "markdown",
   "metadata": {},
   "source": [
    "# Population Growth"
   ]
  },
  {
   "cell_type": "markdown",
   "metadata": {},
   "source": [
    "In the **Malthusian model** of population growth, also called *unconstrained* population growth, the change in a population in a time interval is proportional to the population. If the population is $P$, the change in population is $\\Delta P$, and the time interval is $\\Delta t$, then\n",
    "\n",
    "$$\\Delta P = rP\\Delta t$$\n",
    "\n",
    "where the **growth rate** is $r$ and has units of $1/{time}$. The growth rate $r$ is a large number for a fast growing population and small number for a slow growing population. \n",
    "\n",
    "The **time rate of change** of the population is defined as\n",
    "\n",
    "$$\\mathrm{rate\\ of\\ change}= \\dot{P} = \\frac{\\Delta P}{\\Delta t}$$\n",
    "\n",
    "*Note: the time rate of change of any quantity is the change in that quantity divided by the change in time. The unit is the unit of the quantity per second (or per minute or per hour, etc.).*\n",
    "\n",
    "In the unconstrained population growth model, the **rate of change** $\\dot{P}$ of the population is proportional to the growth rate $r$ and the population $P$.\n",
    "\n",
    "$$\\dot{P} = \\frac{\\Delta P}{\\Delta t} = rP$$"
   ]
  },
  {
   "cell_type": "markdown",
   "metadata": {},
   "source": [
    "## Example"
   ]
  },
  {
   "cell_type": "markdown",
   "metadata": {},
   "source": [
    "Suppose that we start a clock when we have 100 cells of bacteria. This is called an *initial condition*, and we define this to be the starting time $t=0$.\n",
    "\n",
    "t (h) | P (cells)\n",
    "--- | ---\n",
    "0 | 100\n",
    "\n",
    "Suppose the bacteria grows with a growth rate $r=0.1\\ \\mathrm{h}^{-1}$."
   ]
  },
  {
   "cell_type": "markdown",
   "metadata": {},
   "source": [
    "### First Time Step"
   ]
  },
  {
   "cell_type": "markdown",
   "metadata": {},
   "source": [
    "**During a time interval of 0.005 h,**\n",
    "\n",
    "1. compute the rate of change\n",
    "1. compute the (new) population, $P$.\n",
    "1. compute the new time and record the time and population\n",
    "\n",
    "To compute the time use:\n",
    "\n",
    "$$t_{now} = t_{past} + \\Delta t$$\n",
    "\n",
    "To compute the new population compute the rate of change:\n",
    "\n",
    "$$\\dot{P} = \\frac{\\Delta P}{\\Delta t} = rP$$\n",
    "\n",
    "and then the new population:\n",
    "\n",
    "$$P_{now} = P_{past} + \\dot{P} \\Delta t$$\n",
    "\n",
    "The time interval is called a time step. Examine the code below. What does it do?"
   ]
  },
  {
   "cell_type": "code",
   "execution_count": null,
   "metadata": {},
   "outputs": [],
   "source": [
    "# define constants\n",
    "r = 0.1\n",
    "dt = 0.005\n",
    "\n",
    "# define variables and their initial values\n",
    "P = 100\n",
    "t = 0\n",
    "\n",
    "# print initial t and P\n",
    "print(\"t = {:.3f} h, P = {:.6f} cells.\".format(t, P))"
   ]
  },
  {
   "cell_type": "markdown",
   "metadata": {},
   "source": [
    "Now, let's compute the population after one time step of 0.005 h."
   ]
  },
  {
   "cell_type": "code",
   "execution_count": null,
   "metadata": {},
   "outputs": [],
   "source": [
    "# compute rate of change, the new population, and new time\n",
    "Pdot = r*P\n",
    "P = P + Pdot*dt\n",
    "t = t + dt\n",
    "\n",
    "# print t and P and Pdot\n",
    "print(\"t = {:.3f} h, Pdot = {:.6f} cells/h, P = {:.6f} cells.\".format(t, Pdot, P))"
   ]
  },
  {
   "cell_type": "markdown",
   "metadata": {},
   "source": [
    "We are going to call these three lines of code:\n",
    "\n",
    "```python\n",
    "Pdot = r*P\n",
    "P = P + Pdot*dt\n",
    "t = t + dt\n",
    "```"
   ]
  },
  {
   "cell_type": "markdown",
   "metadata": {},
   "source": [
    "The **three update equations**. These equations:\n",
    "\n",
    "1. update the rate of change\n",
    "1. update the population\n",
    "1. update the clock reading (time)\n",
    "\n",
    "To predict the future, in each small time step, we use the three update equations.\n",
    "\n",
    "Let's compute the rate of change, population, anbd time in the next 0.005 h."
   ]
  },
  {
   "cell_type": "code",
   "execution_count": null,
   "metadata": {},
   "outputs": [],
   "source": [
    "# compute rate of change, population, and time\n",
    "Pdot = r*P\n",
    "P = P + Pdot*dt\n",
    "t = t + dt\n",
    "\n",
    "# print t and P and Pdot\n",
    "print(\"t = {:.3f} h, Pdot = {:.6f} cells/h, P = {:.6f} cells.\".format(t, Pdot, P))"
   ]
  },
  {
   "cell_type": "markdown",
   "metadata": {},
   "source": [
    "## Exercise"
   ]
  },
  {
   "cell_type": "markdown",
   "metadata": {},
   "source": [
    "Copy the code block of *update equations* in the cell above and paste it into the cell below a total of ten times, one right after the other, and run the cell. Run the cell over and over. What do you notice about the time and population each time you re-run the cell? (In other words, does the code reset at $t=0$ or possibly $t=0.010$ h when you re-run the cell? Can you explain the results?)"
   ]
  },
  {
   "cell_type": "code",
   "execution_count": null,
   "metadata": {
    "nbgrader": {
     "grade": true,
     "grade_id": "Ex_1_ans",
     "locked": false,
     "points": 1,
     "schema_version": 3,
     "solution": true,
     "task": false
    }
   },
   "outputs": [],
   "source": []
  },
  {
   "cell_type": "markdown",
   "metadata": {},
   "source": [
    "# Computing with a Loop"
   ]
  },
  {
   "cell_type": "markdown",
   "metadata": {},
   "source": [
    "The best way to repeat a calculation is with a loop. The general structure of our program for dynamic modeling is:\n",
    "\n",
    "1. define constants\n",
    "2. define variables and their initial values\n",
    "3. use a loop and your update equations to update each variable in each time step\n",
    "\n",
    "Here is an example program with a loop that only computes and prints the time. The other two update equation for $\\dot{P}$ and $P$ are missing."
   ]
  },
  {
   "cell_type": "code",
   "execution_count": null,
   "metadata": {},
   "outputs": [],
   "source": [
    "# define constants\n",
    "r = 0.1\n",
    "dt = 0.005\n",
    "\n",
    "# define variables and their initial values\n",
    "P = 100\n",
    "t = 0\n",
    "\n",
    "# print initial t and P\n",
    "print(\"t = {:.3f} h, P = {:.6f} cells.\".format(t, P))\n",
    "\n",
    "# loop\n",
    "while t<0.04:\n",
    "    \n",
    "    t = t + dt\n",
    "\n",
    "    print(\"t = {:.3f} h.\".format(t))"
   ]
  },
  {
   "cell_type": "markdown",
   "metadata": {},
   "source": [
    "## Exercise"
   ]
  },
  {
   "cell_type": "markdown",
   "metadata": {},
   "source": [
    "Here is the code from the previous cell. In the loop, replace the commented lines with `####` with the code necessary to update the *rate of change of P* and the population, P. Print all three variables: $t$, $\\dot{P}$, and $P$ for each iteration of the loop."
   ]
  },
  {
   "cell_type": "code",
   "execution_count": null,
   "metadata": {
    "nbgrader": {
     "grade": true,
     "grade_id": "Ex_2_ans",
     "locked": false,
     "points": 1,
     "schema_version": 3,
     "solution": true,
     "task": false
    }
   },
   "outputs": [],
   "source": [
    "# define constants\n",
    "r = 0.1\n",
    "dt = 0.005\n",
    "\n",
    "# define variables and their initial values\n",
    "P = 100\n",
    "t = 0\n",
    "\n",
    "# print initial t and P\n",
    "print(\"t = {:.3f} h, P = {:.6f} cells.\".format(t, P))\n",
    "\n",
    "# loop\n",
    "while t<0.04:\n",
    "    \n",
    "    #### update Pdot\n",
    "    #### update P\n",
    "    t = t + dt\n",
    "\n",
    "    print(\"t = {:.3f} h.\".format(t))"
   ]
  },
  {
   "cell_type": "markdown",
   "metadata": {},
   "source": [
    "# Storing Data in Lists for Graphing"
   ]
  },
  {
   "cell_type": "markdown",
   "metadata": {},
   "source": [
    "We want to store data for our variables $t$ and $P$ in lists so we can graph them. To store data in lists:\n",
    "\n",
    "1. Before the loop, create empty lists using:\n",
    "```python\n",
    "tdata = []\n",
    "Pdata = []\n",
    "```"
   ]
  },
  {
   "cell_type": "markdown",
   "metadata": {},
   "source": [
    "2. Inside the loop, *append* (i.e. add to the end) to each list your calculation of $t$ and $P$ inside the loop.\n",
    "```\n",
    "# loop\n",
    "while t<20:\n",
    "    ...\n",
    "    tdata.append(t)\n",
    "    Pdata.append(P)\n",
    "    ...\n",
    "```"
   ]
  },
  {
   "cell_type": "markdown",
   "metadata": {},
   "source": [
    "where the dots just represent other lines of code in your loop.\n",
    "\n",
    "Here's our program from earlier that creates the empty lists and then appends the data inside the loop. At the end, it displays `tdata` just so you can see that the list is populated with all of the values of `t`. (And there are a LOT of them.)"
   ]
  },
  {
   "cell_type": "code",
   "execution_count": null,
   "metadata": {
    "scrolled": true
   },
   "outputs": [],
   "source": [
    "## define constants\n",
    "r = 0.1\n",
    "dt = 0.005\n",
    "\n",
    "# define variables and their initial values\n",
    "P = 100\n",
    "t = 0\n",
    "\n",
    "# create empty lists for storing data\n",
    "tdata = []\n",
    "Pdata = []\n",
    "\n",
    "# append initial values of t and P to our lists\n",
    "tdata.append(t)\n",
    "Pdata.append(P)\n",
    "\n",
    "# loop\n",
    "while t<20:\n",
    "    Pdot = r*P\n",
    "    P = P + Pdot*dt\n",
    "    t = t + dt\n",
    "    \n",
    "    tdata.append(t)\n",
    "    Pdata.append(P)\n",
    "    \n",
    "tdata"
   ]
  },
  {
   "cell_type": "markdown",
   "metadata": {},
   "source": [
    "# Graphing Data"
   ]
  },
  {
   "cell_type": "markdown",
   "metadata": {},
   "source": [
    "Now, let's plot the data. First, import `matplotlib.pyplot`."
   ]
  },
  {
   "cell_type": "code",
   "execution_count": null,
   "metadata": {},
   "outputs": [],
   "source": [
    "# import matplotlib\n",
    "import matplotlib.pyplot as plt"
   ]
  },
  {
   "cell_type": "code",
   "execution_count": null,
   "metadata": {},
   "outputs": [],
   "source": [
    "plt.title('Population (cells) vs. time (h)')\n",
    "plt.xlabel('time (h)')\n",
    "plt.ylabel('population (cells)')\n",
    "plt.grid(which='both', axis='both')\n",
    "plt.plot(tdata,Pdata,'b-')\n",
    "plt.show()"
   ]
  },
  {
   "cell_type": "markdown",
   "metadata": {},
   "source": [
    "Notice that the data is non-linear. It curves upward. This is due to the fact that $\\dfrac{\\Delta P}{\\Delta t}=rP$, so the slope, $\\dfrac{\\Delta P}{\\Delta t}$  increases as $P$ increases. Thus, the slope of the line is larger--the curve becomes steeper--at later times."
   ]
  },
  {
   "cell_type": "markdown",
   "metadata": {},
   "source": [
    "## Exercise"
   ]
  },
  {
   "cell_type": "markdown",
   "metadata": {},
   "source": [
    "According to our model, at $t=20.000$ h, there will be 738.54 cells. Of course, there can't be a partial cell; therefore, we can round and predict 739 cells.\n",
    "\n",
    "What if we had used a time step of $\\Delta t=20$?\n",
    "\n",
    "Copy and paste your program into the cell below, and change the variable `dt` to 1 hour. Run your program and just print the last value of `t` and `P`. What does the model predict now? Which of our predictions is better and why?"
   ]
  },
  {
   "cell_type": "code",
   "execution_count": null,
   "metadata": {
    "nbgrader": {
     "grade": true,
     "grade_id": "Ex_4_ans",
     "locked": false,
     "points": 1,
     "schema_version": 3,
     "solution": true,
     "task": false
    }
   },
   "outputs": [],
   "source": []
  },
  {
   "cell_type": "markdown",
   "metadata": {},
   "source": [
    "Add code cells and markdown cells to answer the following questions. Do not run previous cells. Rather, copy, paste, and edit code as needed."
   ]
  },
  {
   "cell_type": "markdown",
   "metadata": {},
   "source": [
    "## Exercise"
   ]
  },
  {
   "cell_type": "markdown",
   "metadata": {},
   "source": [
    "1. Using an initial population of 100 cells and a growth rate of $0.1\\ \\mathrm{h}^{-1}$, how many cells will there be at $t=48$ h if they grow according to a Malthusian model?\n",
    "\n",
    "2. For the previous question, what if the growth rate is twice as much, $r=0.2\\ \\mathrm{h}^{-1}$? Then how many cells will there be at $t=48$ h? Graph this model data on the same set of axes as in the previous question."
   ]
  },
  {
   "cell_type": "code",
   "execution_count": null,
   "metadata": {
    "nbgrader": {
     "grade": true,
     "grade_id": "Ex_5_ans",
     "locked": false,
     "points": 1,
     "schema_version": 3,
     "solution": true,
     "task": false
    }
   },
   "outputs": [],
   "source": []
  }
 ],
 "metadata": {
  "celltoolbar": "Create Assignment",
  "kernelspec": {
   "display_name": "Python 3",
   "language": "python",
   "name": "python3"
  },
  "language_info": {
   "codemirror_mode": {
    "name": "ipython",
    "version": 3
   },
   "file_extension": ".py",
   "mimetype": "text/x-python",
   "name": "python",
   "nbconvert_exporter": "python",
   "pygments_lexer": "ipython3",
   "version": "3.7.3"
  }
 },
 "nbformat": 4,
 "nbformat_minor": 4
}
