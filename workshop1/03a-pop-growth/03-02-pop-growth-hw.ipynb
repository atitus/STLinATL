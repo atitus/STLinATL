{
 "cells": [
  {
   "cell_type": "markdown",
   "metadata": {},
   "source": [
    "# Population Growth - Application"
   ]
  },
  {
   "cell_type": "markdown",
   "metadata": {},
   "source": [
    "Here are three exercises that exhibit three applications of modeling:\n",
    "\n",
    "1. extend a model to a new (but similar) system that follows the same mathematical model.\n",
    "2. plot data and the prediction of the model; adjust parameters of the model to fit the data.\n",
    "3. add terms to the mathematical model to include other interactions of the system."
   ]
  },
  {
   "cell_type": "markdown",
   "metadata": {},
   "source": [
    "# Exercise - Radioactive Decay"
   ]
  },
  {
   "cell_type": "markdown",
   "metadata": {},
   "source": [
    "Carbon-14 decays with a rate:\n",
    "\n",
    "$$\\dot{Q}= \\frac{\\Delta Q}{\\Delta t} = -1.20968\\times 10^{-4} Q$$\n",
    "\n",
    "where the decay rate constant $r=1.20968\\times 10^{-4}$ is in units of $1/year$. In other words, the continuous decay rate is 0.0120968% per year. The number of undecayed Carbon-14 atoms remaining in a sample after a time interval $\\Delta t$ is\n",
    "\n",
    "$$Q_{now} = Q_{past} + \\dot{Q}\\Delta t$$\n",
    "\n",
    "Using a loop, as you learned when modeling population growth, compute and graph $Q(t)$ up to 40,000 years, using a time step of 0.5 year and an initial number of 10,000 carbon-14 atoms. In the following working program, you only have to edit these two lines which are inside the loop:\n",
    "\n",
    "```python\n",
    "    # type the update equation for Qdot -- this is THE COMPUTATIONAL MODEL\n",
    "    # type the update equation for Q\n",
    "```"
   ]
  },
  {
   "cell_type": "markdown",
   "metadata": {},
   "source": [
    "How many carbon-14 atoms remain (undecayed) at $t=40,000$ years?"
   ]
  },
  {
   "cell_type": "code",
   "execution_count": null,
   "metadata": {},
   "outputs": [],
   "source": [
    "# import matplotlib\n",
    "import matplotlib.pyplot as plt"
   ]
  },
  {
   "cell_type": "code",
   "execution_count": null,
   "metadata": {
    "nbgrader": {
     "grade": true,
     "grade_id": "Ex_C_ans",
     "locked": false,
     "points": 5,
     "schema_version": 3,
     "solution": true,
     "task": false
    }
   },
   "outputs": [],
   "source": [
    "### Minimal Working Program\n",
    "\n",
    "t = 0\n",
    "dt = 0.5 #unit is year\n",
    "r = 1.20968e-4\n",
    "Q = 10000 #numer of C-14 atoms\n",
    "\n",
    "tdata = []\n",
    "Qdata = []\n",
    "\n",
    "while t<40000:\n",
    "\n",
    "    # type the update equation for Qdot -- this is THE COMPUTATIONAL MODEL\n",
    "    # type the update equation for Q\n",
    "    t = t + dt\n",
    "    \n",
    "    tdata.append(t)\n",
    "    Qdata.append(Q)\n",
    "    \n",
    "print(\"At t = {:.0f} y, Q={:.0f} undecayed C-14 atoms.\".format(t,Q))\n",
    "\n",
    "fig = plt.figure()\n",
    "plt.title('Carbon 14 atoms vs. time (h)')\n",
    "plt.xlabel('time (y)')\n",
    "plt.ylabel('N (undecayed C-14 atoms)')\n",
    "plt.grid(which='both', axis='both')\n",
    "plt.plot(tdata,Qdata,'b-')\n",
    "plt.show()"
   ]
  },
  {
   "cell_type": "markdown",
   "metadata": {},
   "source": [
    "# Exercise - Adjust Model to Fit Data"
   ]
  },
  {
   "cell_type": "markdown",
   "metadata": {},
   "source": [
    "Do bacteria actually grow according to the Malthusian model of population growth? For a given set of data for bacteria, we will find its growth rate by comparing the prediction of a Malthusian model to measured data. We will adjust the growth rate manually until the model best-fits the measured data. **This is VERY different from doing a curve-fit to data.**\n",
    "\n",
    "Bacterial cell density is measured using the absorbance of light. For a greater number of cells, more light is absorbed by the colony of bacteria. The absorbance is proportional to the number of cells. We will first read the data in the file `bacterial-growth.txt` and will store the data in lists `tmeas` and `Ameas`."
   ]
  },
  {
   "cell_type": "code",
   "execution_count": null,
   "metadata": {},
   "outputs": [],
   "source": [
    "# we need a package to read the data file\n",
    "import pandas as pd #used for data management\n",
    "import numpy as np #used for numerical calculations with arrays"
   ]
  },
  {
   "cell_type": "code",
   "execution_count": null,
   "metadata": {
    "nbgrader": {
     "grade": true,
     "grade_id": "Ex_B_ans",
     "locked": false,
     "points": 5,
     "schema_version": 3,
     "solution": true,
     "task": false
    }
   },
   "outputs": [],
   "source": [
    "df = pd.read_csv('https://github.com/atitus/STLinATL/raw/master/workshop1/03a-pop-growth/bacterial-growth.txt', sep='\\t') #called a dataframe\n",
    "print(df.head()) #shows the first five rows of data, along with the column headings\n",
    "\n",
    "tmeas = df['t (min)'] #use column heading to get data in that column\n",
    "Ameas = df['absorbance'] #use column heading to get data in that column\n",
    "\n",
    "fig = plt.figure()\n",
    "plt.title('Bacterial Growth')\n",
    "plt.xlabel(\"t (min)\")\n",
    "plt.ylabel('Absorbance (arbitrary)')\n",
    "plt.grid(which='both', axis='both')\n",
    "plt.plot(tmeas, Ameas, 'bo', label='data')\n",
    "plt.show()"
   ]
  },
  {
   "cell_type": "markdown",
   "metadata": {},
   "source": [
    "Now, adjust the parameters of your model (the initial absorbance and the growth rate) until the model fits the data. What is the initial absorbance and what is the growth rate $r$ for this population of bacteria?"
   ]
  },
  {
   "cell_type": "code",
   "execution_count": null,
   "metadata": {},
   "outputs": [],
   "source": [
    "t = 0\n",
    "dt = 0.3 #minutes\n",
    "A = 0.01 #adjust this parameter\n",
    "r = 0.01 #adjust this parameter\n",
    "\n",
    "tmodel = [] #calculated data from your model\n",
    "Amodel = [] #calculated data from your model.\n",
    "\n",
    "while t<250:\n",
    "    Adot = r*A\n",
    "    A = A + Adot*dt\n",
    "    t = t + dt\n",
    "    \n",
    "    tmodel.append(t)\n",
    "    Amodel.append(A)\n",
    "    \n",
    "fig = plt.figure()\n",
    "plt.title('Bacterial Growth')\n",
    "plt.xlabel(\"t (min)\")\n",
    "plt.ylabel('Absorbance (arbitrary)')\n",
    "plt.grid(which='both', axis='both')\n",
    "plt.plot(tmeas,Ameas, 'bo', label='data')\n",
    "plt.plot(tmodel,Amodel, 'r-', label='unconstrained growth prediction')\n",
    "plt.show()"
   ]
  },
  {
   "cell_type": "markdown",
   "metadata": {},
   "source": [
    "# Exercise - Constrained Growth"
   ]
  },
  {
   "cell_type": "markdown",
   "metadata": {},
   "source": [
    "In the unconstrained population growth model, the **rate of change** $\\dot{P}$ of the population is proportional to the growth rate $r$ and the population $P$.\n",
    "\n",
    "$$\\dot{P} = \\frac{\\Delta P}{\\Delta t} = rP$$\n",
    "\n",
    "Thus, the greater the population, the faster it grows. However, a populaton does not grow forever. Eventually it reaches the limit of what the environment can support. Perhaps there is no more food supply or there is competition among the population. The maximum population the environment can support is *the carrying capacity* $M$. This is called the **logistic growth model** or [Verhulst Model](https://www.maa.org/book/export/html/115630). For this model, we add a term for $\\dot{P}$:\n",
    "\n",
    "$$\\dot{P} = rP - rP\\left(\\frac{P}{M}\\right)$$\n",
    "\n",
    "Note that when the population $P$ grows to the value $M$, $\\dot{P} = rP - rP=0$ and the population will not grow any more. It will be constant at the value $M$. So the carrying capacity is the largest population and the population will remain constant at the value of $M$.\n",
    "\n",
    "The computational model below is for uncontrained population growth starting at P=100 and growing at a rate $r=0.1\\ h^{-1}$. Edit the mathematical model to include constrained growth. Suppose the carrying capacity is $M=1500$. Define the variable `M`, and edit the calculation for `Pdot` to include the second term for logistic growth such that $\\dot{P} = rP - rP\\left(\\frac{P}{M}\\right)$. Adjust the total time for the loop in order to give the system enough time to reach its carrying capacity.\n"
   ]
  },
  {
   "cell_type": "code",
   "execution_count": null,
   "metadata": {},
   "outputs": [],
   "source": [
    "## define constants\n",
    "r = 0.1\n",
    "dt = 0.005\n",
    "\n",
    "# define variables and their initial values\n",
    "P = 100\n",
    "t = 0\n",
    "\n",
    "# create empty lists for storing data\n",
    "tdata = []\n",
    "Pdata = []\n",
    "\n",
    "# append initial values of t and P to our lists\n",
    "tdata.append(t)\n",
    "Pdata.append(P)\n",
    "\n",
    "# loop\n",
    "while t<20:\n",
    "    Pdot = r*P\n",
    "    P = P + Pdot*dt\n",
    "    t = t + dt\n",
    "    \n",
    "    tdata.append(t)\n",
    "    Pdata.append(P)\n",
    "\n",
    "# print the final t and P\n",
    "print(\"At t = {:.3f} h, P = {:.6f} cells.\".format(t, P))\n",
    "\n",
    "# plot the calculated data\n",
    "plt.figure()\n",
    "plt.title('Population (cells) vs. time (h)')\n",
    "plt.xlabel('time (h)')\n",
    "plt.ylabel('population (cells)')\n",
    "plt.grid(which='both', axis='both')\n",
    "plt.plot(tdata,Pdata,'b-')\n",
    "plt.show()"
   ]
  },
  {
   "cell_type": "code",
   "execution_count": null,
   "metadata": {},
   "outputs": [],
   "source": []
  }
 ],
 "metadata": {
  "celltoolbar": "Create Assignment",
  "kernelspec": {
   "display_name": "Python 3",
   "language": "python",
   "name": "python3"
  },
  "language_info": {
   "codemirror_mode": {
    "name": "ipython",
    "version": 3
   },
   "file_extension": ".py",
   "mimetype": "text/x-python",
   "name": "python",
   "nbconvert_exporter": "python",
   "pygments_lexer": "ipython3",
   "version": "3.7.3"
  }
 },
 "nbformat": 4,
 "nbformat_minor": 4
}
