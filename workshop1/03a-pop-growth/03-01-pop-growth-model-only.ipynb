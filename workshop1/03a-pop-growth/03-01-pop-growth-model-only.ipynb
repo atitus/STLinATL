{
 "cells": [
  {
   "cell_type": "markdown",
   "metadata": {},
   "source": [
    "# Unconstrained Growth"
   ]
  },
  {
   "cell_type": "markdown",
   "metadata": {},
   "source": [
    "In this notebook, you will explore a mathematical model for systems that exhibit unconstrained growth. If you prefer to walk through the details in scaffolded way, [use this notebook](03-01-pop-growth.ipynb) that illustrates the steps of writing the model."
   ]
  },
  {
   "cell_type": "markdown",
   "metadata": {},
   "source": [
    "# Introduction"
   ]
  },
  {
   "cell_type": "markdown",
   "metadata": {},
   "source": [
    "This is an example of *dynamic modeling*. A **dynamic model** is a mathematical description of how a quantity changes in time based on a theory of what factors affect those changes. \n",
    "\n",
    "Often a model includes *approximations* (or constraints). And often a model is used to make predictions which are compared to experimental or observational measurements. When a model's predictions agree with measurements, it gives us confidence that we understand the theory the model is based on."
   ]
  },
  {
   "cell_type": "markdown",
   "metadata": {},
   "source": [
    "# Population Growth"
   ]
  },
  {
   "cell_type": "markdown",
   "metadata": {},
   "source": [
    "In the **Malthusian model** of population growth, also called *unconstrained* population growth, the change in a population in a time interval is proportional to the population. If the population is $P$, then the change in population $\\Delta P$ in a time interval $\\Delta t$ is\n",
    "\n",
    "$$\\Delta P = rP\\Delta t$$\n",
    "\n",
    "where the **growth rate** $r$ has units of $1/{time}$. The growth rate $r$ is a large number for a fast growing population and small number for a slow growing population. It's a *constant* that depends on the system (or oganism) and environmental factors.\n",
    "\n",
    "The **time rate of change** of the population is defined as\n",
    "\n",
    "$$\\mathrm{rate\\ of\\ change}= \\dot{P} = \\frac{\\Delta P}{\\Delta t}$$\n",
    "\n",
    "which I will call \"P dot\". *Note: the time rate of change of any quantity is the change in that quantity divided by the change in time. The unit of the rate of change is the unit of the quantity per second (or per minute or per hour, etc.).*\n",
    "\n",
    "In the unconstrained population growth model, the **rate of change** $\\dot{P}$ of the population is proportional to the growth rate $r$ and the population $P$.\n",
    "\n",
    "$$\\dot{P} = \\frac{\\Delta P}{\\Delta t} = rP$$\n",
    "\n",
    "Thus, the greater the population, the faster it grows."
   ]
  },
  {
   "cell_type": "markdown",
   "metadata": {},
   "source": [
    "## Example"
   ]
  },
  {
   "cell_type": "markdown",
   "metadata": {},
   "source": [
    "Suppose that we start a clock when we have 100 cells of bacteria. This is called an *initial condition*, and we define this to be the starting time $t=0$.\n",
    "\n",
    "t (h) | P (cells)\n",
    "--- | ---\n",
    "0 | 100\n",
    "\n",
    "Suppose the bacteria grows with a growth rate $r=0.1\\ \\mathrm{h}^{-1}$ for 20 h. How many cells will there be after 20 h?"
   ]
  },
  {
   "cell_type": "markdown",
   "metadata": {},
   "source": [
    "First, import a package for graphing."
   ]
  },
  {
   "cell_type": "code",
   "execution_count": null,
   "metadata": {},
   "outputs": [],
   "source": [
    "# import matplotlib\n",
    "import matplotlib.pyplot as plt"
   ]
  },
  {
   "cell_type": "markdown",
   "metadata": {},
   "source": [
    "Run the model."
   ]
  },
  {
   "cell_type": "code",
   "execution_count": null,
   "metadata": {},
   "outputs": [],
   "source": [
    "## define constants\n",
    "r = 0.1\n",
    "dt = 0.005\n",
    "\n",
    "# define variables and their initial values\n",
    "P = 100\n",
    "t = 0\n",
    "\n",
    "# create empty lists for storing data\n",
    "tdata = []\n",
    "Pdata = []\n",
    "\n",
    "# append initial values of t and P to our lists\n",
    "tdata.append(t)\n",
    "Pdata.append(P)\n",
    "\n",
    "# loop\n",
    "while t<20:\n",
    "    Pdot = r*P\n",
    "    P = P + Pdot*dt\n",
    "    t = t + dt\n",
    "    \n",
    "    tdata.append(t)\n",
    "    Pdata.append(P)\n",
    "\n",
    "# print the final t and P\n",
    "print(\"At t = {:.3f} h, P = {:.6f} cells.\".format(t, P))\n",
    "\n",
    "# plot the calculated data\n",
    "plt.figure()\n",
    "plt.title('Population (cells) vs. time (h)')\n",
    "plt.xlabel('time (h)')\n",
    "plt.ylabel('population (cells)')\n",
    "plt.grid(which='both', axis='both')\n",
    "plt.plot(tdata,Pdata,'b-')\n",
    "plt.show()"
   ]
  },
  {
   "cell_type": "markdown",
   "metadata": {},
   "source": [
    "We will refer to the code in the previous cell as the *computational model* and the equation \n",
    "\n",
    "$$\\mathrm{rate\\ of\\ change}= \\dot{P} = \\frac{\\Delta P}{\\Delta t}$$\n",
    "\n",
    "as the *mathematical model*."
   ]
  },
  {
   "cell_type": "markdown",
   "metadata": {},
   "source": [
    "## Exercise - Investigate changing the total time"
   ]
  },
  {
   "cell_type": "markdown",
   "metadata": {},
   "source": [
    "According to our model, at $t=20.000$ h, there will be 738.54 cells. Of course, there can't be a partial cell; therefore, we can round and predict 739 cells.\n",
    "\n",
    "Copy the code block above (the *computational model*), paste into the cell below, and make changes. This will let you keep the original code above intact in case you need it again. Then use your program below to answer this question.\n",
    "\n",
    "Using the same initial population of 100 cells and growth rate of $r=0.1\\ \\mathrm{h}^{-1}$, how many cells will there be at $t=40$ h? How does this compare to $t=20$ h? Is it twice as many cells?"
   ]
  },
  {
   "cell_type": "code",
   "execution_count": null,
   "metadata": {
    "nbgrader": {
     "grade": true,
     "grade_id": "Ex_4_ans",
     "locked": false,
     "points": 1,
     "schema_version": 3,
     "solution": true,
     "task": false
    }
   },
   "outputs": [],
   "source": []
  },
  {
   "cell_type": "markdown",
   "metadata": {},
   "source": [
    "## Exercise - Investigate changing the growth rate $r$"
   ]
  },
  {
   "cell_type": "markdown",
   "metadata": {},
   "source": [
    "For the previous question, what if the growth rate is twice as much, $r=0.2\\ \\mathrm{h}^{-1}$? Then how many cells will there be at $t=20$ h? How does this compare to the number of cells for a growth rate of $r=0.2\\ \\mathrm{h}^{-1}$? Is it twice as many cells?\n"
   ]
  },
  {
   "cell_type": "code",
   "execution_count": null,
   "metadata": {},
   "outputs": [],
   "source": []
  },
  {
   "cell_type": "markdown",
   "metadata": {},
   "source": [
    "## Exercise - Investigate changing the time step $\\Delta t$"
   ]
  },
  {
   "cell_type": "markdown",
   "metadata": {},
   "source": [
    "What if we had used a time step of $\\Delta t=1$ h in our computational model? Copy and paste your program into the cell below, and change the variable `dt` to 1 hour. What does the model predict now? Which of our predictions is better and why?"
   ]
  },
  {
   "cell_type": "code",
   "execution_count": null,
   "metadata": {},
   "outputs": [],
   "source": []
  },
  {
   "cell_type": "markdown",
   "metadata": {},
   "source": [
    "# Predicting the Future"
   ]
  },
  {
   "cell_type": "markdown",
   "metadata": {},
   "source": [
    "Where is the math and science in our computational model? It's mostly inside the loop where we\n",
    "\n",
    "1. compute the rate of change\n",
    "1. compute the (new) population, $P$.\n",
    "1. compute the new time and record the time and population\n",
    "\n",
    "In these three lines, we first compute the rate of change:\n",
    "\n",
    "$$\\dot{P} = \\frac{\\Delta P}{\\Delta t} = rP$$\n",
    "\n",
    "and then the new population:\n",
    "\n",
    "$$P_{now} = P_{past} + \\dot{P} \\Delta t$$\n",
    "\n",
    "and then the new time (i.e. clock reading):\n",
    "\n",
    "$$t_{now} = t_{past} + \\Delta t$$\n",
    "\n",
    "The time interval $\\Delta t$ is called a **time step**."
   ]
  },
  {
   "cell_type": "markdown",
   "metadata": {},
   "source": [
    "We will call the three equations above the **three update equations**. These equations:\n",
    "\n",
    "1. update the rate of change\n",
    "1. update the population\n",
    "1. update the clock reading (time)\n",
    "\n",
    "To predict the future, in each small time step, we use the three update equations. Thus, inside a loop, we are going to call these three lines of code:\n",
    "\n",
    "```python\n",
    "Pdot = r*P\n",
    "P = P + Pdot*dt\n",
    "t = t + dt\n",
    "``` "
   ]
  },
  {
   "cell_type": "markdown",
   "metadata": {},
   "source": [
    "## Graphing Two \"Trials\" on the Same Axes"
   ]
  },
  {
   "cell_type": "markdown",
   "metadata": {},
   "source": [
    "Let's graph model data for both $r=0.1\\ \\mathrm{h}^{-1}$ and $r=0.2\\ \\mathrm{h}^{-1}$ on the same set of axes. Note, you can copy all of the code before the graph, paste it (again, before the graph), and just change the names of the lists to something like `tdata2` and `Pdata2` in the entire block of code. Then you will have two sets of data `Pdata` and `Pdata2` and will need two `np.plot()` commands, one for each set of data.\n",
    "\n",
    "These three lines show how to set the color (`b` for blue and `r` for red), define labels, and show a legend.\n",
    "\n",
    "```python\n",
    "plt.plot(tdata,Pdata,'b-', label='r=0.1')\n",
    "plt.plot(tdata2,Pdata2,'r-', label='r=0.2')\n",
    "plt.legend()\n",
    "```"
   ]
  },
  {
   "cell_type": "code",
   "execution_count": null,
   "metadata": {
    "nbgrader": {
     "grade": true,
     "grade_id": "Ex_5_ans",
     "locked": false,
     "points": 1,
     "schema_version": 3,
     "solution": true,
     "task": false
    }
   },
   "outputs": [],
   "source": [
    "############ Trial 1\n",
    "\n",
    "## define constants\n",
    "r = 0.1\n",
    "dt = 0.005\n",
    "\n",
    "# define variables and their initial values\n",
    "P = 100\n",
    "t = 0\n",
    "\n",
    "# create empty lists for storing data\n",
    "tdata = []\n",
    "Pdata = []\n",
    "\n",
    "# append initial values of t and P to our lists\n",
    "tdata.append(t)\n",
    "Pdata.append(P)\n",
    "\n",
    "# loop\n",
    "while t<20:\n",
    "    Pdot = r*P\n",
    "    P = P + Pdot*dt\n",
    "    t = t + dt\n",
    "    \n",
    "    tdata.append(t)\n",
    "    Pdata.append(P)\n",
    "\n",
    "# print the final t and P\n",
    "print(\"Trial 1: At t = {:.3f} h, P = {:.6f} cells.\".format(t, P))\n",
    "\n",
    "\n",
    "############ Trial 2\n",
    "\n",
    "## define constants\n",
    "r = 0.2\n",
    "dt = 0.005\n",
    "\n",
    "# define variables and their initial values\n",
    "P = 100\n",
    "t = 0\n",
    "\n",
    "# create empty lists for storing data\n",
    "tdata2 = []\n",
    "Pdata2 = []\n",
    "\n",
    "# append initial values of t and P to our lists\n",
    "tdata2.append(t)\n",
    "Pdata2.append(P)\n",
    "\n",
    "# loop\n",
    "while t<20:\n",
    "    Pdot = r*P\n",
    "    P = P + Pdot*dt\n",
    "    t = t + dt\n",
    "    \n",
    "    tdata2.append(t)\n",
    "    Pdata2.append(P)\n",
    "\n",
    "# print the final t and P\n",
    "print(\"Trial 2: At t = {:.3f} h, P = {:.6f} cells.\".format(t, P))\n",
    "\n",
    "\n",
    "\n",
    "########### Graph\n",
    "\n",
    "# plot the calculated data\n",
    "plt.figure()\n",
    "plt.title('Population (cells) vs. time (h)')\n",
    "plt.xlabel('time (h)')\n",
    "plt.ylabel('population (cells)')\n",
    "plt.grid(which='both', axis='both')\n",
    "plt.plot(tdata,Pdata,'b-', label='r=0.1')\n",
    "plt.plot(tdata2,Pdata2,'r-', label='r=0.2')\n",
    "plt.legend()\n",
    "plt.show()"
   ]
  },
  {
   "cell_type": "code",
   "execution_count": null,
   "metadata": {},
   "outputs": [],
   "source": []
  }
 ],
 "metadata": {
  "celltoolbar": "Create Assignment",
  "kernelspec": {
   "display_name": "Python 3",
   "language": "python",
   "name": "python3"
  },
  "language_info": {
   "codemirror_mode": {
    "name": "ipython",
    "version": 3
   },
   "file_extension": ".py",
   "mimetype": "text/x-python",
   "name": "python",
   "nbconvert_exporter": "python",
   "pygments_lexer": "ipython3",
   "version": "3.7.3"
  }
 },
 "nbformat": 4,
 "nbformat_minor": 4
}
