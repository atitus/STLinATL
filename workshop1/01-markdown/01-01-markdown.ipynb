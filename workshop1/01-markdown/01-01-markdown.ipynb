{
 "cells": [
  {
   "cell_type": "markdown",
   "metadata": {
    "nbgrader": {
     "grade": false,
     "grade_id": "title",
     "locked": true,
     "schema_version": 3,
     "solution": false,
     "task": false
    }
   },
   "source": [
    "# 01 Markdown\n",
    "\n",
    "*Jupyter* allows you to integrate rich text and runnable code into a single document called a **notebook**. The rich text can include marked up text, mathematical equations (typeset using mathematical symbols and font), images, and HTML (the language of the web). The runnable code, in our case, is written in Python. \n",
    "\n",
    "A notebook consists of **cells** and a cell can be one of two types: **markdown** and **code**. (There are other types, but we'll only use these two.)\n",
    "\n",
    "In a previous lesson, you learned to use Jupyter for both markdown and code. In this activity, you will practice writing markdown. \n",
    "\n",
    "## Markdown\n",
    "\n",
    "Here are the most common formatting tasks you will do when writing markdown in Jupyter. \n",
    "\n",
    "- headings\n",
    "- numbered lists\n",
    "- bulleted lists\n",
    "- boldface and italics font\n",
    "- links to other web sites\n",
    "- math within a sentence\n",
    "- math equation centered on its own line\n",
    "- image\n",
    "- video\n",
    "\n",
    "In addition, you may sometimes embed an image or create a table, but this is probably less common.\n",
    "\n",
    "The [Markdown Reference](https://trinket.io/atitus/courses/hnr-1-30-0-quantitative-reasoning-mathematical-modeling#/course/markdown-reference) on our course web site describes the syntax for each of the formatting tasks listed above.\n",
    "\n",
    "To see the markdown I use to format a cell, double click the cell to see the source. Hit **Shift-ENTER** to render the cell.\n",
    "\n",
    "When you create a new markdown cell, remember to select \"Markdown\" in the menu Jupyter menu bar as shown below.\n",
    "\n",
    "![](rendermarkdown.gif)"
   ]
  },
  {
   "cell_type": "markdown",
   "metadata": {
    "collapsed": true,
    "nbgrader": {
     "grade": false,
     "grade_id": "ex_1_q",
     "locked": true,
     "schema_version": 3,
     "solution": false,
     "task": false
    }
   },
   "source": [
    "## Markdown Excercises\n",
    "\n",
    "In each blank cell below, do the exercise. You must use the book *Introduction to Computational Science* by Shiflet and Shiftlet for these exercises. Remember to set the *cell type* of each cell to **Markdown**. And remember to use **shift-enter** on your keyboard to render the cell.\n",
    "\n",
    "### Exercise 1\n",
    "\n",
    "1. Read Module 1.1 (p. 3-6, *Introduction to Computational Science*).\n",
    "- Use a bulleted list to list the three scientific revolutions in the twentieth century that were identified by Michio Kaku.\n",
    "- Using a numbered list, list the four examples of computational science described by Shiflet and Shiflet.\n"
   ]
  },
  {
   "cell_type": "markdown",
   "metadata": {
    "nbgrader": {
     "grade": true,
     "grade_id": "ex_1",
     "locked": false,
     "points": 2,
     "schema_version": 3,
     "solution": true,
     "task": false
    }
   },
   "source": []
  },
  {
   "cell_type": "markdown",
   "metadata": {
    "nbgrader": {
     "grade": false,
     "grade_id": "ex_2_q",
     "locked": true,
     "schema_version": 3,
     "solution": false,
     "task": false
    }
   },
   "source": [
    "### Exercise 2\n",
    "\n",
    "1. Read Module 1.2 (p. 7-12, *Introduction to Computational Science*).\n",
    "- Write each definition and format each boldfaced term exactly as it is in the book.\n",
    "- Using a numbered list, write a list of the steps of the modeling process. Use a sublist for the substeps in the process. Thus, your sublist should look like this:\n",
    " 1. substep A.\n",
    " - substep B\n",
    " \n",
    "Remember, you can double-click this cell to see how I formatted the text in markdown to make the sublist."
   ]
  },
  {
   "cell_type": "markdown",
   "metadata": {
    "nbgrader": {
     "grade": true,
     "grade_id": "ex_2",
     "locked": false,
     "points": 2,
     "schema_version": 3,
     "solution": true,
     "task": false
    }
   },
   "source": []
  },
  {
   "cell_type": "markdown",
   "metadata": {
    "nbgrader": {
     "grade": false,
     "grade_id": "ex_3_q",
     "locked": true,
     "schema_version": 3,
     "solution": false,
     "task": false
    }
   },
   "source": [
    "### Exercise 3\n",
    "\n",
    "A model depends on assumptions, including both data and the mathematical model used. As a result, a model is always an approximation, and ethical considerations are imperative. In this article on [The State of Hurricane Forecasting](https://noaanhc.wordpress.com/2018/03/09/the-state-of-hurricane-forecasting/), the author, John Cangialosi, describes how hurricane forecasting has improved.\n",
    "\n",
    "In this image from the article, the hurricane track error is plotted as a function of forecast time. (For greater time into the future, the error in the track predication is greater.)\n",
    "\n",
    "![](track_decades_wlegend.jpg)\n",
    "\n",
    "If you look at the 48 h mark and compare the error in the last decade (approx. 65 nautical miles) to the error in 90s (160 nautical miles) and plot the error as a circle centered at Pensacola, you can see how error might affect the ability of a community to prepare.\n",
    "\n",
    "![](1990-to-today.gif)\n",
    "\n",
    "After considering this one example and after reading Module 1.2, what are the ethical applications relevant to modeling? In what steps of the modeling process, should we consider ethics and what are good ethical practices to use in modeling?\n",
    "\n",
    "Write one paragraph with your answer to these questions."
   ]
  },
  {
   "cell_type": "markdown",
   "metadata": {
    "nbgrader": {
     "grade": true,
     "grade_id": "ex_3",
     "locked": false,
     "points": 2,
     "schema_version": 3,
     "solution": true,
     "task": false
    }
   },
   "source": []
  },
  {
   "cell_type": "markdown",
   "metadata": {
    "nbgrader": {
     "grade": false,
     "grade_id": "ex_4_q",
     "locked": true,
     "schema_version": 3,
     "solution": false,
     "task": false
    }
   },
   "source": [
    "### Exercise 4\n",
    "\n",
    "Find five different web sites that are related to mathematical modeling or computational modeling. I gave one example of hurricane forecasting. Find other examples or articles. Create a bulleted list of links. For each link, write the title of the page (or a brief description of the page) as the hypertext for the link. (Do not just paste a long URL.)"
   ]
  },
  {
   "cell_type": "markdown",
   "metadata": {
    "nbgrader": {
     "grade": true,
     "grade_id": "ex_4",
     "locked": false,
     "points": 2,
     "schema_version": 3,
     "solution": true,
     "task": false
    }
   },
   "source": []
  },
  {
   "cell_type": "markdown",
   "metadata": {
    "nbgrader": {
     "grade": false,
     "grade_id": "ex_5_q",
     "locked": true,
     "schema_version": 3,
     "solution": false,
     "task": false
    }
   },
   "source": [
    "### Exercise 5\n",
    "\n",
    "Look at Module 8.2 (p. 338) in *Introduction to Computational Science*. Write the general mathematical equation for each of the following functions:\n",
    "\n",
    "- linear\n",
    "- quadratic\n",
    "- exponential\n",
    "\n",
    "You will find these in shaded blue boxes in the book. Use LaTeX to format the equations. The [LaTeX Reference](https://trinket.io/atitus/courses/hnr-1-30-0-quantitative-reasoning-mathematical-modeling#/course/latex-reference) has some examples.\n",
    "\n",
    "To type math within a sentence like $x_1^3$, use a single dollar sign at the beginning and end of the expression.\n",
    "\n",
    "To center an equation like this:\n",
    "\n",
    "$$e^{i\\pi} + 1 = 0$$\n",
    "\n",
    "use two dollar signs before and after the expression. (This identity comes from the [Euler Formula](http://mathworld.wolfram.com/EulerFormula.html).) \n"
   ]
  },
  {
   "cell_type": "markdown",
   "metadata": {
    "nbgrader": {
     "grade": true,
     "grade_id": "ex_5",
     "locked": false,
     "points": 2,
     "schema_version": 3,
     "solution": true,
     "task": false
    }
   },
   "source": []
  }
 ],
 "metadata": {
  "celltoolbar": "Create Assignment",
  "kernelspec": {
   "display_name": "Python 3",
   "language": "python",
   "name": "python3"
  },
  "language_info": {
   "codemirror_mode": {
    "name": "ipython",
    "version": 3
   },
   "file_extension": ".py",
   "mimetype": "text/x-python",
   "name": "python",
   "nbconvert_exporter": "python",
   "pygments_lexer": "ipython3",
   "version": "3.7.3"
  }
 },
 "nbformat": 4,
 "nbformat_minor": 2
}
