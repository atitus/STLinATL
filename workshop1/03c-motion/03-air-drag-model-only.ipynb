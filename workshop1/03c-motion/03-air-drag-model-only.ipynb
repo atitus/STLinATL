{
 "cells": [
  {
   "cell_type": "markdown",
   "metadata": {},
   "source": [
    "# Air Resistance"
   ]
  },
  {
   "cell_type": "markdown",
   "metadata": {},
   "source": [
    "In this notebook, you will explore a mathematical model for one-dimensional motion with air resistance.\n",
    "\n",
    "**If you launch a ball straight upwards with a large initial velocity, does it take longer to travel upward or downward?**"
   ]
  },
  {
   "cell_type": "markdown",
   "metadata": {},
   "source": [
    "# Introduction"
   ]
  },
  {
   "cell_type": "markdown",
   "metadata": {},
   "source": [
    "This is an example of *dynamic modeling*. A **dynamic model** is a mathematical description of how a quantity changes in time based on a theory of what factors affect those changes. \n",
    "\n",
    "Often a model includes *approximations* (or constraints). And often a model is used to make predictions which are compared to experimental or observational measurements. When a model's predictions agree with measurements, it gives us confidence that we understand the theory the model is based on."
   ]
  },
  {
   "cell_type": "markdown",
   "metadata": {},
   "source": [
    "## Example - Vertical Projectile Motion with No Air Resistance"
   ]
  },
  {
   "cell_type": "markdown",
   "metadata": {},
   "source": [
    "A 0.15 kg baseball is launched upward on Earth with an initial y-velocity of 30 m/s. If there is no air resistance, what is the time to rise to its peak and time to fall?\n",
    "\n",
    "On Earth, $g=9.8\\ \\mathrm{N/kg}$, and $F_{net,y}=-mg$. Use a time step of 0.01 s."
   ]
  },
  {
   "cell_type": "markdown",
   "metadata": {},
   "source": [
    "First, import a package for graphing."
   ]
  },
  {
   "cell_type": "code",
   "execution_count": null,
   "metadata": {},
   "outputs": [],
   "source": [
    "# import matplotlib and numpy\n",
    "import matplotlib.pyplot as plt\n",
    "import numpy as np"
   ]
  },
  {
   "cell_type": "markdown",
   "metadata": {},
   "source": [
    "Run the model."
   ]
  },
  {
   "cell_type": "code",
   "execution_count": null,
   "metadata": {},
   "outputs": [],
   "source": [
    "## define constants\n",
    "m = 0.15 # kg\n",
    "g = 9.8 # N/kg\n",
    "dt = 0.01 # s\n",
    "\n",
    "# define variables and their initial values\n",
    "v_y = 30 # m/s\n",
    "y = 0 # m\n",
    "t = 0 # s\n",
    "\n",
    "# create empty lists for storing data\n",
    "tdata = []\n",
    "ydata = []\n",
    "vydata = []\n",
    "\n",
    "# append initial values of t and P to our lists\n",
    "tdata.append(t)\n",
    "ydata.append(y)\n",
    "vydata.append(v_y)\n",
    "\n",
    "# loop\n",
    "while y>=0:\n",
    "    Fnet_y = -m*g\n",
    "    v_y = v_y + (Fnet_y/m)*dt\n",
    "    y = y + v_y*dt\n",
    "    t = t + dt\n",
    "    \n",
    "    vydata.append(v_y)\n",
    "    ydata.append(y)\n",
    "    tdata.append(t)\n",
    "\n",
    "# print the final t and y\n",
    "print(\"At t = {:.3f} s, y = {:.6f}.\".format(t, y))\n",
    "\n",
    "# plot the calculated data\n",
    "plt.figure()\n",
    "plt.title('y position (m) vs. time (s)')\n",
    "plt.xlabel('time (s)')\n",
    "plt.ylabel('y (m)')\n",
    "plt.grid(which='both', axis='both')\n",
    "plt.plot(tdata,ydata,'b-')\n",
    "plt.show()"
   ]
  },
  {
   "cell_type": "markdown",
   "metadata": {},
   "source": [
    "## Exercise - Interpreting the Graph"
   ]
  },
  {
   "cell_type": "markdown",
   "metadata": {},
   "source": [
    "1. For how long does the ball travel upward?\n",
    "\n",
    "2. For how long does the ball travel downward?\n",
    "\n",
    "3. What was the ball's maximum height?"
   ]
  },
  {
   "cell_type": "markdown",
   "metadata": {},
   "source": [
    "## Exercise - Reading the Code"
   ]
  },
  {
   "cell_type": "markdown",
   "metadata": {},
   "source": [
    "The net force, y-velocity, y-position, and time are updated in each iteration of the loop.\n",
    "\n",
    "1. There are four *update* equations inside the loop. (I am referring to the equation calculating the net force as an update equation even though the net force on the ball is constant in this example. In general, net force can change, depending on the system.) Which lines are the udpate equations?\n",
    "\n",
    "2. What caused the loop to stop?"
   ]
  },
  {
   "cell_type": "markdown",
   "metadata": {},
   "source": [
    "## Exercise - Editing the Code"
   ]
  },
  {
   "cell_type": "markdown",
   "metadata": {},
   "source": [
    "1. What if you launch it with twice the initial velocity? Does it go twice as high?\n",
    "\n",
    "2. What if you launch it from an initial height of 50 m, how long does it take to rise and long does it take to fall? Are these times the same?"
   ]
  },
  {
   "cell_type": "markdown",
   "metadata": {},
   "source": [
    "# Air Resistance (or Drag)"
   ]
  },
  {
   "cell_type": "markdown",
   "metadata": {},
   "source": [
    "Air resistance on an object is always opposite the object's velocity and is written for one dimensional motion as:\n",
    "\n",
    "$$F_{air,y} = -\\frac{1}{2}\\rho A C_d |v_y|v_y$$\n",
    "\n",
    "The constants are:\n",
    "\n",
    "- $\\rho=1.225$ - mass density of the air in $\\mathrm{kg/m^3}$\n",
    "- $C_d$ - drag coefficient that depends on shape and smoothness. For a sphere it is approximately 0.5.\n",
    "- $A$ - cross-sectional area. For a sphere, the cross-sectional area is a circle $A=\\pi R^2$. A baseball has a diameter of 7.4 cm."
   ]
  },
  {
   "cell_type": "markdown",
   "metadata": {},
   "source": [
    "## Exercise - Modify the Mathematical Model"
   ]
  },
  {
   "cell_type": "markdown",
   "metadata": {},
   "source": [
    "The program below is the same as before, but all of the constants necessary to calculate air resistance have been defined as\n",
    "\n",
    "```python\n",
    "rho=1.225 #kg/m^3\n",
    "Cd=0.3 #drag coeff\n",
    "R=0.074/2 #radius in m\n",
    "A = np.pi*R**2 #cross-sectional area of the ball\n",
    "```"
   ]
  },
  {
   "cell_type": "markdown",
   "metadata": {},
   "source": [
    "Now, the net force on the baseball should be:\n",
    "\n",
    "$$F_{net,y} = F_{grav,y} + F_{air,y}$$\n",
    "\n",
    "$$F_{net,y} = -mg + -\\frac{1}{2}\\rho A C_d |v_y|v_y$$\n",
    "\n",
    "Other than defining the constants above (like density of air, etc.), we should only have to edit one line in our program to add air resistance. **This is the beauty of modeling.** We can explore more complex motion, but the mathematics (compute net force, update velocity, update position) does not change."
   ]
  },
  {
   "cell_type": "code",
   "execution_count": null,
   "metadata": {},
   "outputs": [],
   "source": [
    "## define constants\n",
    "m = 0.15 # kg\n",
    "g = 9.8 # N/kg\n",
    "dt = 0.01 # s\n",
    "\n",
    "rho=1.225 #kg/m^3\n",
    "Cd=0.3 #drag coeff\n",
    "R=0.074/2 #radius in m\n",
    "A = np.pi*R**2 #cross-sectional area of the ball\n",
    "\n",
    "# define variables and their initial values\n",
    "v_y = 30 # m/s\n",
    "y = 0 # m\n",
    "t = 0 # s\n",
    "\n",
    "# create empty lists for storing data\n",
    "tdata = []\n",
    "ydata = []\n",
    "vydata = []\n",
    "\n",
    "# append initial values of t and P to our lists\n",
    "tdata.append(t)\n",
    "ydata.append(y)\n",
    "vydata.append(v_y)\n",
    "\n",
    "# loop\n",
    "while y>=0:\n",
    "    Fnet_y = -m*g - 1/2*rho*A*Cd*np.abs(v_y)*v_y\n",
    "    v_y = v_y + (Fnet_y/m)*dt\n",
    "    y = y + v_y*dt\n",
    "    t = t + dt\n",
    "    \n",
    "    vydata.append(v_y)\n",
    "    ydata.append(y)\n",
    "    tdata.append(t)\n",
    "\n",
    "# print the final t and y\n",
    "print(\"At t = {:.3f} s, y = {:.6f}.\".format(t, y))\n",
    "\n",
    "# plot the calculated data\n",
    "plt.figure()\n",
    "plt.title('y position (m) vs. time (s)')\n",
    "plt.xlabel('time (s)')\n",
    "plt.ylabel('y (m)')\n",
    "plt.grid(which='both', axis='both')\n",
    "plt.plot(tdata,ydata,'b-')\n",
    "plt.show()"
   ]
  },
  {
   "cell_type": "markdown",
   "metadata": {},
   "source": [
    "# Your Answer to the Initial Question"
   ]
  },
  {
   "cell_type": "markdown",
   "metadata": {},
   "source": [
    "If you launch a ball straight upwards with a large initial velocity, does it take longer to travel upward or downward?"
   ]
  },
  {
   "cell_type": "markdown",
   "metadata": {},
   "source": [
    "# Review of One Dimensional Motion"
   ]
  },
  {
   "cell_type": "markdown",
   "metadata": {},
   "source": [
    "According to Newton's second law, the change in velocity of an object is proportonal to the net force per unit mass of the object. Here we write it for one dimensional motion in the $y$ direction which could be horizontal or vertical. You could just as well call it the $x$ direction if you prefer.\n",
    "\n",
    "$$\\Delta v_y = \\left(\\frac{F_{net,y}}{m}\\right)\\Delta t$$\n",
    "\n",
    "where the **net force** $F_{net,y}$ is the sum of all the forces on the object in the $y$ direction.\n",
    "\n",
    "The **time rate of change** of the y-velocity is defined as the y-acceleration:\n",
    "\n",
    "$$\\mathrm{rate\\ of\\ change}= \\dot{v}_y = \\frac{\\Delta v_y}{\\Delta t} = \\left(\\frac{F_{net,y}}{m}\\right)$$\n",
    "\n",
    "Thus, the greater the force or smaller the mass, the faster the velocity increases. This can be used to predict the future y-velocity. The future y-velocity at the end of a time step $\\Delta t$ is \n",
    "\n",
    "$$v_{y,future} = v_{y,now} + \\dot{v}_{y,now}\\Delta t$$\n",
    "\n",
    "or in terms of the net force on the object\n",
    "\n",
    "$$v_{y,future} = v_{y,now} + \\left(\\frac{F_{net,y}}{m}\\right)\\Delta t$$\n",
    "\n",
    "The y-position also changes, and the rate of change of the position is the velocity. Use the future y-velocity to update the y-position. \n",
    "\n",
    "$$y_{future} = y_{now} + v_{y,future}\\Delta t$$\n"
   ]
  },
  {
   "cell_type": "markdown",
   "metadata": {},
   "source": [
    "## Summary of Update Equations"
   ]
  },
  {
   "cell_type": "markdown",
   "metadata": {},
   "source": [
    "Here are the *update* equations to be calculated in each time step.\n",
    "\n",
    "1. Update $\\vec{F}_{net,y}$.\n",
    "2. Update $v_y$.\n",
    "3. Update $y$.\n",
    "\n",
    "The equations look like this:\n",
    "\n",
    "$$F_{net,y}= ...$$\n",
    "$$v_{y,future} = v_{y,now} + \\left(\\frac{F_{net,y}}{m}\\right)\\Delta t$$\n",
    "$$y_{future} = y_{now} + v_{y,future}\\Delta t$$\n",
    "\n",
    "The lines of code would look like this:\n",
    "\n",
    "```python\n",
    "Fnet_y = ###\n",
    "v_y = v_y + F_nety*dt\n",
    "y = y + v_y*dt\n",
    "```"
   ]
  },
  {
   "cell_type": "markdown",
   "metadata": {},
   "source": [
    "The details for `Fnet_y` depend on your particular model."
   ]
  },
  {
   "cell_type": "code",
   "execution_count": null,
   "metadata": {},
   "outputs": [],
   "source": []
  }
 ],
 "metadata": {
  "kernelspec": {
   "display_name": "Python 3",
   "language": "python",
   "name": "python3"
  },
  "language_info": {
   "codemirror_mode": {
    "name": "ipython",
    "version": 3
   },
   "file_extension": ".py",
   "mimetype": "text/x-python",
   "name": "python",
   "nbconvert_exporter": "python",
   "pygments_lexer": "ipython3",
   "version": "3.7.3"
  }
 },
 "nbformat": 4,
 "nbformat_minor": 2
}
