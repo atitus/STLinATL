{
 "cells": [
  {
   "cell_type": "markdown",
   "metadata": {},
   "source": [
    "# Lunar Lander"
   ]
  },
  {
   "cell_type": "markdown",
   "metadata": {},
   "source": [
    "Because I am using 3D graphics, Google Colab cannot display the simulation for a Lunar Lander game. Please [go to Lunar Lander on GlowScript](https://www.glowscript.org/#/user/Aaron_Titus/folder/picup/program/lunar-lander). Play the game and then answer the following questions."
   ]
  },
  {
   "cell_type": "markdown",
   "metadata": {},
   "source": [
    "## Exercise - Reading Code\n",
    "\n",
    "1. In GlowScript, click the link to \"View this program\" to see the code used for the Lunar Lander game. What are the four line numbers that have the four update equations that:\n",
    "  1. calculate net force\n",
    "  2. update velocity\n",
    "  3. update position\n",
    "  4. update time\n",
    "\n",
    "2. Besides the gravitational force by the Moon on the lander, what other force acts on the lander?\n",
    "\n",
    "3. A real rocket loses mass due to burning fuel. [Here's the same game](https://www.glowscript.org/#/user/Aaron_Titus/folder/picup/program/lunar-lander-burn-fuel-with-graphs), but with the loss of mass included in the model. Why does the y-acceleration of the rocket increase when the vertical thruster is firing? (After all, it's constant when the lander is in free-fall.)"
   ]
  },
  {
   "cell_type": "code",
   "execution_count": null,
   "metadata": {},
   "outputs": [],
   "source": []
  }
 ],
 "metadata": {
  "kernelspec": {
   "display_name": "Python 3",
   "language": "python",
   "name": "python3"
  },
  "language_info": {
   "codemirror_mode": {
    "name": "ipython",
    "version": 3
   },
   "file_extension": ".py",
   "mimetype": "text/x-python",
   "name": "python",
   "nbconvert_exporter": "python",
   "pygments_lexer": "ipython3",
   "version": "3.7.3"
  }
 },
 "nbformat": 4,
 "nbformat_minor": 2
}
