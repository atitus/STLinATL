{
 "cells": [
  {
   "cell_type": "markdown",
   "metadata": {},
   "source": [
    "# Workshop: Integrating computational modeling into applied math and science"
   ]
  },
  {
   "cell_type": "markdown",
   "metadata": {},
   "source": [
    "### Aaron Titus"
   ]
  },
  {
   "cell_type": "markdown",
   "metadata": {},
   "source": [
    "### STLinATL at Woodward Academy, August 1-2, 2020."
   ]
  },
  {
   "cell_type": "markdown",
   "metadata": {},
   "source": [
    "# Introduction to the Workshop"
   ]
  },
  {
   "cell_type": "markdown",
   "metadata": {},
   "source": [
    "## Description"
   ]
  },
  {
   "cell_type": "markdown",
   "metadata": {},
   "source": [
    "Modeling is a significant component of contemporary applied math and science. Computers allow students to model complex phenomena, explore relationships, and make predictions with no previous coding experience. Integrating computational modeling with the traditional algebraic (i.e. analytic) curriculum - of which we are already quite familiar - allows students to explore more complex and relevant problems without sacrificing the traditional learning objectives.  **In this hands-on workshop, you will use Python to explore system dynamics models in math and science, including the spread of infectious disease, financial forecasting, climate models, and others. No previous coding experience is required.**"
   ]
  },
  {
   "cell_type": "markdown",
   "metadata": {},
   "source": [
    "# Two Tasks To Do"
   ]
  },
  {
   "cell_type": "markdown",
   "metadata": {},
   "source": [
    "<img src=\"https://github.com/atitus/STLinATL/raw/master/workshop1/01-introduction/work.png\">\n",
    "\n",
    "<br>\n",
    "\n",
    "<img src=\"https://github.com/atitus/STLinATL/raw/master/workshop1/01-introduction/shop.png\">\n"
   ]
  },
  {
   "cell_type": "markdown",
   "metadata": {},
   "source": [
    "# Motivation"
   ]
  },
  {
   "cell_type": "code",
   "execution_count": null,
   "metadata": {},
   "outputs": [],
   "source": [
    "from IPython.display import YouTubeVideo\n",
    "YouTubeVideo('nKIu9yen5nc')"
   ]
  },
  {
   "cell_type": "markdown",
   "metadata": {},
   "source": [
    "# \"Education is not the filling of a pail, but the lighting of a fire.\""
   ]
  },
  {
   "cell_type": "markdown",
   "metadata": {},
   "source": [
    "<img src=\"https://github.com/atitus/STLinATL/raw/master/workshop1/01-introduction/chile.jpg\" align=\"right\" width=\"800\">\n",
    "\n",
    "**paraphrase of Plutarch, *On Listening* in the first century**\n",
    "\n",
    "(photo credit: Brad Barlow)"
   ]
  },
  {
   "cell_type": "markdown",
   "metadata": {},
   "source": [
    "# Background"
   ]
  },
  {
   "cell_type": "markdown",
   "metadata": {},
   "source": [
    "## 1996-1997 WebAssign"
   ]
  },
  {
   "cell_type": "markdown",
   "metadata": {},
   "source": [
    "<img src=\"https://github.com/atitus/STLinATL/raw/master/workshop1/01-introduction/WebAssignLogo.jpg\" width=800><br>"
   ]
  },
  {
   "cell_type": "markdown",
   "metadata": {},
   "source": [
    "## Matter & Interactions; VPython and GlowScript"
   ]
  },
  {
   "cell_type": "markdown",
   "metadata": {},
   "source": [
    "I work with Ruth Chabay and Bruce Sherwood, authors *Matter & Interactions*, a calculus-based introductory physics textbook. Chabay and Sherwood also co-developed VPython and GlowScript. Chabay and Sherwood are leaders for integrating computing into introductory physics. <img src=\"https://github.com/atitus/STLinATL/raw/master/workshop1/01-introduction/mandi-4e.jpg\" width=400 align=\"right\" valign=\"middle\">"
   ]
  },
  {
   "cell_type": "markdown",
   "metadata": {},
   "source": [
    "## VPython and GlowScript"
   ]
  },
  {
   "cell_type": "markdown",
   "metadata": {},
   "source": [
    "I introduce coding in introductory physics using VPython and Glowscript. Here is a [binary star system](https://www.glowscript.org/#/user/GlowScriptDemos/folder/Examples/program/BinaryStar-VPython).\n",
    "\n",
    "This is the program.\n",
    "\n",
    "```python\n",
    "GlowScript 3.0 VPython\n",
    "scene.caption = \"\"\"In GlowScript programs:\n",
    "To rotate \"camera\", drag with right button or Ctrl-drag.\n",
    "To zoom, drag with middle button or Alt/Option depressed, or use scroll wheel.\n",
    "  On a two-button mouse, middle is left + right.\n",
    "To pan left/right and up/down, Shift-drag.\n",
    "Touch screen: pinch/extend to zoom, swipe or two-finger rotate.\"\"\"\n",
    "scene.forward = vector(0,-.3,-1)\n",
    "\n",
    "G = 6.7e-11 # Newton gravitational constant\n",
    "\n",
    "giant = sphere(pos=vector(-1e11,0,0), radius=2e10, color=color.red, \n",
    "                make_trail=True, trail_type='points', interval=10, retain=50)\n",
    "giant.mass = 2e30\n",
    "giant.p = vector(0, 0, -1e4) * giant.mass\n",
    "\n",
    "dwarf = sphere(pos=vector(1.5e11,0,0), radius=1e10, color=color.yellow,\n",
    "                make_trail=True, interval=10, retain=50)\n",
    "dwarf.mass = 1e30\n",
    "dwarf.p = -giant.p\n",
    "\n",
    "dt = 1e5\n",
    "while True:\n",
    "    rate(200)\n",
    "    r = dwarf.pos - giant.pos\n",
    "    F = G * giant.mass * dwarf.mass * r.hat / mag(r)**2\n",
    "    giant.p = giant.p + F*dt\n",
    "    dwarf.p = dwarf.p - F*dt\n",
    "    giant.pos = giant.pos + (giant.p/giant.mass) * dt\n",
    "    dwarf.pos = dwarf.pos + (dwarf.p/dwarf.mass) * dt\n",
    "```"
   ]
  },
  {
   "cell_type": "markdown",
   "metadata": {},
   "source": [
    "## 1981 -- Cromer's AJP Paper on the Euler Approximation"
   ]
  },
  {
   "cell_type": "markdown",
   "metadata": {},
   "source": [
    "Alan Cromer, \"Stable solutions using the Euler approximation,\" *Am. J. Phys.* **49**, 455-459 (1981)"
   ]
  },
  {
   "cell_type": "markdown",
   "metadata": {},
   "source": [
    "<img src=\"https://github.com/atitus/STLinATL/raw/master/workshop1/01-introduction/cromer-quote.png\" align=\"center\" width=800>"
   ]
  },
  {
   "cell_type": "markdown",
   "metadata": {},
   "source": [
    "## 1981 -- Cromer's Conclusion"
   ]
  },
  {
   "cell_type": "markdown",
   "metadata": {},
   "source": [
    "The concluding sentence in Cromer's 1981 AJP paper is:\n",
    "\n",
    "<div class=\"alert alert-success\" role=\"alert\">\n",
    "With such an elegant tool at our disposal, the three-body problem may become as much a part of the introductory physics curriculum as the inclined plane.\n",
    "</div>"
   ]
  },
  {
   "cell_type": "markdown",
   "metadata": {},
   "source": [
    "## Lab Activity"
   ]
  },
  {
   "cell_type": "markdown",
   "metadata": {},
   "source": [
    "Model the motion of the water droplet in this NASA video."
   ]
  },
  {
   "cell_type": "code",
   "execution_count": null,
   "metadata": {},
   "outputs": [],
   "source": [
    "#go to t=39 s\n",
    "from IPython.display import YouTubeVideo\n",
    "YouTubeVideo('qHrBhgwq__Q')"
   ]
  },
  {
   "cell_type": "markdown",
   "metadata": {},
   "source": [
    "## Modeling the Motion of the Water Droplet"
   ]
  },
  {
   "cell_type": "markdown",
   "metadata": {},
   "source": [
    "1. Estimations\n",
    " 1. length and charge of the knitting needle\n",
    " 2. mass and charge of the water droplet\n",
    " 3. initial conditions (position and velocity) of the water droplet\n",
    "2. Code. \n",
    " For each time step:\n",
    " 1. Calculate the electric field at the location of the water droplet.\n",
    " 2. Calculate the force on the water droplet.\n",
    "  $$\\vec{F}=q\\vec{E}$$\n",
    " 3. Update the droplet's momentum.\n",
    "  $$\\vec{p}_f=\\vec{p}_i + \\vec{F}\\Delta t$$\n",
    " 4. Calculate the droplet's velocity\n",
    "  $$\\vec{v}_{avg} \\approx \\vec{v}_f =\\vec{p}_f/m$$\n",
    " 5. Update the droplet's position.\n",
    "  $$\\vec{r}_f=\\vec{r}_i + \\vec{v}_f\\ \\Delta t$$\n",
    "\n",
    "There are two loops. The outer loop is a loop in time. When computing the electric field at the location of the water droplet, you must loop (integrate) over the rod.\n",
    "\n",
    "[GlowScript Simulation](https://www.glowscript.org/#/user/Aaron_Titus/folder/talks/program/chalice)"
   ]
  },
  {
   "cell_type": "markdown",
   "metadata": {},
   "source": [
    "<img src=\"https://github.com/atitus/STLinATL/raw/master/workshop1/01-introduction/challis-1.png\" width=800>"
   ]
  },
  {
   "cell_type": "markdown",
   "metadata": {},
   "source": [
    "<img src=\"https://github.com/atitus/STLinATL/raw/master/workshop1/01-introduction/challis-3.png\" width=800>"
   ]
  },
  {
   "cell_type": "markdown",
   "metadata": {},
   "source": [
    "<img src=\"https://github.com/atitus/STLinATL/raw/master/workshop1/01-introduction/challis-4.png\" width=800>"
   ]
  },
  {
   "cell_type": "markdown",
   "metadata": {},
   "source": [
    "# Takeaways"
   ]
  },
  {
   "cell_type": "markdown",
   "metadata": {},
   "source": [
    "1. Teaching computation changes what we can/should teach in math and science classes, at all levels.\n",
    "2. By teaching computation in physics, \"one can begin training the student in professional research-related skills at an earlier stage than is traditional.\" (J. Redish)\n",
    "3. Computation can impact your entire curriculum."
   ]
  },
  {
   "cell_type": "markdown",
   "metadata": {
    "nbgrader": {
     "grade": false,
     "grade_id": "ex_3_q",
     "locked": true,
     "schema_version": 3,
     "solution": false,
     "task": false
    }
   },
   "source": [
    "# Computational Modeling"
   ]
  },
  {
   "cell_type": "markdown",
   "metadata": {},
   "source": [
    "Hurricane models have different assumptions and make different predictions. While you can't predict precisely the path of a hurricane, you can predict where it won't go. You can also do [introductory calculations to estimate storm surge and wind speed](https://theoreticallyphysics.wordpress.com/2018/09/13/storms-and-scalings/) based on the low pressure at the eye of the hurricane.\n",
    "\n",
    "<img src=\"https://github.com/atitus/STLinATL/raw/master/workshop1/01-introduction/sphagetti-models.png\">"
   ]
  },
  {
   "cell_type": "markdown",
   "metadata": {},
   "source": [
    "## Assumptions, Predictions, Error, and Refining (or Improvements)"
   ]
  },
  {
   "cell_type": "markdown",
   "metadata": {},
   "source": [
    "A model depends on assumptions, including both data and the mathematical model used. As a result, a model is always an approximation, and ethical considerations are imperative. In this article on [The State of Hurricane Forecasting](https://noaanhc.wordpress.com/2018/03/09/the-state-of-hurricane-forecasting/), the author, John Cangialosi, describes how hurricane forecasting has improved.\n",
    "\n",
    "In this image from the article, the hurricane track error is plotted as a function of forecast time. (For greater time into the future, the error in the track predication is greater.)\n",
    "\n",
    "![](https://github.com/atitus/STLinATL/raw/master/workshop1/01-introduction/track_decades_wlegend.jpg)\n",
    "\n",
    "If you look at the 48 h mark and compare the error in the last decade (approx. 65 nautical miles) to the error in 1990s (160 nautical miles) and plot the error as a circle centered at Pensacola, you can see how error might affect the ability of a community to prepare.\n",
    "\n",
    "![](https://github.com/atitus/STLinATL/raw/master/workshop1/01-introduction/1990-to-today.gif)"
   ]
  },
  {
   "cell_type": "markdown",
   "metadata": {
    "nbgrader": {
     "grade": true,
     "grade_id": "ex_3",
     "locked": false,
     "points": 2,
     "schema_version": 3,
     "solution": true,
     "task": false
    }
   },
   "source": [
    "# Exercises"
   ]
  },
  {
   "cell_type": "markdown",
   "metadata": {},
   "source": [
    "For each of these exercises, double-click the cell (in Jupyter or Google Colab) to edit the text and type `shift-enter` on your keyboard to render the cell. [Here is a more extensive reference](https://colab.research.google.com/github/atitus/Jupyter-Tutorials/blob/master/01%20Markdown.ipynb) on formatting text with Markdown."
   ]
  },
  {
   "cell_type": "markdown",
   "metadata": {},
   "source": [
    "## Exercise 1"
   ]
  },
  {
   "cell_type": "markdown",
   "metadata": {},
   "source": [
    "1. What is \"modeling\" in math and science?\n",
    "2. What is a \"model\"?"
   ]
  },
  {
   "cell_type": "markdown",
   "metadata": {
    "nbgrader": {
     "grade": false,
     "grade_id": "ex_4_q",
     "locked": true,
     "schema_version": 3,
     "solution": false,
     "task": false
    }
   },
   "source": [
    "## Exercise 2"
   ]
  },
  {
   "cell_type": "markdown",
   "metadata": {},
   "source": [
    "Find five different web sites that are related to mathematical modeling or computational modeling. I gave one example of hurricane forecasting. Find other examples or articles. Create a bulleted list of links. For each link, write the title of the page (or a brief description of the page) as the hypertext for the link. (Do not just paste a long URL.)"
   ]
  },
  {
   "cell_type": "markdown",
   "metadata": {
    "nbgrader": {
     "grade": false,
     "grade_id": "ex_5_q",
     "locked": true,
     "schema_version": 3,
     "solution": false,
     "task": false
    }
   },
   "source": [
    "## Mathematical Typesetting"
   ]
  },
  {
   "cell_type": "markdown",
   "metadata": {},
   "source": [
    "LaTeX is a language for typesetting mathematics. Most web applications, like Jupyter and Google Colab, use a library called MathJax that allows you to write a subset of LaTeX that can be displayed in a browser. \n",
    "\n",
    "For an extensive list of commands to produce math symbols, see the [Wikipedia List of mathematical symbols by subject.](https://en.wikipedia.org/wiki/List_of_mathematical_symbols_by_subject)\n",
    "\n",
    "In Jupyter, use a single `$` enclosing the expression to display the math expression within text. Use a double `$$` enclosing the expression to display the equation centered on its own line."
   ]
  },
  {
   "cell_type": "markdown",
   "metadata": {},
   "source": [
    "### Common Examples"
   ]
  },
  {
   "cell_type": "markdown",
   "metadata": {},
   "source": [
    "Input             | Rendered        |\n",
    "-----------------|----------------|\n",
    "`$\\sqrt{2}$` | $\\sqrt{2}$ |\n",
    "`$\\frac{\\pi}{2}$` | $\\frac{\\pi}{2}$ |\n",
    "`$y = a x_1^2 + b x_2 + c$` | $y = a x_1^2 + b x_2 + c$ |\n",
    "`$\\int x^2 dx$` | $\\int x^2 dx$ |\n",
    "`$\\cos(\\theta) $` | $\\cos(\\theta)$ |\n",
    "`$ (1-e^x) $` | $(1-e^x)$ | \n",
    "\n",
    "\n",
    "Here is math within a sentence, $x_1^3$.\n",
    "\n",
    "To center an equation like this:\n",
    "\n",
    "$$e^{i\\pi} + 1 = 0$$\n",
    "\n",
    "use two dollar signs before and after the expression. (This identity comes from the [Euler Formula](http://mathworld.wolfram.com/EulerFormula.html).)"
   ]
  },
  {
   "cell_type": "markdown",
   "metadata": {},
   "source": [
    "## Exercise 3"
   ]
  },
  {
   "cell_type": "markdown",
   "metadata": {},
   "source": [
    "In markdown, using LaTeX for formatting the equations, write a mathematical function for the following relationships.\n",
    "\n",
    "- linear\n",
    "- quadratic\n",
    "- exponential"
   ]
  },
  {
   "cell_type": "code",
   "execution_count": null,
   "metadata": {},
   "outputs": [],
   "source": []
  }
 ],
 "metadata": {
  "celltoolbar": "Create Assignment",
  "kernelspec": {
   "display_name": "Python 3",
   "language": "python",
   "name": "python3"
  },
  "language_info": {
   "codemirror_mode": {
    "name": "ipython",
    "version": 3
   },
   "file_extension": ".py",
   "mimetype": "text/x-python",
   "name": "python",
   "nbconvert_exporter": "python",
   "pygments_lexer": "ipython3",
   "version": "3.7.3"
  }
 },
 "nbformat": 4,
 "nbformat_minor": 2
}
